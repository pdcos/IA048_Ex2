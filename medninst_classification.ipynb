{
 "cells": [
  {
   "cell_type": "code",
   "execution_count": 70,
   "metadata": {},
   "outputs": [],
   "source": [
    "import medmnist\n",
    "from medmnist import INFO, Evaluator\n",
    "import numpy as np\n",
    "from matplotlib import pyplot as plt\n",
    "import os \n"
   ]
  },
  {
   "cell_type": "code",
   "execution_count": 35,
   "metadata": {},
   "outputs": [
    {
     "name": "stdout",
     "output_type": "stream",
     "text": [
      "train_images\n",
      "[[[139 139 138 ... 165 162 165]\n",
      "  [ 84  92  94 ... 124 116 112]\n",
      "  [ 84  82  87 ... 124 127 126]\n",
      "  ...\n",
      "  [ 63  70  83 ...  36  34  32]\n",
      "  [ 59  70  73 ...  50  40  34]\n",
      "  [ 62  65  61 ...  51  42  40]]\n",
      "\n",
      " [[ 82  85  83 ...  76  83  86]\n",
      "  [ 80  82  68 ...  59  61  64]\n",
      "  [ 56  59  60 ...  59  58  60]\n",
      "  ...\n",
      "  [ 24  23  19 ...  18  18  17]\n",
      "  [ 23  21  16 ...  24  23  19]\n",
      "  [ 22  24  18 ...  26  22  19]]\n",
      "\n",
      " [[157 155 151 ... 130 128 131]\n",
      "  [160 162 156 ... 126 126 135]\n",
      "  [129 119 122 ... 114 110 110]\n",
      "  ...\n",
      "  [ 67  66  63 ...  77  75  71]\n",
      "  [ 74  70  72 ...  80  82  76]\n",
      "  [ 85  81  73 ...  77  79  72]]\n",
      "\n",
      " ...\n",
      "\n",
      " [[159 160 167 ... 134 136 143]\n",
      "  [144 147 144 ... 123 128 143]\n",
      "  [120 129 140 ... 119 101  99]\n",
      "  ...\n",
      "  [ 54  55  53 ...  52  44  40]\n",
      "  [ 50  53  51 ...  43  46  51]\n",
      "  [ 57  52  51 ...  50  55  56]]\n",
      "\n",
      " [[ 55  57  61 ...  59  62  64]\n",
      "  [ 63  72  78 ...  68  70  71]\n",
      "  [ 51  50  64 ...  61  50  57]\n",
      "  ...\n",
      "  [ 12  12  13 ...  19  19  19]\n",
      "  [ 13  12  14 ...  17  18  18]\n",
      "  [ 12  12  15 ...  14  15  15]]\n",
      "\n",
      " [[158 159 172 ... 137 133 136]\n",
      "  [138 136 157 ... 136 132 130]\n",
      "  [137 137 137 ... 151 158 142]\n",
      "  ...\n",
      "  [ 13  13  13 ...  25  26  28]\n",
      "  [ 17  14  15 ...  20  21  23]\n",
      "  [ 18  19  17 ...  20  21  20]]]\n",
      "val_images\n",
      "[[[177 174 172 ... 181 182 193]\n",
      "  [147 145 151 ... 161 159 169]\n",
      "  [105 105 107 ... 143 150 160]\n",
      "  ...\n",
      "  [ 10  10  11 ...  36  32  32]\n",
      "  [ 11  10   8 ...  28  30  31]\n",
      "  [ 12   9   9 ...  27  32  33]]\n",
      "\n",
      " [[118 123 126 ... 109 104  98]\n",
      "  [110 125 138 ... 123 130 125]\n",
      "  [107 126 127 ... 119 117 119]\n",
      "  ...\n",
      "  [ 13  13  13 ...  13  13  12]\n",
      "  [ 13  14  14 ...  14  14  13]\n",
      "  [ 13  14  16 ...  14  14  14]]\n",
      "\n",
      " [[186 181 180 ... 185 180 200]\n",
      "  [140 134 133 ... 142 141 145]\n",
      "  [156 144 128 ... 133 132 135]\n",
      "  ...\n",
      "  [ 30  32  33 ...  20  22  22]\n",
      "  [ 30  32  35 ...  20  20  21]\n",
      "  [ 28  30  35 ...  22  20  20]]\n",
      "\n",
      " ...\n",
      "\n",
      " [[147 153 160 ... 160 167 173]\n",
      "  [111 114 120 ... 129 132 139]\n",
      "  [116 118 126 ... 141 131 148]\n",
      "  ...\n",
      "  [127 124 122 ...  84  82  73]\n",
      "  [103 103  99 ...  89  81  73]\n",
      "  [ 88  86  79 ...  76  66  55]]\n",
      "\n",
      " [[165 169 167 ... 179 194 189]\n",
      "  [156 159 166 ... 132 149 149]\n",
      "  [176 153 155 ... 151 139 149]\n",
      "  ...\n",
      "  [ 25  27  29 ...  32  42  48]\n",
      "  [ 27  29  28 ...  26  32  35]\n",
      "  [ 25  23  22 ...  21  25  27]]\n",
      "\n",
      " [[150 147 141 ... 165 170 164]\n",
      "  [ 89  95 105 ... 102  94  94]\n",
      "  [ 57  55  70 ...  75  81  97]\n",
      "  ...\n",
      "  [ 25  24  23 ...  24  24  24]\n",
      "  [ 23  23  22 ...  20  22  21]\n",
      "  [ 22  22  21 ...  19  19  19]]]\n",
      "test_images\n",
      "[[[184 183 174 ... 140 150 157]\n",
      "  [154 170 164 ... 183 192 198]\n",
      "  [129 139 159 ... 185 199 200]\n",
      "  ...\n",
      "  [ 16  14  12 ...  22  28  30]\n",
      "  [ 15  15  14 ...  19  22  23]\n",
      "  [ 15  15  14 ...  15  18  20]]\n",
      "\n",
      " [[ 43  44  51 ...  55  54  52]\n",
      "  [ 37  41  52 ...  63  63  62]\n",
      "  [ 30  40  51 ...  58  55  62]\n",
      "  ...\n",
      "  [  9  10  10 ...  14  14  13]\n",
      "  [ 10  10  10 ...  11  12  12]\n",
      "  [  9  10  10 ...  12  12  11]]\n",
      "\n",
      " [[187 179 174 ... 149 146 148]\n",
      "  [160 151 137 ... 147 148 131]\n",
      "  [147 141 133 ... 141 150 153]\n",
      "  ...\n",
      "  [ 99  92  99 ...  60  55  51]\n",
      "  [106 102  96 ...  50  47  43]\n",
      "  [101 111 126 ...  46  42  41]]\n",
      "\n",
      " ...\n",
      "\n",
      " [[127 127 125 ... 135 134 130]\n",
      "  [129 132 137 ... 130 124 128]\n",
      "  [117 118 117 ... 109 109 112]\n",
      "  ...\n",
      "  [ 25  23  21 ...  22  24  26]\n",
      "  [ 24  23  22 ...  24  24  25]\n",
      "  [ 23  21  20 ...  23  24  24]]\n",
      "\n",
      " [[109 107 112 ... 101 104 108]\n",
      "  [ 96  76  70 ...  66  71  78]\n",
      "  [ 86  83  69 ...  60  73  74]\n",
      "  ...\n",
      "  [  1   1   1 ...   1   1   1]\n",
      "  [  1   1   1 ...   1   1   1]\n",
      "  [  1   1   1 ...   1   1   1]]\n",
      "\n",
      " [[173 164 165 ... 163 161 155]\n",
      "  [138 128 136 ... 127 120 115]\n",
      "  [140 127 122 ...  79  81  85]\n",
      "  ...\n",
      "  [ 35  48  72 ...  15  17  17]\n",
      "  [ 27  34  50 ...  17  18  18]\n",
      "  [ 22  26  31 ...  17  18  19]]]\n",
      "train_labels\n",
      "[[1]\n",
      " [1]\n",
      " [1]\n",
      " [1]\n",
      " [0]\n",
      " [1]\n",
      " [1]\n",
      " [1]\n",
      " [0]\n",
      " [1]\n",
      " [1]\n",
      " [1]\n",
      " [0]\n",
      " [1]\n",
      " [0]\n",
      " [1]\n",
      " [1]\n",
      " [1]\n",
      " [1]\n",
      " [1]\n",
      " [1]\n",
      " [1]\n",
      " [0]\n",
      " [1]\n",
      " [1]\n",
      " [1]\n",
      " [1]\n",
      " [0]\n",
      " [1]\n",
      " [1]\n",
      " [0]\n",
      " [0]\n",
      " [0]\n",
      " [1]\n",
      " [1]\n",
      " [1]\n",
      " [1]\n",
      " [1]\n",
      " [1]\n",
      " [1]\n",
      " [1]\n",
      " [1]\n",
      " [1]\n",
      " [1]\n",
      " [1]\n",
      " [0]\n",
      " [1]\n",
      " [1]\n",
      " [1]\n",
      " [0]\n",
      " [1]\n",
      " [0]\n",
      " [0]\n",
      " [1]\n",
      " [1]\n",
      " [0]\n",
      " [1]\n",
      " [1]\n",
      " [0]\n",
      " [1]\n",
      " [1]\n",
      " [1]\n",
      " [1]\n",
      " [1]\n",
      " [0]\n",
      " [1]\n",
      " [0]\n",
      " [1]\n",
      " [1]\n",
      " [1]\n",
      " [1]\n",
      " [1]\n",
      " [0]\n",
      " [1]\n",
      " [0]\n",
      " [1]\n",
      " [1]\n",
      " [1]\n",
      " [1]\n",
      " [1]\n",
      " [1]\n",
      " [1]\n",
      " [1]\n",
      " [1]\n",
      " [1]\n",
      " [0]\n",
      " [1]\n",
      " [1]\n",
      " [1]\n",
      " [1]\n",
      " [1]\n",
      " [1]\n",
      " [1]\n",
      " [1]\n",
      " [1]\n",
      " [0]\n",
      " [1]\n",
      " [1]\n",
      " [0]\n",
      " [0]\n",
      " [1]\n",
      " [1]\n",
      " [1]\n",
      " [0]\n",
      " [1]\n",
      " [1]\n",
      " [1]\n",
      " [1]\n",
      " [1]\n",
      " [1]\n",
      " [1]\n",
      " [1]\n",
      " [1]\n",
      " [1]\n",
      " [1]\n",
      " [0]\n",
      " [1]\n",
      " [1]\n",
      " [0]\n",
      " [1]\n",
      " [1]\n",
      " [1]\n",
      " [0]\n",
      " [1]\n",
      " [1]\n",
      " [1]\n",
      " [1]\n",
      " [1]\n",
      " [1]\n",
      " [1]\n",
      " [1]\n",
      " [1]\n",
      " [0]\n",
      " [1]\n",
      " [1]\n",
      " [1]\n",
      " [1]\n",
      " [1]\n",
      " [0]\n",
      " [0]\n",
      " [1]\n",
      " [1]\n",
      " [0]\n",
      " [1]\n",
      " [0]\n",
      " [1]\n",
      " [1]\n",
      " [1]\n",
      " [1]\n",
      " [0]\n",
      " [1]\n",
      " [1]\n",
      " [1]\n",
      " [1]\n",
      " [1]\n",
      " [1]\n",
      " [0]\n",
      " [1]\n",
      " [0]\n",
      " [1]\n",
      " [1]\n",
      " [1]\n",
      " [1]\n",
      " [0]\n",
      " [0]\n",
      " [1]\n",
      " [0]\n",
      " [1]\n",
      " [1]\n",
      " [1]\n",
      " [0]\n",
      " [1]\n",
      " [1]\n",
      " [0]\n",
      " [0]\n",
      " [1]\n",
      " [1]\n",
      " [1]\n",
      " [1]\n",
      " [1]\n",
      " [1]\n",
      " [1]\n",
      " [0]\n",
      " [0]\n",
      " [1]\n",
      " [0]\n",
      " [1]\n",
      " [1]\n",
      " [1]\n",
      " [1]\n",
      " [0]\n",
      " [1]\n",
      " [0]\n",
      " [1]\n",
      " [1]\n",
      " [1]\n",
      " [0]\n",
      " [1]\n",
      " [1]\n",
      " [1]\n",
      " [0]\n",
      " [1]\n",
      " [1]\n",
      " [0]\n",
      " [0]\n",
      " [1]\n",
      " [1]\n",
      " [1]\n",
      " [0]\n",
      " [1]\n",
      " [1]\n",
      " [1]\n",
      " [0]\n",
      " [1]\n",
      " [1]\n",
      " [0]\n",
      " [1]\n",
      " [1]\n",
      " [1]\n",
      " [1]\n",
      " [0]\n",
      " [1]\n",
      " [1]\n",
      " [0]\n",
      " [0]\n",
      " [1]\n",
      " [0]\n",
      " [1]\n",
      " [0]\n",
      " [1]\n",
      " [0]\n",
      " [0]\n",
      " [0]\n",
      " [0]\n",
      " [1]\n",
      " [1]\n",
      " [1]\n",
      " [1]\n",
      " [1]\n",
      " [1]\n",
      " [1]\n",
      " [1]\n",
      " [0]\n",
      " [0]\n",
      " [1]\n",
      " [1]\n",
      " [1]\n",
      " [1]\n",
      " [1]\n",
      " [1]\n",
      " [1]\n",
      " [1]\n",
      " [1]\n",
      " [1]\n",
      " [1]\n",
      " [1]\n",
      " [0]\n",
      " [0]\n",
      " [1]\n",
      " [0]\n",
      " [0]\n",
      " [0]\n",
      " [1]\n",
      " [1]\n",
      " [1]\n",
      " [1]\n",
      " [1]\n",
      " [1]\n",
      " [0]\n",
      " [1]\n",
      " [1]\n",
      " [1]\n",
      " [1]\n",
      " [1]\n",
      " [1]\n",
      " [0]\n",
      " [1]\n",
      " [1]\n",
      " [1]\n",
      " [1]\n",
      " [1]\n",
      " [0]\n",
      " [1]\n",
      " [1]\n",
      " [1]\n",
      " [1]\n",
      " [1]\n",
      " [0]\n",
      " [0]\n",
      " [0]\n",
      " [1]\n",
      " [1]\n",
      " [1]\n",
      " [1]\n",
      " [1]\n",
      " [1]\n",
      " [1]\n",
      " [0]\n",
      " [1]\n",
      " [1]\n",
      " [1]\n",
      " [0]\n",
      " [1]\n",
      " [0]\n",
      " [1]\n",
      " [1]\n",
      " [1]\n",
      " [0]\n",
      " [0]\n",
      " [1]\n",
      " [0]\n",
      " [1]\n",
      " [0]\n",
      " [1]\n",
      " [0]\n",
      " [1]\n",
      " [0]\n",
      " [0]\n",
      " [1]\n",
      " [1]\n",
      " [1]\n",
      " [1]\n",
      " [1]\n",
      " [1]\n",
      " [0]\n",
      " [1]\n",
      " [1]\n",
      " [1]\n",
      " [0]\n",
      " [1]\n",
      " [0]\n",
      " [1]\n",
      " [0]\n",
      " [0]\n",
      " [1]\n",
      " [1]\n",
      " [1]\n",
      " [1]\n",
      " [1]\n",
      " [1]\n",
      " [0]\n",
      " [1]\n",
      " [0]\n",
      " [1]\n",
      " [0]\n",
      " [0]\n",
      " [0]\n",
      " [1]\n",
      " [1]\n",
      " [1]\n",
      " [1]\n",
      " [1]\n",
      " [1]\n",
      " [1]\n",
      " [1]\n",
      " [1]\n",
      " [1]\n",
      " [0]\n",
      " [1]\n",
      " [0]\n",
      " [1]\n",
      " [1]\n",
      " [1]\n",
      " [1]\n",
      " [0]\n",
      " [0]\n",
      " [0]\n",
      " [1]\n",
      " [1]\n",
      " [0]\n",
      " [0]\n",
      " [0]\n",
      " [0]\n",
      " [1]\n",
      " [1]\n",
      " [0]\n",
      " [1]\n",
      " [0]\n",
      " [0]\n",
      " [1]\n",
      " [1]\n",
      " [0]\n",
      " [1]\n",
      " [0]\n",
      " [1]\n",
      " [1]\n",
      " [0]\n",
      " [1]\n",
      " [1]\n",
      " [1]\n",
      " [1]\n",
      " [1]\n",
      " [1]\n",
      " [1]\n",
      " [1]\n",
      " [1]\n",
      " [1]\n",
      " [1]\n",
      " [1]\n",
      " [1]\n",
      " [1]\n",
      " [1]\n",
      " [1]\n",
      " [0]\n",
      " [1]\n",
      " [1]\n",
      " [1]\n",
      " [1]\n",
      " [1]\n",
      " [0]\n",
      " [1]\n",
      " [0]\n",
      " [1]\n",
      " [1]\n",
      " [0]\n",
      " [1]\n",
      " [1]\n",
      " [0]\n",
      " [1]\n",
      " [1]\n",
      " [0]\n",
      " [1]\n",
      " [1]\n",
      " [0]\n",
      " [0]\n",
      " [1]\n",
      " [1]\n",
      " [1]\n",
      " [1]\n",
      " [1]\n",
      " [0]\n",
      " [1]\n",
      " [1]\n",
      " [1]\n",
      " [1]\n",
      " [1]\n",
      " [0]\n",
      " [1]\n",
      " [1]\n",
      " [0]\n",
      " [1]\n",
      " [1]\n",
      " [1]\n",
      " [0]\n",
      " [1]\n",
      " [1]\n",
      " [0]\n",
      " [0]\n",
      " [1]\n",
      " [1]\n",
      " [1]\n",
      " [1]\n",
      " [1]\n",
      " [1]\n",
      " [0]\n",
      " [1]\n",
      " [1]\n",
      " [1]\n",
      " [1]\n",
      " [1]\n",
      " [1]\n",
      " [1]\n",
      " [1]\n",
      " [1]\n",
      " [0]\n",
      " [1]\n",
      " [1]\n",
      " [0]\n",
      " [1]\n",
      " [1]\n",
      " [1]\n",
      " [0]\n",
      " [0]\n",
      " [1]\n",
      " [1]\n",
      " [0]\n",
      " [1]\n",
      " [1]\n",
      " [0]\n",
      " [1]\n",
      " [1]\n",
      " [1]\n",
      " [1]\n",
      " [0]\n",
      " [1]\n",
      " [1]\n",
      " [1]\n",
      " [1]\n",
      " [1]\n",
      " [0]\n",
      " [0]\n",
      " [1]\n",
      " [0]\n",
      " [1]\n",
      " [1]\n",
      " [1]\n",
      " [0]\n",
      " [1]\n",
      " [1]\n",
      " [1]\n",
      " [1]\n",
      " [1]\n",
      " [0]\n",
      " [0]\n",
      " [1]\n",
      " [1]\n",
      " [1]\n",
      " [0]\n",
      " [1]\n",
      " [1]\n",
      " [1]\n",
      " [1]\n",
      " [1]\n",
      " [1]\n",
      " [1]\n",
      " [1]\n",
      " [0]\n",
      " [1]\n",
      " [0]\n",
      " [1]\n",
      " [1]\n",
      " [0]\n",
      " [1]\n",
      " [1]\n",
      " [1]\n",
      " [1]\n",
      " [1]\n",
      " [0]\n",
      " [1]\n",
      " [1]\n",
      " [1]\n",
      " [1]\n",
      " [1]\n",
      " [1]\n",
      " [0]\n",
      " [1]\n",
      " [0]\n",
      " [0]\n",
      " [1]\n",
      " [1]\n",
      " [1]\n",
      " [1]\n",
      " [1]\n",
      " [1]\n",
      " [1]\n",
      " [0]]\n",
      "val_labels\n",
      "[[0]\n",
      " [1]\n",
      " [1]\n",
      " [0]\n",
      " [1]\n",
      " [1]\n",
      " [1]\n",
      " [1]\n",
      " [1]\n",
      " [1]\n",
      " [1]\n",
      " [0]\n",
      " [1]\n",
      " [1]\n",
      " [0]\n",
      " [1]\n",
      " [1]\n",
      " [1]\n",
      " [0]\n",
      " [1]\n",
      " [0]\n",
      " [1]\n",
      " [1]\n",
      " [1]\n",
      " [0]\n",
      " [1]\n",
      " [1]\n",
      " [1]\n",
      " [0]\n",
      " [1]\n",
      " [0]\n",
      " [1]\n",
      " [1]\n",
      " [0]\n",
      " [1]\n",
      " [1]\n",
      " [1]\n",
      " [1]\n",
      " [1]\n",
      " [1]\n",
      " [1]\n",
      " [1]\n",
      " [1]\n",
      " [1]\n",
      " [0]\n",
      " [0]\n",
      " [1]\n",
      " [0]\n",
      " [1]\n",
      " [0]\n",
      " [1]\n",
      " [1]\n",
      " [1]\n",
      " [1]\n",
      " [1]\n",
      " [1]\n",
      " [1]\n",
      " [1]\n",
      " [1]\n",
      " [0]\n",
      " [1]\n",
      " [1]\n",
      " [1]\n",
      " [0]\n",
      " [1]\n",
      " [1]\n",
      " [0]\n",
      " [0]\n",
      " [1]\n",
      " [1]\n",
      " [1]\n",
      " [0]\n",
      " [1]\n",
      " [0]\n",
      " [0]\n",
      " [1]\n",
      " [1]\n",
      " [1]]\n",
      "test_labels\n",
      "[[0]\n",
      " [1]\n",
      " [1]\n",
      " [1]\n",
      " [1]\n",
      " [1]\n",
      " [0]\n",
      " [0]\n",
      " [1]\n",
      " [1]\n",
      " [0]\n",
      " [0]\n",
      " [1]\n",
      " [0]\n",
      " [1]\n",
      " [0]\n",
      " [1]\n",
      " [1]\n",
      " [1]\n",
      " [1]\n",
      " [0]\n",
      " [1]\n",
      " [1]\n",
      " [0]\n",
      " [0]\n",
      " [1]\n",
      " [0]\n",
      " [1]\n",
      " [1]\n",
      " [1]\n",
      " [1]\n",
      " [1]\n",
      " [1]\n",
      " [1]\n",
      " [1]\n",
      " [0]\n",
      " [1]\n",
      " [1]\n",
      " [0]\n",
      " [1]\n",
      " [0]\n",
      " [1]\n",
      " [0]\n",
      " [1]\n",
      " [0]\n",
      " [0]\n",
      " [1]\n",
      " [1]\n",
      " [0]\n",
      " [1]\n",
      " [1]\n",
      " [1]\n",
      " [1]\n",
      " [1]\n",
      " [1]\n",
      " [0]\n",
      " [1]\n",
      " [1]\n",
      " [0]\n",
      " [1]\n",
      " [1]\n",
      " [1]\n",
      " [1]\n",
      " [1]\n",
      " [1]\n",
      " [1]\n",
      " [1]\n",
      " [1]\n",
      " [0]\n",
      " [1]\n",
      " [1]\n",
      " [1]\n",
      " [1]\n",
      " [1]\n",
      " [1]\n",
      " [1]\n",
      " [1]\n",
      " [0]\n",
      " [1]\n",
      " [1]\n",
      " [1]\n",
      " [1]\n",
      " [1]\n",
      " [1]\n",
      " [1]\n",
      " [0]\n",
      " [1]\n",
      " [1]\n",
      " [1]\n",
      " [1]\n",
      " [1]\n",
      " [1]\n",
      " [1]\n",
      " [1]\n",
      " [1]\n",
      " [0]\n",
      " [1]\n",
      " [1]\n",
      " [1]\n",
      " [1]\n",
      " [1]\n",
      " [1]\n",
      " [1]\n",
      " [1]\n",
      " [0]\n",
      " [1]\n",
      " [0]\n",
      " [0]\n",
      " [1]\n",
      " [1]\n",
      " [0]\n",
      " [1]\n",
      " [0]\n",
      " [1]\n",
      " [0]\n",
      " [1]\n",
      " [1]\n",
      " [1]\n",
      " [1]\n",
      " [0]\n",
      " [0]\n",
      " [1]\n",
      " [1]\n",
      " [0]\n",
      " [1]\n",
      " [1]\n",
      " [0]\n",
      " [0]\n",
      " [0]\n",
      " [1]\n",
      " [1]\n",
      " [1]\n",
      " [0]\n",
      " [1]\n",
      " [1]\n",
      " [0]\n",
      " [1]\n",
      " [1]\n",
      " [0]\n",
      " [1]\n",
      " [1]\n",
      " [0]\n",
      " [1]\n",
      " [1]\n",
      " [1]\n",
      " [1]\n",
      " [1]\n",
      " [1]\n",
      " [1]\n",
      " [1]\n",
      " [0]\n",
      " [1]\n",
      " [1]\n",
      " [0]\n",
      " [1]\n",
      " [1]]\n"
     ]
    }
   ],
   "source": [
    "data = np.load(\"breastmnist.npz\", allow_pickle=True)\n",
    "lst = data.files\n",
    "for item in lst:\n",
    "    print(item)\n",
    "    print(data[item])\n"
   ]
  },
  {
   "cell_type": "code",
   "execution_count": 36,
   "metadata": {},
   "outputs": [
    {
     "data": {
      "text/plain": [
       "['train_images',\n",
       " 'val_images',\n",
       " 'test_images',\n",
       " 'train_labels',\n",
       " 'val_labels',\n",
       " 'test_labels']"
      ]
     },
     "execution_count": 36,
     "metadata": {},
     "output_type": "execute_result"
    }
   ],
   "source": [
    "lst"
   ]
  },
  {
   "cell_type": "code",
   "execution_count": 66,
   "metadata": {},
   "outputs": [],
   "source": [
    "x_train, y_train = data[\"train_images\"], data[\"train_labels\"]\n",
    "x_val, y_val = data[\"val_images\"], data[\"val_labels\"]\n",
    "x_test, y_test = data[\"test_images\"], data[\"test_labels\"]\n",
    "\n",
    "x_train = x_train.reshape(-1, 28**2)\n",
    "x_val = x_val.reshape(-1, 28**2)\n",
    "x_test = x_test.reshape(-1, 28**2)\n",
    "\n",
    "y_train = y_train.ravel()\n",
    "y_val = y_val.ravel()\n",
    "y_test = y_test.ravel()\n",
    "\n",
    "x_train_val = np.concatenate((x_train, x_val))\n",
    "y_train_val = np.concatenate((y_train, y_val))"
   ]
  },
  {
   "cell_type": "code",
   "execution_count": 38,
   "metadata": {},
   "outputs": [
    {
     "name": "stdout",
     "output_type": "stream",
     "text": [
      "Tamanho do conjunto de treino: 546\n",
      "Tamanho do conjunto de validação: 78\n",
      "Tamanho do conjunto de teste: 156\n"
     ]
    }
   ],
   "source": [
    "print(f\"Tamanho do conjunto de treino: {len(x_train)}\")\n",
    "print(f\"Tamanho do conjunto de validação: {len(x_val)}\")\n",
    "print(f\"Tamanho do conjunto de teste: {len(x_test)}\")"
   ]
  },
  {
   "cell_type": "code",
   "execution_count": 39,
   "metadata": {},
   "outputs": [
    {
     "name": "stdout",
     "output_type": "stream",
     "text": [
      "Dimensões de uma imagem do dataset: (28, 28)\n"
     ]
    },
    {
     "data": {
      "image/png": "[encoded data removed]",
      "text/plain": [
       "<Figure size 432x288 with 1 Axes>"
      ]
     },
     "metadata": {
      "needs_background": "light"
     },
     "output_type": "display_data"
    }
   ],
   "source": [
    "# Plotando um exemplo de imagem do conjunto de treino\n",
    "img_example = x_train[0].reshape(28,28)\n",
    "plt.imshow(img_example, cmap=\"gray\")\n",
    "print(f\"Dimensões de uma imagem do dataset: {img_example.shape}\")"
   ]
  },
  {
   "cell_type": "markdown",
   "metadata": {},
   "source": [
    "# Balanceamento do conjunto de treino"
   ]
  },
  {
   "cell_type": "code",
   "execution_count": 40,
   "metadata": {},
   "outputs": [
    {
     "name": "stdout",
     "output_type": "stream",
     "text": [
      "Possíveis [0 1]\n",
      "Classes positivas: 399 (73.07692307692307 %)\n",
      "Classes negativas: 147 (26.923076923076923 %)\n",
      "O dataset está DESBALANCEADO\n"
     ]
    }
   ],
   "source": [
    "possible_classes = np.unique(y_train)\n",
    "p_class = len(y_train[y_train == 1])\n",
    "n_class = len(y_train[y_train == 0])\n",
    "\n",
    "print(f\"Possíveis {possible_classes}\")\n",
    "print(f\"Classes positivas: {p_class} ({p_class/len(y_train) *100 } %)\")\n",
    "print(f\"Classes negativas: {n_class} ({n_class/len(y_train) *100 } %)\")\n",
    "print(\"O dataset está DESBALANCEADO\")"
   ]
  },
  {
   "cell_type": "code",
   "execution_count": 60,
   "metadata": {},
   "outputs": [
    {
     "name": "stdout",
     "output_type": "stream",
     "text": [
      "1.0\n",
      "0.8717948717948718\n",
      "0.7756410256410257\n"
     ]
    }
   ],
   "source": [
    "from sklearn.linear_model import LogisticRegression\n",
    "from sklearn.model_selection import GridSearchCV\n",
    "\n",
    "\n",
    "model = LogisticRegression(max_iter=5000, class_weight=\"balanced\")\n",
    "model.fit(x_train, y_train)\n",
    "print(model.score(x_train, y_train))\n",
    "print(model.score(x_val, y_val))\n",
    "print(model.score(x_test, y_test))\n",
    "\n"
   ]
  },
  {
   "cell_type": "code",
   "execution_count": 74,
   "metadata": {},
   "outputs": [
    {
     "name": "stdout",
     "output_type": "stream",
     "text": [
      "Fitting 5 folds for each of 200 candidates, totalling 1000 fits\n"
     ]
    },
    {
     "name": "stderr",
     "output_type": "stream",
     "text": [
      "/Users/pdcos/Library/Python/3.8/lib/python/site-packages/sklearn/linear_model/_logistic.py:1483: UserWarning: Setting penalty='none' will ignore the C and l1_ratio parameters\n",
      "  warnings.warn(\n",
      "/Users/pdcos/Library/Python/3.8/lib/python/site-packages/sklearn/linear_model/_logistic.py:1483: UserWarning: Setting penalty='none' will ignore the C and l1_ratio parameters\n",
      "  warnings.warn(\n",
      "/Users/pdcos/Library/Python/3.8/lib/python/site-packages/sklearn/linear_model/_logistic.py:1483: UserWarning: Setting penalty='none' will ignore the C and l1_ratio parameters\n",
      "  warnings.warn(\n",
      "/Users/pdcos/Library/Python/3.8/lib/python/site-packages/sklearn/linear_model/_logistic.py:1483: UserWarning: Setting penalty='none' will ignore the C and l1_ratio parameters\n",
      "  warnings.warn(\n"
     ]
    },
    {
     "name": "stdout",
     "output_type": "stream",
     "text": [
      "[CV 1/5] END C=0.0001, penalty=none, solver=newton-cg;, score=0.752 total time=   0.4s\n",
      "[CV 1/5] END C=0.0001, penalty=none, solver=lbfgs;, score=0.744 total time=   0.2s\n",
      "[CV 4/5] END C=0.0001, penalty=none, solver=lbfgs;, score=0.752 total time=   0.1s\n",
      "[CV 2/5] END C=0.0001, penalty=none, solver=lbfgs;, score=0.768 total time=   0.2s\n"
     ]
    },
    {
     "name": "stderr",
     "output_type": "stream",
     "text": [
      "/Users/pdcos/Library/Python/3.8/lib/python/site-packages/sklearn/linear_model/_logistic.py:1483: UserWarning: Setting penalty='none' will ignore the C and l1_ratio parameters\n",
      "  warnings.warn(\n",
      "/Users/pdcos/Library/Python/3.8/lib/python/site-packages/sklearn/linear_model/_logistic.py:1483: UserWarning: Setting penalty='none' will ignore the C and l1_ratio parameters\n",
      "  warnings.warn(\n",
      "/Users/pdcos/Library/Python/3.8/lib/python/site-packages/sklearn/linear_model/_logistic.py:1483: UserWarning: Setting penalty='none' will ignore the C and l1_ratio parameters\n",
      "  warnings.warn(\n",
      "/Users/pdcos/Library/Python/3.8/lib/python/site-packages/sklearn/linear_model/_logistic.py:1483: UserWarning: Setting penalty='none' will ignore the C and l1_ratio parameters\n",
      "  warnings.warn(\n",
      "/Users/pdcos/Library/Python/3.8/lib/python/site-packages/sklearn/linear_model/_logistic.py:1483: UserWarning: Setting penalty='none' will ignore the C and l1_ratio parameters\n",
      "  warnings.warn(\n",
      "/Users/pdcos/Library/Python/3.8/lib/python/site-packages/sklearn/linear_model/_logistic.py:1483: UserWarning: Setting penalty='none' will ignore the C and l1_ratio parameters\n",
      "  warnings.warn(\n",
      "/Users/pdcos/Library/Python/3.8/lib/python/site-packages/sklearn/linear_model/_logistic.py:1483: UserWarning: Setting penalty='none' will ignore the C and l1_ratio parameters\n",
      "  warnings.warn(\n",
      "/Users/pdcos/Library/Python/3.8/lib/python/site-packages/sklearn/linear_model/_logistic.py:1483: UserWarning: Setting penalty='none' will ignore the C and l1_ratio parameters\n",
      "  warnings.warn(\n",
      "/Users/pdcos/Library/Python/3.8/lib/python/site-packages/sklearn/linear_model/_logistic.py:1483: UserWarning: Setting penalty='none' will ignore the C and l1_ratio parameters\n",
      "  warnings.warn(\n",
      "/Users/pdcos/Library/Python/3.8/lib/python/site-packages/sklearn/linear_model/_logistic.py:1483: UserWarning: Setting penalty='none' will ignore the C and l1_ratio parameters\n",
      "  warnings.warn(\n"
     ]
    },
    {
     "name": "stdout",
     "output_type": "stream",
     "text": [
      "[CV 1/5] END C=0.0001, penalty=none, solver=liblinear;, score=nan total time=   0.0s\n",
      "[CV 2/5] END C=0.0001, penalty=none, solver=liblinear;, score=nan total time=   0.0s\n",
      "[CV 3/5] END C=0.0001, penalty=none, solver=liblinear;, score=nan total time=   0.0s\n",
      "[CV 4/5] END C=0.0001, penalty=none, solver=liblinear;, score=nan total time=   0.0s\n",
      "[CV 5/5] END C=0.0001, penalty=none, solver=liblinear;, score=nan total time=   0.0s\n",
      "[CV 2/5] END C=0.0001, penalty=none, solver=newton-cg;, score=0.768 total time=   0.6s\n",
      "[CV 4/5] END C=0.0001, penalty=none, solver=newton-cg;, score=0.752 total time=   0.5s\n",
      "[CV 3/5] END C=0.0001, penalty=none, solver=lbfgs;, score=0.792 total time=   0.4s\n",
      "[CV 5/5] END C=0.0001, penalty=none, solver=lbfgs;, score=0.774 total time=   0.2s\n",
      "[CV 3/5] END C=0.0001, penalty=none, solver=newton-cg;, score=0.800 total time=   0.6s\n",
      "[CV 5/5] END C=0.0001, penalty=none, solver=newton-cg;, score=0.790 total time=   0.5s\n"
     ]
    },
    {
     "name": "stderr",
     "output_type": "stream",
     "text": [
      "/Users/pdcos/Library/Python/3.8/lib/python/site-packages/sklearn/linear_model/_logistic.py:1483: UserWarning: Setting penalty='none' will ignore the C and l1_ratio parameters\n",
      "  warnings.warn(\n",
      "/Users/pdcos/Library/Python/3.8/lib/python/site-packages/sklearn/linear_model/_logistic.py:1483: UserWarning: Setting penalty='none' will ignore the C and l1_ratio parameters\n",
      "  warnings.warn(\n",
      "/Users/pdcos/Library/Python/3.8/lib/python/site-packages/sklearn/linear_model/_logistic.py:1483: UserWarning: Setting penalty='none' will ignore the C and l1_ratio parameters\n",
      "  warnings.warn(\n",
      "/Users/pdcos/Library/Python/3.8/lib/python/site-packages/sklearn/linear_model/_logistic.py:1483: UserWarning: Setting penalty='none' will ignore the C and l1_ratio parameters\n",
      "  warnings.warn(\n"
     ]
    },
    {
     "name": "stdout",
     "output_type": "stream",
     "text": [
      "[CV 5/5] END C=0.0001, penalty=none, solver=sag;, score=0.798 total time=  15.9s\n"
     ]
    },
    {
     "name": "stderr",
     "output_type": "stream",
     "text": [
      "/Users/pdcos/Library/Python/3.8/lib/python/site-packages/sklearn/linear_model/_logistic.py:1483: UserWarning: Setting penalty='none' will ignore the C and l1_ratio parameters\n",
      "  warnings.warn(\n"
     ]
    },
    {
     "name": "stdout",
     "output_type": "stream",
     "text": [
      "[CV 4/5] END C=0.0001, penalty=none, solver=sag;, score=0.760 total time=  16.8s\n"
     ]
    },
    {
     "name": "stderr",
     "output_type": "stream",
     "text": [
      "/Users/pdcos/Library/Python/3.8/lib/python/site-packages/sklearn/linear_model/_logistic.py:1483: UserWarning: Setting penalty='none' will ignore the C and l1_ratio parameters\n",
      "  warnings.warn(\n"
     ]
    },
    {
     "name": "stdout",
     "output_type": "stream",
     "text": [
      "[CV 1/5] END C=0.0001, penalty=none, solver=sag;, score=0.760 total time=  17.4s\n",
      "[CV 1/5] END C=0.0001, penalty=l1, solver=newton-cg;, score=nan total time=   0.0s\n",
      "[CV 2/5] END C=0.0001, penalty=l1, solver=newton-cg;, score=nan total time=   0.0s\n",
      "[CV 3/5] END C=0.0001, penalty=l1, solver=newton-cg;, score=nan total time=   0.0s\n",
      "[CV 4/5] END C=0.0001, penalty=l1, solver=newton-cg;, score=nan total time=   0.0s\n",
      "[CV 5/5] END C=0.0001, penalty=l1, solver=newton-cg;, score=nan total time=   0.0s\n",
      "[CV 1/5] END ..C=0.0001, penalty=l1, solver=lbfgs;, score=nan total time=   0.0s\n",
      "[CV 2/5] END ..C=0.0001, penalty=l1, solver=lbfgs;, score=nan total time=   0.0s\n",
      "[CV 3/5] END ..C=0.0001, penalty=l1, solver=lbfgs;, score=nan total time=   0.0s\n",
      "[CV 4/5] END ..C=0.0001, penalty=l1, solver=lbfgs;, score=nan total time=   0.0s\n",
      "[CV 5/5] END ..C=0.0001, penalty=l1, solver=lbfgs;, score=nan total time=   0.0s\n",
      "[CV 1/5] END C=0.0001, penalty=l1, solver=liblinear;, score=0.264 total time=   0.0s\n",
      "[CV 2/5] END C=0.0001, penalty=l1, solver=liblinear;, score=0.272 total time=   0.0s\n",
      "[CV 3/5] END C=0.0001, penalty=l1, solver=liblinear;, score=0.272 total time=   0.0s\n",
      "[CV 4/5] END C=0.0001, penalty=l1, solver=liblinear;, score=0.272 total time=   0.0s\n",
      "[CV 5/5] END C=0.0001, penalty=l1, solver=liblinear;, score=0.266 total time=   0.0s\n",
      "[CV 1/5] END ....C=0.0001, penalty=l1, solver=sag;, score=nan total time=   0.0s\n",
      "[CV 2/5] END ....C=0.0001, penalty=l1, solver=sag;, score=nan total time=   0.0s\n",
      "[CV 3/5] END ....C=0.0001, penalty=l1, solver=sag;, score=nan total time=   0.0s\n",
      "[CV 4/5] END ....C=0.0001, penalty=l1, solver=sag;, score=nan total time=   0.0s\n",
      "[CV 5/5] END ....C=0.0001, penalty=l1, solver=sag;, score=nan total time=   0.0s\n",
      "[CV 1/5] END .C=0.0001, penalty=l1, solver=saga;, score=0.736 total time=   0.0s\n",
      "[CV 2/5] END .C=0.0001, penalty=l1, solver=saga;, score=0.728 total time=   0.0s\n",
      "[CV 2/5] END C=0.0001, penalty=none, solver=sag;, score=0.776 total time=  17.8s\n",
      "[CV 3/5] END .C=0.0001, penalty=l1, solver=saga;, score=0.728 total time=   0.1s\n",
      "[CV 4/5] END .C=0.0001, penalty=l1, solver=saga;, score=0.728 total time=   0.0s\n",
      "[CV 5/5] END .C=0.0001, penalty=l1, solver=saga;, score=0.734 total time=   0.0s\n",
      "[CV 3/5] END C=0.0001, penalty=none, solver=sag;, score=0.776 total time=  18.4s\n",
      "[CV 2/5] END C=0.0001, penalty=l2, solver=newton-cg;, score=0.728 total time=   0.7s\n",
      "[CV 1/5] END C=0.0001, penalty=l2, solver=newton-cg;, score=0.760 total time=   0.7s\n",
      "[CV 3/5] END C=0.0001, penalty=l2, solver=newton-cg;, score=0.768 total time=   0.5s\n",
      "[CV 4/5] END C=0.0001, penalty=l2, solver=newton-cg;, score=0.768 total time=   0.6s\n",
      "[CV 5/5] END C=0.0001, penalty=l2, solver=newton-cg;, score=0.798 total time=   0.5s\n",
      "[CV 1/5] END C=0.0001, penalty=l2, solver=lbfgs;, score=0.760 total time=   0.3s\n",
      "[CV 2/5] END C=0.0001, penalty=l2, solver=lbfgs;, score=0.728 total time=   0.3s\n",
      "[CV 3/5] END C=0.0001, penalty=l2, solver=lbfgs;, score=0.768 total time=   0.3s\n",
      "[CV 4/5] END C=0.0001, penalty=l2, solver=lbfgs;, score=0.776 total time=   0.4s\n",
      "[CV 1/5] END C=0.0001, penalty=l2, solver=liblinear;, score=0.760 total time=   0.3s\n",
      "[CV 5/5] END C=0.0001, penalty=l2, solver=lbfgs;, score=0.798 total time=   0.4s\n",
      "[CV 2/5] END C=0.0001, penalty=l2, solver=liblinear;, score=0.728 total time=   0.2s\n",
      "[CV 4/5] END C=0.0001, penalty=l2, solver=liblinear;, score=0.776 total time=   0.2s\n",
      "[CV 5/5] END C=0.0001, penalty=l2, solver=liblinear;, score=0.798 total time=   0.2s\n",
      "[CV 3/5] END C=0.0001, penalty=l2, solver=liblinear;, score=0.768 total time=   0.3s\n",
      "[CV 1/5] END C=0.0001, penalty=none, solver=saga;, score=0.760 total time=  20.1s\n",
      "[CV 2/5] END C=0.0001, penalty=none, solver=saga;, score=0.776 total time=  22.2s\n",
      "[CV 3/5] END C=0.0001, penalty=none, solver=saga;, score=0.784 total time=  22.5s\n",
      "[CV 1/5] END ..C=0.0001, penalty=l2, solver=sag;, score=0.760 total time=   5.3s\n",
      "[CV 2/5] END ..C=0.0001, penalty=l2, solver=sag;, score=0.728 total time=   5.4s\n",
      "[CV 4/5] END ..C=0.0001, penalty=l2, solver=sag;, score=0.776 total time=   5.5s\n",
      "[CV 3/5] END ..C=0.0001, penalty=l2, solver=sag;, score=0.768 total time=   5.7s\n",
      "[CV 5/5] END ..C=0.0001, penalty=l2, solver=sag;, score=0.790 total time=   4.2s\n",
      "[CV 1/5] END C=0.0001, penalty=elasticnet, solver=newton-cg;, score=nan total time=   0.0s\n",
      "[CV 2/5] END C=0.0001, penalty=elasticnet, solver=newton-cg;, score=nan total time=   0.0s\n",
      "[CV 3/5] END C=0.0001, penalty=elasticnet, solver=newton-cg;, score=nan total time=   0.0s\n",
      "[CV 4/5] END C=0.0001, penalty=elasticnet, solver=newton-cg;, score=nan total time=   0.0s\n",
      "[CV 5/5] END C=0.0001, penalty=elasticnet, solver=newton-cg;, score=nan total time=   0.0s\n",
      "[CV 1/5] END C=0.0001, penalty=elasticnet, solver=lbfgs;, score=nan total time=   0.0s\n",
      "[CV 2/5] END C=0.0001, penalty=elasticnet, solver=lbfgs;, score=nan total time=   0.0s\n",
      "[CV 3/5] END C=0.0001, penalty=elasticnet, solver=lbfgs;, score=nan total time=   0.0s\n",
      "[CV 4/5] END C=0.0001, penalty=elasticnet, solver=lbfgs;, score=nan total time=   0.0s\n",
      "[CV 5/5] END C=0.0001, penalty=elasticnet, solver=lbfgs;, score=nan total time=   0.0s\n",
      "[CV 1/5] END C=0.0001, penalty=elasticnet, solver=liblinear;, score=nan total time=   0.0s\n",
      "[CV 2/5] END C=0.0001, penalty=elasticnet, solver=liblinear;, score=nan total time=   0.0s\n",
      "[CV 3/5] END C=0.0001, penalty=elasticnet, solver=liblinear;, score=nan total time=   0.0s\n",
      "[CV 4/5] END C=0.0001, penalty=elasticnet, solver=liblinear;, score=nan total time=   0.0s\n",
      "[CV 5/5] END C=0.0001, penalty=elasticnet, solver=liblinear;, score=nan total time=   0.0s\n",
      "[CV 1/5] END C=0.0001, penalty=elasticnet, solver=sag;, score=nan total time=   0.0s\n",
      "[CV 2/5] END C=0.0001, penalty=elasticnet, solver=sag;, score=nan total time=   0.0s\n",
      "[CV 3/5] END C=0.0001, penalty=elasticnet, solver=sag;, score=nan total time=   0.0s\n",
      "[CV 4/5] END C=0.0001, penalty=elasticnet, solver=sag;, score=nan total time=   0.0s\n",
      "[CV 5/5] END C=0.0001, penalty=elasticnet, solver=sag;, score=nan total time=   0.0s\n",
      "[CV 1/5] END C=0.0001, penalty=elasticnet, solver=saga;, score=nan total time=   0.0s\n",
      "[CV 2/5] END C=0.0001, penalty=elasticnet, solver=saga;, score=nan total time=   0.0s\n",
      "[CV 3/5] END C=0.0001, penalty=elasticnet, solver=saga;, score=nan total time=   0.0s\n",
      "[CV 4/5] END C=0.0001, penalty=elasticnet, solver=saga;, score=nan total time=   0.0s\n",
      "[CV 5/5] END C=0.0001, penalty=elasticnet, solver=saga;, score=nan total time=   0.0s\n"
     ]
    },
    {
     "name": "stderr",
     "output_type": "stream",
     "text": [
      "/Users/pdcos/Library/Python/3.8/lib/python/site-packages/sklearn/linear_model/_logistic.py:1483: UserWarning: Setting penalty='none' will ignore the C and l1_ratio parameters\n",
      "  warnings.warn(\n"
     ]
    },
    {
     "name": "stdout",
     "output_type": "stream",
     "text": [
      "[CV 1/5] END C=0.000774263682681127, penalty=none, solver=newton-cg;, score=0.752 total time=   0.4s\n"
     ]
    },
    {
     "name": "stderr",
     "output_type": "stream",
     "text": [
      "/Users/pdcos/Library/Python/3.8/lib/python/site-packages/sklearn/linear_model/_logistic.py:1483: UserWarning: Setting penalty='none' will ignore the C and l1_ratio parameters\n",
      "  warnings.warn(\n"
     ]
    },
    {
     "name": "stdout",
     "output_type": "stream",
     "text": [
      "[CV 2/5] END C=0.000774263682681127, penalty=none, solver=newton-cg;, score=0.768 total time=   0.4s\n"
     ]
    },
    {
     "name": "stderr",
     "output_type": "stream",
     "text": [
      "/Users/pdcos/Library/Python/3.8/lib/python/site-packages/sklearn/linear_model/_logistic.py:1483: UserWarning: Setting penalty='none' will ignore the C and l1_ratio parameters\n",
      "  warnings.warn(\n"
     ]
    },
    {
     "name": "stdout",
     "output_type": "stream",
     "text": [
      "[CV 3/5] END C=0.000774263682681127, penalty=none, solver=newton-cg;, score=0.800 total time=   0.4s\n"
     ]
    },
    {
     "name": "stderr",
     "output_type": "stream",
     "text": [
      "/Users/pdcos/Library/Python/3.8/lib/python/site-packages/sklearn/linear_model/_logistic.py:1483: UserWarning: Setting penalty='none' will ignore the C and l1_ratio parameters\n",
      "  warnings.warn(\n"
     ]
    },
    {
     "name": "stdout",
     "output_type": "stream",
     "text": [
      "[CV 4/5] END C=0.000774263682681127, penalty=none, solver=newton-cg;, score=0.752 total time=   0.3s\n"
     ]
    },
    {
     "name": "stderr",
     "output_type": "stream",
     "text": [
      "/Users/pdcos/Library/Python/3.8/lib/python/site-packages/sklearn/linear_model/_logistic.py:1483: UserWarning: Setting penalty='none' will ignore the C and l1_ratio parameters\n",
      "  warnings.warn(\n"
     ]
    },
    {
     "name": "stdout",
     "output_type": "stream",
     "text": [
      "[CV 5/5] END C=0.000774263682681127, penalty=none, solver=newton-cg;, score=0.790 total time=   0.4s\n",
      "[CV 1/5] END C=0.000774263682681127, penalty=none, solver=lbfgs;, score=0.744 total time=   0.2s\n"
     ]
    },
    {
     "name": "stderr",
     "output_type": "stream",
     "text": [
      "/Users/pdcos/Library/Python/3.8/lib/python/site-packages/sklearn/linear_model/_logistic.py:1483: UserWarning: Setting penalty='none' will ignore the C and l1_ratio parameters\n",
      "  warnings.warn(\n",
      "/Users/pdcos/Library/Python/3.8/lib/python/site-packages/sklearn/linear_model/_logistic.py:1483: UserWarning: Setting penalty='none' will ignore the C and l1_ratio parameters\n",
      "  warnings.warn(\n"
     ]
    },
    {
     "name": "stdout",
     "output_type": "stream",
     "text": [
      "[CV 2/5] END C=0.000774263682681127, penalty=none, solver=lbfgs;, score=0.768 total time=   0.1s\n",
      "[CV 3/5] END C=0.000774263682681127, penalty=none, solver=lbfgs;, score=0.792 total time=   0.1s\n",
      "[CV 4/5] END C=0.000774263682681127, penalty=none, solver=lbfgs;, score=0.752 total time=   0.1s\n"
     ]
    },
    {
     "name": "stderr",
     "output_type": "stream",
     "text": [
      "/Users/pdcos/Library/Python/3.8/lib/python/site-packages/sklearn/linear_model/_logistic.py:1483: UserWarning: Setting penalty='none' will ignore the C and l1_ratio parameters\n",
      "  warnings.warn(\n",
      "/Users/pdcos/Library/Python/3.8/lib/python/site-packages/sklearn/linear_model/_logistic.py:1483: UserWarning: Setting penalty='none' will ignore the C and l1_ratio parameters\n",
      "  warnings.warn(\n",
      "/Users/pdcos/Library/Python/3.8/lib/python/site-packages/sklearn/linear_model/_logistic.py:1483: UserWarning: Setting penalty='none' will ignore the C and l1_ratio parameters\n",
      "  warnings.warn(\n"
     ]
    },
    {
     "name": "stdout",
     "output_type": "stream",
     "text": [
      "[CV 5/5] END C=0.000774263682681127, penalty=none, solver=lbfgs;, score=0.774 total time=   0.1s\n",
      "[CV 1/5] END C=0.000774263682681127, penalty=none, solver=liblinear;, score=nan total time=   0.0s\n",
      "[CV 2/5] END C=0.000774263682681127, penalty=none, solver=liblinear;, score=nan total time=   0.0s\n",
      "[CV 3/5] END C=0.000774263682681127, penalty=none, solver=liblinear;, score=nan total time=   0.0s\n",
      "[CV 4/5] END C=0.000774263682681127, penalty=none, solver=liblinear;, score=nan total time=   0.0s\n",
      "[CV 5/5] END C=0.000774263682681127, penalty=none, solver=liblinear;, score=nan total time=   0.0s\n"
     ]
    },
    {
     "name": "stderr",
     "output_type": "stream",
     "text": [
      "/Users/pdcos/Library/Python/3.8/lib/python/site-packages/sklearn/linear_model/_logistic.py:1483: UserWarning: Setting penalty='none' will ignore the C and l1_ratio parameters\n",
      "  warnings.warn(\n"
     ]
    },
    {
     "name": "stdout",
     "output_type": "stream",
     "text": [
      "[CV 1/5] END .C=0.0001, penalty=l2, solver=saga;, score=0.760 total time=   9.5s\n"
     ]
    },
    {
     "name": "stderr",
     "output_type": "stream",
     "text": [
      "/Users/pdcos/Library/Python/3.8/lib/python/site-packages/sklearn/linear_model/_logistic.py:1483: UserWarning: Setting penalty='none' will ignore the C and l1_ratio parameters\n",
      "  warnings.warn(\n"
     ]
    },
    {
     "name": "stdout",
     "output_type": "stream",
     "text": [
      "[CV 5/5] END .C=0.0001, penalty=l2, solver=saga;, score=0.790 total time=   7.6s\n"
     ]
    },
    {
     "name": "stderr",
     "output_type": "stream",
     "text": [
      "/Users/pdcos/Library/Python/3.8/lib/python/site-packages/sklearn/linear_model/_logistic.py:1483: UserWarning: Setting penalty='none' will ignore the C and l1_ratio parameters\n",
      "  warnings.warn(\n"
     ]
    },
    {
     "name": "stdout",
     "output_type": "stream",
     "text": [
      "[CV 2/5] END .C=0.0001, penalty=l2, solver=saga;, score=0.728 total time=   9.4s\n",
      "[CV 4/5] END .C=0.0001, penalty=l2, solver=saga;, score=0.784 total time=   9.2s\n"
     ]
    },
    {
     "name": "stderr",
     "output_type": "stream",
     "text": [
      "/Users/pdcos/Library/Python/3.8/lib/python/site-packages/sklearn/linear_model/_logistic.py:1483: UserWarning: Setting penalty='none' will ignore the C and l1_ratio parameters\n",
      "  warnings.warn(\n",
      "/Users/pdcos/Library/Python/3.8/lib/python/site-packages/sklearn/linear_model/_logistic.py:1483: UserWarning: Setting penalty='none' will ignore the C and l1_ratio parameters\n",
      "  warnings.warn(\n"
     ]
    },
    {
     "name": "stdout",
     "output_type": "stream",
     "text": [
      "[CV 3/5] END .C=0.0001, penalty=l2, solver=saga;, score=0.768 total time=  10.1s\n"
     ]
    },
    {
     "name": "stderr",
     "output_type": "stream",
     "text": [
      "/Users/pdcos/Library/Python/3.8/lib/python/site-packages/sklearn/linear_model/_logistic.py:1483: UserWarning: Setting penalty='none' will ignore the C and l1_ratio parameters\n",
      "  warnings.warn(\n"
     ]
    },
    {
     "name": "stdout",
     "output_type": "stream",
     "text": [
      "[CV 4/5] END C=0.0001, penalty=none, solver=saga;, score=0.768 total time=  21.9s\n",
      "[CV 2/5] END C=0.000774263682681127, penalty=l1, solver=newton-cg;, score=nan total time=   0.0s\n",
      "[CV 3/5] END C=0.000774263682681127, penalty=l1, solver=newton-cg;, score=nan total time=   0.0s\n",
      "[CV 4/5] END C=0.000774263682681127, penalty=l1, solver=newton-cg;, score=nan total time=   0.0s\n",
      "[CV 5/5] END C=0.000774263682681127, penalty=l1, solver=newton-cg;, score=nan total time=   0.0s\n",
      "[CV 1/5] END C=0.000774263682681127, penalty=l1, solver=lbfgs;, score=nan total time=   0.0s\n",
      "[CV 2/5] END C=0.000774263682681127, penalty=l1, solver=lbfgs;, score=nan total time=   0.0s\n",
      "[CV 3/5] END C=0.000774263682681127, penalty=l1, solver=lbfgs;, score=nan total time=   0.0s\n",
      "[CV 4/5] END C=0.000774263682681127, penalty=l1, solver=lbfgs;, score=nan total time=   0.0s\n",
      "[CV 5/5] END C=0.000774263682681127, penalty=l1, solver=lbfgs;, score=nan total time=   0.0s\n",
      "[CV 1/5] END C=0.000774263682681127, penalty=l1, solver=liblinear;, score=0.720 total time=   0.2s\n",
      "[CV 2/5] END C=0.000774263682681127, penalty=l1, solver=liblinear;, score=0.728 total time=   0.0s\n",
      "[CV 3/5] END C=0.000774263682681127, penalty=l1, solver=liblinear;, score=0.704 total time=   0.0s\n",
      "[CV 4/5] END C=0.000774263682681127, penalty=l1, solver=liblinear;, score=0.640 total time=   0.1s\n",
      "[CV 5/5] END C=0.0001, penalty=none, solver=saga;, score=0.798 total time=  21.7s\n",
      "[CV 5/5] END C=0.000774263682681127, penalty=l1, solver=liblinear;, score=0.734 total time=   0.1s\n",
      "[CV 2/5] END C=0.000774263682681127, penalty=l1, solver=sag;, score=nan total time=   0.0s\n",
      "[CV 3/5] END C=0.000774263682681127, penalty=l1, solver=sag;, score=nan total time=   0.0s\n",
      "[CV 1/5] END C=0.000774263682681127, penalty=l1, solver=sag;, score=nan total time=   0.0s\n",
      "[CV 4/5] END C=0.000774263682681127, penalty=l1, solver=sag;, score=nan total time=   0.0s\n",
      "[CV 5/5] END C=0.000774263682681127, penalty=l1, solver=sag;, score=nan total time=   0.0s\n",
      "[CV 1/5] END C=0.000774263682681127, penalty=l1, solver=saga;, score=0.712 total time=   9.7s\n",
      "[CV 1/5] END C=0.000774263682681127, penalty=none, solver=sag;, score=0.760 total time=  19.5s\n",
      "[CV 2/5] END C=0.000774263682681127, penalty=l1, solver=saga;, score=0.728 total time=  13.3s\n",
      "[CV 2/5] END C=0.000774263682681127, penalty=none, solver=sag;, score=0.776 total time=  20.2s\n",
      "[CV 4/5] END C=0.000774263682681127, penalty=none, solver=sag;, score=0.760 total time=  19.0s\n"
     ]
    },
    {
     "name": "stderr",
     "output_type": "stream",
     "text": [
      "/Users/pdcos/Library/Python/3.8/lib/python/site-packages/sklearn/linear_model/_logistic.py:1483: UserWarning: Setting penalty='none' will ignore the C and l1_ratio parameters\n",
      "  warnings.warn(\n",
      "/Users/pdcos/Library/Python/3.8/lib/python/site-packages/sklearn/linear_model/_logistic.py:1483: UserWarning: Setting penalty='none' will ignore the C and l1_ratio parameters\n",
      "  warnings.warn(\n"
     ]
    },
    {
     "name": "stdout",
     "output_type": "stream",
     "text": [
      "[CV 5/5] END C=0.000774263682681127, penalty=none, solver=saga;, score=0.798 total time=  21.3s\n",
      "[CV 1/5] END C=0.000774263682681127, penalty=l1, solver=newton-cg;, score=nan total time=   0.0s\n",
      "[CV 1/5] END C=0.000774263682681127, penalty=l2, solver=newton-cg;, score=0.760 total time=   0.9s\n",
      "[CV 1/5] END C=0.000774263682681127, penalty=none, solver=saga;, score=0.760 total time=  23.2s\n"
     ]
    },
    {
     "name": "stderr",
     "output_type": "stream",
     "text": [
      "/Users/pdcos/Library/Python/3.8/lib/python/site-packages/sklearn/linear_model/_logistic.py:1483: UserWarning: Setting penalty='none' will ignore the C and l1_ratio parameters\n",
      "  warnings.warn(\n"
     ]
    },
    {
     "name": "stdout",
     "output_type": "stream",
     "text": [
      "[CV 2/5] END C=0.000774263682681127, penalty=l2, solver=newton-cg;, score=0.760 total time=   0.6s\n",
      "[CV 3/5] END C=0.000774263682681127, penalty=l2, solver=newton-cg;, score=0.792 total time=   1.1s\n",
      "[CV 3/5] END C=0.000774263682681127, penalty=none, solver=saga;, score=0.784 total time=  25.9s\n"
     ]
    },
    {
     "name": "stderr",
     "output_type": "stream",
     "text": [
      "/Users/pdcos/Library/Python/3.8/lib/python/site-packages/sklearn/linear_model/_logistic.py:1483: UserWarning: Setting penalty='none' will ignore the C and l1_ratio parameters\n",
      "  warnings.warn(\n"
     ]
    },
    {
     "name": "stdout",
     "output_type": "stream",
     "text": [
      "[CV 4/5] END C=0.000774263682681127, penalty=l2, solver=newton-cg;, score=0.760 total time=   1.7s\n",
      "[CV 5/5] END C=0.000774263682681127, penalty=l2, solver=newton-cg;, score=0.798 total time=   0.7s\n",
      "[CV 1/5] END C=0.000774263682681127, penalty=l2, solver=lbfgs;, score=0.760 total time=   0.6s\n",
      "[CV 4/5] END C=0.000774263682681127, penalty=l1, solver=saga;, score=0.640 total time=  14.6s\n",
      "[CV 2/5] END C=0.000774263682681127, penalty=l2, solver=lbfgs;, score=0.752 total time=   0.8s\n",
      "[CV 3/5] END C=0.000774263682681127, penalty=l2, solver=lbfgs;, score=0.792 total time=   0.7s\n",
      "[CV 5/5] END C=0.000774263682681127, penalty=l1, solver=saga;, score=0.726 total time=  12.5s\n",
      "[CV 4/5] END C=0.000774263682681127, penalty=l2, solver=lbfgs;, score=0.760 total time=   0.8s\n",
      "[CV 5/5] END C=0.000774263682681127, penalty=l2, solver=lbfgs;, score=0.806 total time=   0.8s\n",
      "[CV 1/5] END C=0.000774263682681127, penalty=l2, solver=liblinear;, score=0.760 total time=   0.5s\n",
      "[CV 2/5] END C=0.000774263682681127, penalty=l2, solver=liblinear;, score=0.752 total time=   0.5s\n",
      "[CV 4/5] END C=0.000774263682681127, penalty=l2, solver=liblinear;, score=0.760 total time=   0.4s\n",
      "[CV 3/5] END C=0.000774263682681127, penalty=l2, solver=liblinear;, score=0.792 total time=   0.4s\n",
      "[CV 5/5] END C=0.000774263682681127, penalty=l2, solver=liblinear;, score=0.806 total time=   0.5s\n",
      "[CV 3/5] END C=0.000774263682681127, penalty=l1, solver=saga;, score=0.696 total time=  18.3s\n",
      "[CV 5/5] END C=0.000774263682681127, penalty=none, solver=sag;, score=0.798 total time=  18.7s\n",
      "[CV 3/5] END C=0.000774263682681127, penalty=none, solver=sag;, score=0.776 total time=  20.6s\n",
      "[CV 2/5] END C=0.000774263682681127, penalty=l2, solver=sag;, score=0.760 total time=  12.2s\n",
      "[CV 1/5] END C=0.000774263682681127, penalty=l2, solver=sag;, score=0.768 total time=  12.5s\n",
      "[CV 3/5] END C=0.000774263682681127, penalty=l2, solver=sag;, score=0.784 total time=  13.0s\n",
      "[CV 4/5] END C=0.000774263682681127, penalty=l2, solver=sag;, score=0.776 total time=  12.4s\n",
      "[CV 5/5] END C=0.000774263682681127, penalty=l2, solver=sag;, score=0.806 total time=  10.3s\n",
      "[CV 1/5] END C=0.000774263682681127, penalty=elasticnet, solver=newton-cg;, score=nan total time=   0.0s\n",
      "[CV 2/5] END C=0.000774263682681127, penalty=elasticnet, solver=newton-cg;, score=nan total time=   0.0s\n",
      "[CV 3/5] END C=0.000774263682681127, penalty=elasticnet, solver=newton-cg;, score=nan total time=   0.0s\n",
      "[CV 4/5] END C=0.000774263682681127, penalty=elasticnet, solver=newton-cg;, score=nan total time=   0.0s\n",
      "[CV 5/5] END C=0.000774263682681127, penalty=elasticnet, solver=newton-cg;, score=nan total time=   0.0s\n",
      "[CV 1/5] END C=0.000774263682681127, penalty=elasticnet, solver=lbfgs;, score=nan total time=   0.0s\n",
      "[CV 2/5] END C=0.000774263682681127, penalty=elasticnet, solver=lbfgs;, score=nan total time=   0.0s\n",
      "[CV 3/5] END C=0.000774263682681127, penalty=elasticnet, solver=lbfgs;, score=nan total time=   0.0s\n",
      "[CV 4/5] END C=0.000774263682681127, penalty=elasticnet, solver=lbfgs;, score=nan total time=   0.0s\n",
      "[CV 5/5] END C=0.000774263682681127, penalty=elasticnet, solver=lbfgs;, score=nan total time=   0.0s\n",
      "[CV 1/5] END C=0.000774263682681127, penalty=elasticnet, solver=liblinear;, score=nan total time=   0.0s\n",
      "[CV 2/5] END C=0.000774263682681127, penalty=elasticnet, solver=liblinear;, score=nan total time=   0.0s\n",
      "[CV 3/5] END C=0.000774263682681127, penalty=elasticnet, solver=liblinear;, score=nan total time=   0.0s\n",
      "[CV 4/5] END C=0.000774263682681127, penalty=elasticnet, solver=liblinear;, score=nan total time=   0.0s\n",
      "[CV 5/5] END C=0.000774263682681127, penalty=elasticnet, solver=liblinear;, score=nan total time=   0.0s\n",
      "[CV 1/5] END C=0.000774263682681127, penalty=elasticnet, solver=sag;, score=nan total time=   0.0s\n",
      "[CV 2/5] END C=0.000774263682681127, penalty=elasticnet, solver=sag;, score=nan total time=   0.0s\n",
      "[CV 3/5] END C=0.000774263682681127, penalty=elasticnet, solver=sag;, score=nan total time=   0.0s\n",
      "[CV 4/5] END C=0.000774263682681127, penalty=elasticnet, solver=sag;, score=nan total time=   0.0s\n",
      "[CV 5/5] END C=0.000774263682681127, penalty=elasticnet, solver=sag;, score=nan total time=   0.0s\n",
      "[CV 1/5] END C=0.000774263682681127, penalty=elasticnet, solver=saga;, score=nan total time=   0.0s\n",
      "[CV 2/5] END C=0.000774263682681127, penalty=elasticnet, solver=saga;, score=nan total time=   0.0s\n",
      "[CV 3/5] END C=0.000774263682681127, penalty=elasticnet, solver=saga;, score=nan total time=   0.0s\n",
      "[CV 4/5] END C=0.000774263682681127, penalty=elasticnet, solver=saga;, score=nan total time=   0.0s\n",
      "[CV 5/5] END C=0.000774263682681127, penalty=elasticnet, solver=saga;, score=nan total time=   0.0s\n"
     ]
    },
    {
     "name": "stderr",
     "output_type": "stream",
     "text": [
      "/Users/pdcos/Library/Python/3.8/lib/python/site-packages/sklearn/linear_model/_logistic.py:1483: UserWarning: Setting penalty='none' will ignore the C and l1_ratio parameters\n",
      "  warnings.warn(\n"
     ]
    },
    {
     "name": "stdout",
     "output_type": "stream",
     "text": [
      "[CV 1/5] END C=0.005994842503189409, penalty=none, solver=newton-cg;, score=0.752 total time=   0.4s\n",
      "[CV 2/5] END C=0.000774263682681127, penalty=none, solver=saga;, score=0.776 total time=  24.2s\n"
     ]
    },
    {
     "name": "stderr",
     "output_type": "stream",
     "text": [
      "/Users/pdcos/Library/Python/3.8/lib/python/site-packages/sklearn/linear_model/_logistic.py:1483: UserWarning: Setting penalty='none' will ignore the C and l1_ratio parameters\n",
      "  warnings.warn(\n",
      "/Users/pdcos/Library/Python/3.8/lib/python/site-packages/sklearn/linear_model/_logistic.py:1483: UserWarning: Setting penalty='none' will ignore the C and l1_ratio parameters\n",
      "  warnings.warn(\n"
     ]
    },
    {
     "name": "stdout",
     "output_type": "stream",
     "text": [
      "[CV 2/5] END C=0.005994842503189409, penalty=none, solver=newton-cg;, score=0.768 total time=   0.4s\n"
     ]
    },
    {
     "name": "stderr",
     "output_type": "stream",
     "text": [
      "/Users/pdcos/Library/Python/3.8/lib/python/site-packages/sklearn/linear_model/_logistic.py:1483: UserWarning: Setting penalty='none' will ignore the C and l1_ratio parameters\n",
      "  warnings.warn(\n"
     ]
    },
    {
     "name": "stdout",
     "output_type": "stream",
     "text": [
      "[CV 3/5] END C=0.005994842503189409, penalty=none, solver=newton-cg;, score=0.800 total time=   0.5s\n"
     ]
    },
    {
     "name": "stderr",
     "output_type": "stream",
     "text": [
      "/Users/pdcos/Library/Python/3.8/lib/python/site-packages/sklearn/linear_model/_logistic.py:1483: UserWarning: Setting penalty='none' will ignore the C and l1_ratio parameters\n",
      "  warnings.warn(\n"
     ]
    },
    {
     "name": "stdout",
     "output_type": "stream",
     "text": [
      "[CV 4/5] END C=0.005994842503189409, penalty=none, solver=newton-cg;, score=0.752 total time=   0.6s\n",
      "[CV 1/5] END C=0.005994842503189409, penalty=none, solver=lbfgs;, score=0.744 total time=   0.1s\n"
     ]
    },
    {
     "name": "stderr",
     "output_type": "stream",
     "text": [
      "/Users/pdcos/Library/Python/3.8/lib/python/site-packages/sklearn/linear_model/_logistic.py:1483: UserWarning: Setting penalty='none' will ignore the C and l1_ratio parameters\n",
      "  warnings.warn(\n",
      "/Users/pdcos/Library/Python/3.8/lib/python/site-packages/sklearn/linear_model/_logistic.py:1483: UserWarning: Setting penalty='none' will ignore the C and l1_ratio parameters\n",
      "  warnings.warn(\n"
     ]
    },
    {
     "name": "stdout",
     "output_type": "stream",
     "text": [
      "[CV 4/5] END C=0.000774263682681127, penalty=none, solver=saga;, score=0.768 total time=  22.4s\n",
      "[CV 2/5] END C=0.005994842503189409, penalty=none, solver=lbfgs;, score=0.768 total time=   0.1s\n",
      "[CV 3/5] END C=0.005994842503189409, penalty=none, solver=lbfgs;, score=0.792 total time=   0.1s\n",
      "[CV 4/5] END C=0.005994842503189409, penalty=none, solver=lbfgs;, score=0.752 total time=   0.1s\n"
     ]
    },
    {
     "name": "stderr",
     "output_type": "stream",
     "text": [
      "/Users/pdcos/Library/Python/3.8/lib/python/site-packages/sklearn/linear_model/_logistic.py:1483: UserWarning: Setting penalty='none' will ignore the C and l1_ratio parameters\n",
      "  warnings.warn(\n",
      "/Users/pdcos/Library/Python/3.8/lib/python/site-packages/sklearn/linear_model/_logistic.py:1483: UserWarning: Setting penalty='none' will ignore the C and l1_ratio parameters\n",
      "  warnings.warn(\n",
      "/Users/pdcos/Library/Python/3.8/lib/python/site-packages/sklearn/linear_model/_logistic.py:1483: UserWarning: Setting penalty='none' will ignore the C and l1_ratio parameters\n",
      "  warnings.warn(\n"
     ]
    },
    {
     "name": "stdout",
     "output_type": "stream",
     "text": [
      "[CV 5/5] END C=0.005994842503189409, penalty=none, solver=newton-cg;, score=0.790 total time=   0.7s\n",
      "[CV 1/5] END C=0.005994842503189409, penalty=none, solver=liblinear;, score=nan total time=   0.0s\n",
      "[CV 2/5] END C=0.005994842503189409, penalty=none, solver=liblinear;, score=nan total time=   0.0s\n",
      "[CV 5/5] END C=0.005994842503189409, penalty=none, solver=liblinear;, score=nan total time=   0.0s\n",
      "[CV 3/5] END C=0.005994842503189409, penalty=none, solver=liblinear;, score=nan total time=   0.0s\n",
      "[CV 4/5] END C=0.005994842503189409, penalty=none, solver=liblinear;, score=nan total time=   0.0s\n",
      "[CV 5/5] END C=0.005994842503189409, penalty=none, solver=lbfgs;, score=0.774 total time=   0.1s\n"
     ]
    },
    {
     "name": "stderr",
     "output_type": "stream",
     "text": [
      "/Users/pdcos/Library/Python/3.8/lib/python/site-packages/sklearn/linear_model/_logistic.py:1483: UserWarning: Setting penalty='none' will ignore the C and l1_ratio parameters\n",
      "  warnings.warn(\n",
      "/Users/pdcos/Library/Python/3.8/lib/python/site-packages/sklearn/linear_model/_logistic.py:1483: UserWarning: Setting penalty='none' will ignore the C and l1_ratio parameters\n",
      "  warnings.warn(\n",
      "/Users/pdcos/Library/Python/3.8/lib/python/site-packages/sklearn/linear_model/_logistic.py:1483: UserWarning: Setting penalty='none' will ignore the C and l1_ratio parameters\n",
      "  warnings.warn(\n"
     ]
    },
    {
     "name": "stdout",
     "output_type": "stream",
     "text": [
      "[CV 1/5] END C=0.000774263682681127, penalty=l2, solver=saga;, score=0.776 total time=  17.7s\n"
     ]
    },
    {
     "name": "stderr",
     "output_type": "stream",
     "text": [
      "/Users/pdcos/Library/Python/3.8/lib/python/site-packages/sklearn/linear_model/_logistic.py:1483: UserWarning: Setting penalty='none' will ignore the C and l1_ratio parameters\n",
      "  warnings.warn(\n"
     ]
    },
    {
     "name": "stdout",
     "output_type": "stream",
     "text": [
      "[CV 5/5] END C=0.000774263682681127, penalty=l2, solver=saga;, score=0.798 total time=  15.7s\n"
     ]
    },
    {
     "name": "stderr",
     "output_type": "stream",
     "text": [
      "/Users/pdcos/Library/Python/3.8/lib/python/site-packages/sklearn/linear_model/_logistic.py:1483: UserWarning: Setting penalty='none' will ignore the C and l1_ratio parameters\n",
      "  warnings.warn(\n"
     ]
    },
    {
     "name": "stdout",
     "output_type": "stream",
     "text": [
      "[CV 4/5] END C=0.000774263682681127, penalty=l2, solver=saga;, score=0.776 total time=  18.1s\n"
     ]
    },
    {
     "name": "stderr",
     "output_type": "stream",
     "text": [
      "/Users/pdcos/Library/Python/3.8/lib/python/site-packages/sklearn/linear_model/_logistic.py:1483: UserWarning: Setting penalty='none' will ignore the C and l1_ratio parameters\n",
      "  warnings.warn(\n"
     ]
    },
    {
     "name": "stdout",
     "output_type": "stream",
     "text": [
      "[CV 2/5] END C=0.000774263682681127, penalty=l2, solver=saga;, score=0.768 total time=  19.5s\n",
      "[CV 1/5] END C=0.005994842503189409, penalty=l1, solver=newton-cg;, score=nan total time=   0.0s\n",
      "[CV 2/5] END C=0.005994842503189409, penalty=l1, solver=newton-cg;, score=nan total time=   0.0s\n",
      "[CV 3/5] END C=0.005994842503189409, penalty=l1, solver=newton-cg;, score=nan total time=   0.0s\n",
      "[CV 4/5] END C=0.005994842503189409, penalty=l1, solver=newton-cg;, score=nan total time=   0.0s\n",
      "[CV 5/5] END C=0.005994842503189409, penalty=l1, solver=newton-cg;, score=nan total time=   0.0s\n",
      "[CV 1/5] END C=0.005994842503189409, penalty=l1, solver=lbfgs;, score=nan total time=   0.0s\n",
      "[CV 2/5] END C=0.005994842503189409, penalty=l1, solver=lbfgs;, score=nan total time=   0.0s\n",
      "[CV 3/5] END C=0.005994842503189409, penalty=l1, solver=lbfgs;, score=nan total time=   0.0s\n",
      "[CV 4/5] END C=0.005994842503189409, penalty=l1, solver=lbfgs;, score=nan total time=   0.0s\n",
      "[CV 5/5] END C=0.005994842503189409, penalty=l1, solver=lbfgs;, score=nan total time=   0.0s\n",
      "[CV 1/5] END C=0.005994842503189409, penalty=l1, solver=liblinear;, score=0.760 total time=   0.6s\n",
      "[CV 3/5] END C=0.000774263682681127, penalty=l2, solver=saga;, score=0.784 total time=  20.0s\n",
      "[CV 3/5] END C=0.005994842503189409, penalty=l1, solver=liblinear;, score=0.720 total time=   0.4s\n",
      "[CV 2/5] END C=0.005994842503189409, penalty=l1, solver=liblinear;, score=0.744 total time=   0.5s\n",
      "[CV 5/5] END C=0.005994842503189409, penalty=l1, solver=liblinear;, score=0.750 total time=   0.4s\n",
      "[CV 1/5] END C=0.005994842503189409, penalty=l1, solver=sag;, score=nan total time=   0.0s\n",
      "[CV 2/5] END C=0.005994842503189409, penalty=l1, solver=sag;, score=nan total time=   0.0s\n",
      "[CV 3/5] END C=0.005994842503189409, penalty=l1, solver=sag;, score=nan total time=   0.0s\n",
      "[CV 4/5] END C=0.005994842503189409, penalty=l1, solver=sag;, score=nan total time=   0.0s\n",
      "[CV 5/5] END C=0.005994842503189409, penalty=l1, solver=sag;, score=nan total time=   0.0s\n",
      "[CV 4/5] END C=0.005994842503189409, penalty=l1, solver=liblinear;, score=0.768 total time=   0.6s\n",
      "[CV 4/5] END C=0.005994842503189409, penalty=none, solver=sag;, score=0.760 total time=  19.9s\n"
     ]
    },
    {
     "name": "stderr",
     "output_type": "stream",
     "text": [
      "/Users/pdcos/Library/Python/3.8/lib/python/site-packages/sklearn/linear_model/_logistic.py:1483: UserWarning: Setting penalty='none' will ignore the C and l1_ratio parameters\n",
      "  warnings.warn(\n"
     ]
    },
    {
     "name": "stdout",
     "output_type": "stream",
     "text": [
      "[CV 1/5] END C=0.005994842503189409, penalty=none, solver=sag;, score=0.760 total time=  20.7s\n",
      "[CV 2/5] END C=0.005994842503189409, penalty=none, solver=sag;, score=0.776 total time=  21.8s\n"
     ]
    },
    {
     "name": "stderr",
     "output_type": "stream",
     "text": [
      "/Users/pdcos/Library/Python/3.8/lib/python/site-packages/sklearn/linear_model/_logistic.py:1483: UserWarning: Setting penalty='none' will ignore the C and l1_ratio parameters\n",
      "  warnings.warn(\n"
     ]
    },
    {
     "name": "stdout",
     "output_type": "stream",
     "text": [
      "[CV 1/5] END C=0.005994842503189409, penalty=none, solver=saga;, score=0.760 total time=  25.2s\n"
     ]
    },
    {
     "name": "stderr",
     "output_type": "stream",
     "text": [
      "/Users/pdcos/Library/Python/3.8/lib/python/site-packages/sklearn/linear_model/_logistic.py:1483: UserWarning: Setting penalty='none' will ignore the C and l1_ratio parameters\n",
      "  warnings.warn(\n"
     ]
    },
    {
     "name": "stdout",
     "output_type": "stream",
     "text": [
      "[CV 5/5] END C=0.005994842503189409, penalty=none, solver=saga;, score=0.798 total time=  25.0s\n",
      "[CV 3/5] END C=0.005994842503189409, penalty=none, solver=saga;, score=0.784 total time=  27.0s\n"
     ]
    },
    {
     "name": "stderr",
     "output_type": "stream",
     "text": [
      "/Users/pdcos/Library/Python/3.8/lib/python/site-packages/sklearn/linear_model/_logistic.py:1483: UserWarning: Setting penalty='none' will ignore the C and l1_ratio parameters\n",
      "  warnings.warn(\n"
     ]
    },
    {
     "name": "stdout",
     "output_type": "stream",
     "text": [
      "[CV 5/5] END C=0.005994842503189409, penalty=none, solver=sag;, score=0.798 total time=  18.7s\n",
      "[CV 3/5] END C=0.005994842503189409, penalty=none, solver=sag;, score=0.776 total time=  21.1s\n",
      "[CV 1/5] END C=0.005994842503189409, penalty=l2, solver=newton-cg;, score=0.744 total time=   1.3s\n",
      "[CV 3/5] END C=0.005994842503189409, penalty=l1, solver=saga;, score=0.736 total time=  23.6s\n",
      "[CV 2/5] END C=0.005994842503189409, penalty=l2, solver=newton-cg;, score=0.744 total time=   1.1s\n",
      "[CV 2/5] END C=0.005994842503189409, penalty=l1, solver=saga;, score=0.760 total time=  31.2s\n",
      "[CV 3/5] END C=0.005994842503189409, penalty=l2, solver=newton-cg;, score=0.792 total time=   2.3s\n",
      "[CV 1/5] END C=0.005994842503189409, penalty=l2, solver=lbfgs;, score=0.752 total time=   0.8s\n",
      "[CV 4/5] END C=0.005994842503189409, penalty=l2, solver=newton-cg;, score=0.752 total time=   2.5s\n",
      "[CV 5/5] END C=0.005994842503189409, penalty=l2, solver=newton-cg;, score=0.798 total time=   1.8s\n",
      "[CV 2/5] END C=0.005994842503189409, penalty=l2, solver=lbfgs;, score=0.744 total time=   1.0s\n",
      "[CV 3/5] END C=0.005994842503189409, penalty=l2, solver=lbfgs;, score=0.776 total time=   1.1s\n",
      "[CV 4/5] END C=0.005994842503189409, penalty=l2, solver=lbfgs;, score=0.760 total time=   0.9s\n",
      "[CV 1/5] END C=0.005994842503189409, penalty=l2, solver=liblinear;, score=0.752 total time=   0.6s\n",
      "[CV 2/5] END C=0.005994842503189409, penalty=l2, solver=liblinear;, score=0.744 total time=   0.6s\n",
      "[CV 5/5] END C=0.005994842503189409, penalty=l2, solver=lbfgs;, score=0.798 total time=   1.3s\n",
      "[CV 3/5] END C=0.005994842503189409, penalty=l2, solver=liblinear;, score=0.776 total time=   0.4s\n",
      "[CV 5/5] END C=0.005994842503189409, penalty=l2, solver=liblinear;, score=0.798 total time=   0.5s\n",
      "[CV 4/5] END C=0.005994842503189409, penalty=l2, solver=liblinear;, score=0.760 total time=   0.7s\n",
      "[CV 1/5] END C=0.005994842503189409, penalty=l1, solver=saga;, score=0.760 total time=  39.0s\n",
      "[CV 2/5] END C=0.005994842503189409, penalty=none, solver=saga;, score=0.776 total time=  25.9s\n",
      "[CV 4/5] END C=0.005994842503189409, penalty=none, solver=saga;, score=0.768 total time=  24.1s\n",
      "[CV 4/5] END C=0.005994842503189409, penalty=l1, solver=saga;, score=0.760 total time=  25.3s\n",
      "[CV 5/5] END C=0.005994842503189409, penalty=l1, solver=saga;, score=0.758 total time=  31.4s\n",
      "[CV 1/5] END C=0.005994842503189409, penalty=l2, solver=sag;, score=0.768 total time=  20.4s\n",
      "[CV 2/5] END C=0.005994842503189409, penalty=l2, solver=sag;, score=0.760 total time=  20.9s\n",
      "[CV 3/5] END C=0.005994842503189409, penalty=l2, solver=sag;, score=0.784 total time=  21.2s\n",
      "[CV 1/5] END C=0.005994842503189409, penalty=elasticnet, solver=newton-cg;, score=nan total time=   0.0s\n",
      "[CV 2/5] END C=0.005994842503189409, penalty=elasticnet, solver=newton-cg;, score=nan total time=   0.0s\n",
      "[CV 3/5] END C=0.005994842503189409, penalty=elasticnet, solver=newton-cg;, score=nan total time=   0.0s\n",
      "[CV 4/5] END C=0.005994842503189409, penalty=elasticnet, solver=newton-cg;, score=nan total time=   0.0s\n",
      "[CV 5/5] END C=0.005994842503189409, penalty=elasticnet, solver=newton-cg;, score=nan total time=   0.0s\n",
      "[CV 1/5] END C=0.005994842503189409, penalty=elasticnet, solver=lbfgs;, score=nan total time=   0.0s\n",
      "[CV 2/5] END C=0.005994842503189409, penalty=elasticnet, solver=lbfgs;, score=nan total time=   0.0s\n",
      "[CV 3/5] END C=0.005994842503189409, penalty=elasticnet, solver=lbfgs;, score=nan total time=   0.0s\n",
      "[CV 4/5] END C=0.005994842503189409, penalty=elasticnet, solver=lbfgs;, score=nan total time=   0.0s\n",
      "[CV 5/5] END C=0.005994842503189409, penalty=elasticnet, solver=lbfgs;, score=nan total time=   0.0s\n",
      "[CV 1/5] END C=0.005994842503189409, penalty=elasticnet, solver=liblinear;, score=nan total time=   0.0s\n",
      "[CV 2/5] END C=0.005994842503189409, penalty=elasticnet, solver=liblinear;, score=nan total time=   0.0s\n",
      "[CV 3/5] END C=0.005994842503189409, penalty=elasticnet, solver=liblinear;, score=nan total time=   0.0s\n",
      "[CV 4/5] END C=0.005994842503189409, penalty=elasticnet, solver=liblinear;, score=nan total time=   0.0s\n",
      "[CV 5/5] END C=0.005994842503189409, penalty=elasticnet, solver=liblinear;, score=nan total time=   0.0s\n",
      "[CV 1/5] END C=0.005994842503189409, penalty=elasticnet, solver=sag;, score=nan total time=   0.0s\n",
      "[CV 2/5] END C=0.005994842503189409, penalty=elasticnet, solver=sag;, score=nan total time=   0.0s\n",
      "[CV 3/5] END C=0.005994842503189409, penalty=elasticnet, solver=sag;, score=nan total time=   0.0s\n",
      "[CV 4/5] END C=0.005994842503189409, penalty=elasticnet, solver=sag;, score=nan total time=   0.0s\n",
      "[CV 5/5] END C=0.005994842503189409, penalty=elasticnet, solver=sag;, score=nan total time=   0.0s\n",
      "[CV 1/5] END C=0.005994842503189409, penalty=elasticnet, solver=saga;, score=nan total time=   0.0s\n",
      "[CV 2/5] END C=0.005994842503189409, penalty=elasticnet, solver=saga;, score=nan total time=   0.0s\n",
      "[CV 3/5] END C=0.005994842503189409, penalty=elasticnet, solver=saga;, score=nan total time=   0.0s\n",
      "[CV 4/5] END C=0.005994842503189409, penalty=elasticnet, solver=saga;, score=nan total time=   0.0s\n",
      "[CV 5/5] END C=0.005994842503189409, penalty=elasticnet, solver=saga;, score=nan total time=   0.0s\n"
     ]
    },
    {
     "name": "stderr",
     "output_type": "stream",
     "text": [
      "/Users/pdcos/Library/Python/3.8/lib/python/site-packages/sklearn/linear_model/_logistic.py:1483: UserWarning: Setting penalty='none' will ignore the C and l1_ratio parameters\n",
      "  warnings.warn(\n"
     ]
    },
    {
     "name": "stdout",
     "output_type": "stream",
     "text": [
      "[CV 1/5] END C=0.046415888336127774, penalty=none, solver=newton-cg;, score=0.752 total time=   0.4s\n"
     ]
    },
    {
     "name": "stderr",
     "output_type": "stream",
     "text": [
      "/Users/pdcos/Library/Python/3.8/lib/python/site-packages/sklearn/linear_model/_logistic.py:1483: UserWarning: Setting penalty='none' will ignore the C and l1_ratio parameters\n",
      "  warnings.warn(\n"
     ]
    },
    {
     "name": "stdout",
     "output_type": "stream",
     "text": [
      "[CV 2/5] END C=0.046415888336127774, penalty=none, solver=newton-cg;, score=0.768 total time=   0.4s\n"
     ]
    },
    {
     "name": "stderr",
     "output_type": "stream",
     "text": [
      "/Users/pdcos/Library/Python/3.8/lib/python/site-packages/sklearn/linear_model/_logistic.py:1483: UserWarning: Setting penalty='none' will ignore the C and l1_ratio parameters\n",
      "  warnings.warn(\n"
     ]
    },
    {
     "name": "stdout",
     "output_type": "stream",
     "text": [
      "[CV 3/5] END C=0.046415888336127774, penalty=none, solver=newton-cg;, score=0.800 total time=   0.5s\n"
     ]
    },
    {
     "name": "stderr",
     "output_type": "stream",
     "text": [
      "/Users/pdcos/Library/Python/3.8/lib/python/site-packages/sklearn/linear_model/_logistic.py:1483: UserWarning: Setting penalty='none' will ignore the C and l1_ratio parameters\n",
      "  warnings.warn(\n"
     ]
    },
    {
     "name": "stdout",
     "output_type": "stream",
     "text": [
      "[CV 4/5] END C=0.046415888336127774, penalty=none, solver=newton-cg;, score=0.752 total time=   0.5s\n"
     ]
    },
    {
     "name": "stderr",
     "output_type": "stream",
     "text": [
      "/Users/pdcos/Library/Python/3.8/lib/python/site-packages/sklearn/linear_model/_logistic.py:1483: UserWarning: Setting penalty='none' will ignore the C and l1_ratio parameters\n",
      "  warnings.warn(\n"
     ]
    },
    {
     "name": "stdout",
     "output_type": "stream",
     "text": [
      "[CV 5/5] END C=0.046415888336127774, penalty=none, solver=newton-cg;, score=0.790 total time=   0.5s\n"
     ]
    },
    {
     "name": "stderr",
     "output_type": "stream",
     "text": [
      "/Users/pdcos/Library/Python/3.8/lib/python/site-packages/sklearn/linear_model/_logistic.py:1483: UserWarning: Setting penalty='none' will ignore the C and l1_ratio parameters\n",
      "  warnings.warn(\n",
      "/Users/pdcos/Library/Python/3.8/lib/python/site-packages/sklearn/linear_model/_logistic.py:1483: UserWarning: Setting penalty='none' will ignore the C and l1_ratio parameters\n",
      "  warnings.warn(\n"
     ]
    },
    {
     "name": "stdout",
     "output_type": "stream",
     "text": [
      "[CV 1/5] END C=0.046415888336127774, penalty=none, solver=lbfgs;, score=0.744 total time=   0.2s\n",
      "[CV 2/5] END C=0.046415888336127774, penalty=none, solver=lbfgs;, score=0.768 total time=   0.1s\n"
     ]
    },
    {
     "name": "stderr",
     "output_type": "stream",
     "text": [
      "/Users/pdcos/Library/Python/3.8/lib/python/site-packages/sklearn/linear_model/_logistic.py:1483: UserWarning: Setting penalty='none' will ignore the C and l1_ratio parameters\n",
      "  warnings.warn(\n",
      "/Users/pdcos/Library/Python/3.8/lib/python/site-packages/sklearn/linear_model/_logistic.py:1483: UserWarning: Setting penalty='none' will ignore the C and l1_ratio parameters\n",
      "  warnings.warn(\n"
     ]
    },
    {
     "name": "stdout",
     "output_type": "stream",
     "text": [
      "[CV 3/5] END C=0.046415888336127774, penalty=none, solver=lbfgs;, score=0.792 total time=   0.1s\n",
      "[CV 4/5] END C=0.005994842503189409, penalty=l2, solver=sag;, score=0.760 total time=  20.7s\n",
      "[CV 4/5] END C=0.046415888336127774, penalty=none, solver=lbfgs;, score=0.752 total time=   0.1s\n"
     ]
    },
    {
     "name": "stderr",
     "output_type": "stream",
     "text": [
      "/Users/pdcos/Library/Python/3.8/lib/python/site-packages/sklearn/linear_model/_logistic.py:1483: UserWarning: Setting penalty='none' will ignore the C and l1_ratio parameters\n",
      "  warnings.warn(\n",
      "/Users/pdcos/Library/Python/3.8/lib/python/site-packages/sklearn/linear_model/_logistic.py:1483: UserWarning: Setting penalty='none' will ignore the C and l1_ratio parameters\n",
      "  warnings.warn(\n",
      "/Users/pdcos/Library/Python/3.8/lib/python/site-packages/sklearn/linear_model/_logistic.py:1483: UserWarning: Setting penalty='none' will ignore the C and l1_ratio parameters\n",
      "  warnings.warn(\n"
     ]
    },
    {
     "name": "stdout",
     "output_type": "stream",
     "text": [
      "[CV 1/5] END C=0.046415888336127774, penalty=none, solver=liblinear;, score=nan total time=   0.0s\n",
      "[CV 5/5] END C=0.046415888336127774, penalty=none, solver=lbfgs;, score=0.774 total time=   0.1s\n",
      "[CV 2/5] END C=0.046415888336127774, penalty=none, solver=liblinear;, score=nan total time=   0.0s\n",
      "[CV 3/5] END C=0.046415888336127774, penalty=none, solver=liblinear;, score=nan total time=   0.0s\n",
      "[CV 4/5] END C=0.046415888336127774, penalty=none, solver=liblinear;, score=nan total time=   0.0s\n",
      "[CV 5/5] END C=0.046415888336127774, penalty=none, solver=liblinear;, score=nan total time=   0.0s\n",
      "[CV 5/5] END C=0.005994842503189409, penalty=l2, solver=sag;, score=0.798 total time=  19.0s\n"
     ]
    },
    {
     "name": "stderr",
     "output_type": "stream",
     "text": [
      "/Users/pdcos/Library/Python/3.8/lib/python/site-packages/sklearn/linear_model/_logistic.py:1483: UserWarning: Setting penalty='none' will ignore the C and l1_ratio parameters\n",
      "  warnings.warn(\n"
     ]
    },
    {
     "name": "stdout",
     "output_type": "stream",
     "text": [
      "[CV 1/5] END C=0.005994842503189409, penalty=l2, solver=saga;, score=0.760 total time=  24.5s\n"
     ]
    },
    {
     "name": "stderr",
     "output_type": "stream",
     "text": [
      "/Users/pdcos/Library/Python/3.8/lib/python/site-packages/sklearn/linear_model/_logistic.py:1483: UserWarning: Setting penalty='none' will ignore the C and l1_ratio parameters\n",
      "  warnings.warn(\n"
     ]
    },
    {
     "name": "stdout",
     "output_type": "stream",
     "text": [
      "[CV 2/5] END C=0.005994842503189409, penalty=l2, solver=saga;, score=0.776 total time=  26.6s\n"
     ]
    },
    {
     "name": "stderr",
     "output_type": "stream",
     "text": [
      "/Users/pdcos/Library/Python/3.8/lib/python/site-packages/sklearn/linear_model/_logistic.py:1483: UserWarning: Setting penalty='none' will ignore the C and l1_ratio parameters\n",
      "  warnings.warn(\n"
     ]
    },
    {
     "name": "stdout",
     "output_type": "stream",
     "text": [
      "[CV 5/5] END C=0.005994842503189409, penalty=l2, solver=saga;, score=0.806 total time=  20.2s\n"
     ]
    },
    {
     "name": "stderr",
     "output_type": "stream",
     "text": [
      "/Users/pdcos/Library/Python/3.8/lib/python/site-packages/sklearn/linear_model/_logistic.py:1483: UserWarning: Setting penalty='none' will ignore the C and l1_ratio parameters\n",
      "  warnings.warn(\n"
     ]
    },
    {
     "name": "stdout",
     "output_type": "stream",
     "text": [
      "[CV 4/5] END C=0.005994842503189409, penalty=l2, solver=saga;, score=0.768 total time=  22.4s\n"
     ]
    },
    {
     "name": "stderr",
     "output_type": "stream",
     "text": [
      "/Users/pdcos/Library/Python/3.8/lib/python/site-packages/sklearn/linear_model/_logistic.py:1483: UserWarning: Setting penalty='none' will ignore the C and l1_ratio parameters\n",
      "  warnings.warn(\n"
     ]
    },
    {
     "name": "stdout",
     "output_type": "stream",
     "text": [
      "[CV 1/5] END C=0.046415888336127774, penalty=none, solver=sag;, score=0.760 total time=  19.0s\n"
     ]
    },
    {
     "name": "stderr",
     "output_type": "stream",
     "text": [
      "/Users/pdcos/Library/Python/3.8/lib/python/site-packages/sklearn/linear_model/_logistic.py:1483: UserWarning: Setting penalty='none' will ignore the C and l1_ratio parameters\n",
      "  warnings.warn(\n"
     ]
    },
    {
     "name": "stdout",
     "output_type": "stream",
     "text": [
      "[CV 3/5] END C=0.005994842503189409, penalty=l2, solver=saga;, score=0.784 total time=  24.4s\n",
      "[CV 2/5] END C=0.046415888336127774, penalty=none, solver=sag;, score=0.776 total time=  19.8s\n"
     ]
    },
    {
     "name": "stderr",
     "output_type": "stream",
     "text": [
      "/Users/pdcos/Library/Python/3.8/lib/python/site-packages/sklearn/linear_model/_logistic.py:1483: UserWarning: Setting penalty='none' will ignore the C and l1_ratio parameters\n",
      "  warnings.warn(\n",
      "/Users/pdcos/Library/Python/3.8/lib/python/site-packages/sklearn/linear_model/_logistic.py:1483: UserWarning: Setting penalty='none' will ignore the C and l1_ratio parameters\n",
      "  warnings.warn(\n"
     ]
    },
    {
     "name": "stdout",
     "output_type": "stream",
     "text": [
      "[CV 3/5] END C=0.046415888336127774, penalty=none, solver=sag;, score=0.784 total time=  19.9s\n",
      "[CV 1/5] END C=0.046415888336127774, penalty=l1, solver=newton-cg;, score=nan total time=   0.0s\n",
      "[CV 2/5] END C=0.046415888336127774, penalty=l1, solver=newton-cg;, score=nan total time=   0.0s\n",
      "[CV 3/5] END C=0.046415888336127774, penalty=l1, solver=newton-cg;, score=nan total time=   0.0s\n",
      "[CV 4/5] END C=0.046415888336127774, penalty=l1, solver=newton-cg;, score=nan total time=   0.0s\n",
      "[CV 5/5] END C=0.046415888336127774, penalty=l1, solver=newton-cg;, score=nan total time=   0.0s\n",
      "[CV 1/5] END C=0.046415888336127774, penalty=l1, solver=lbfgs;, score=nan total time=   0.0s\n",
      "[CV 2/5] END C=0.046415888336127774, penalty=l1, solver=lbfgs;, score=nan total time=   0.0s\n",
      "[CV 3/5] END C=0.046415888336127774, penalty=l1, solver=lbfgs;, score=nan total time=   0.0s\n",
      "[CV 4/5] END C=0.046415888336127774, penalty=l1, solver=lbfgs;, score=nan total time=   0.0s\n",
      "[CV 5/5] END C=0.046415888336127774, penalty=l1, solver=lbfgs;, score=nan total time=   0.0s\n",
      "[CV 1/5] END C=0.046415888336127774, penalty=l1, solver=liblinear;, score=0.760 total time=   3.1s\n",
      "[CV 2/5] END C=0.046415888336127774, penalty=l1, solver=liblinear;, score=0.736 total time=   3.7s\n",
      "[CV 4/5] END C=0.046415888336127774, penalty=none, solver=sag;, score=0.760 total time=  18.9s\n",
      "[CV 3/5] END C=0.046415888336127774, penalty=l1, solver=liblinear;, score=0.808 total time=   2.8s\n",
      "[CV 5/5] END C=0.046415888336127774, penalty=none, solver=sag;, score=0.798 total time=  18.8s\n",
      "[CV 1/5] END C=0.046415888336127774, penalty=l1, solver=sag;, score=nan total time=   0.0s\n",
      "[CV 2/5] END C=0.046415888336127774, penalty=l1, solver=sag;, score=nan total time=   0.0s\n",
      "[CV 3/5] END C=0.046415888336127774, penalty=l1, solver=sag;, score=nan total time=   0.0s\n",
      "[CV 4/5] END C=0.046415888336127774, penalty=l1, solver=sag;, score=nan total time=   0.0s\n",
      "[CV 5/5] END C=0.046415888336127774, penalty=l1, solver=sag;, score=nan total time=   0.0s\n",
      "[CV 4/5] END C=0.046415888336127774, penalty=l1, solver=liblinear;, score=0.760 total time=   3.5s\n",
      "[CV 5/5] END C=0.046415888336127774, penalty=l1, solver=liblinear;, score=0.798 total time=   3.3s\n",
      "[CV 1/5] END C=0.046415888336127774, penalty=none, solver=saga;, score=0.760 total time=  23.6s\n",
      "[CV 5/5] END C=0.046415888336127774, penalty=none, solver=saga;, score=0.798 total time=  21.7s\n",
      "[CV 4/5] END C=0.046415888336127774, penalty=none, solver=saga;, score=0.768 total time=  22.8s\n",
      "[CV 2/5] END C=0.046415888336127774, penalty=none, solver=saga;, score=0.776 total time=  24.7s\n",
      "[CV 2/5] END C=0.046415888336127774, penalty=l2, solver=newton-cg;, score=0.752 total time=   1.2s\n",
      "[CV 1/5] END C=0.046415888336127774, penalty=l2, solver=newton-cg;, score=0.744 total time=   1.5s\n",
      "[CV 3/5] END C=0.046415888336127774, penalty=none, solver=saga;, score=0.784 total time=  25.5s\n",
      "[CV 3/5] END C=0.046415888336127774, penalty=l2, solver=newton-cg;, score=0.792 total time=   1.8s\n",
      "[CV 5/5] END C=0.046415888336127774, penalty=l2, solver=newton-cg;, score=0.798 total time=   1.5s\n",
      "[CV 4/5] END C=0.046415888336127774, penalty=l2, solver=newton-cg;, score=0.744 total time=   2.1s\n",
      "[CV 1/5] END C=0.046415888336127774, penalty=l2, solver=lbfgs;, score=0.744 total time=   1.1s\n",
      "[CV 2/5] END C=0.046415888336127774, penalty=l2, solver=lbfgs;, score=0.752 total time=   1.1s\n",
      "[CV 3/5] END C=0.046415888336127774, penalty=l2, solver=lbfgs;, score=0.792 total time=   1.2s\n",
      "[CV 4/5] END C=0.046415888336127774, penalty=l2, solver=lbfgs;, score=0.752 total time=   1.1s\n",
      "[CV 1/5] END C=0.046415888336127774, penalty=l2, solver=liblinear;, score=0.744 total time=   0.5s\n",
      "[CV 2/5] END C=0.046415888336127774, penalty=l2, solver=liblinear;, score=0.752 total time=   0.5s\n",
      "[CV 5/5] END C=0.046415888336127774, penalty=l2, solver=lbfgs;, score=0.798 total time=   1.3s\n",
      "[CV 3/5] END C=0.046415888336127774, penalty=l2, solver=liblinear;, score=0.792 total time=   0.6s\n",
      "[CV 4/5] END C=0.046415888336127774, penalty=l2, solver=liblinear;, score=0.752 total time=   0.4s\n",
      "[CV 5/5] END C=0.046415888336127774, penalty=l2, solver=liblinear;, score=0.798 total time=   0.5s\n",
      "[CV 1/5] END C=0.046415888336127774, penalty=l2, solver=sag;, score=0.760 total time=  16.8s\n",
      "[CV 3/5] END C=0.046415888336127774, penalty=l2, solver=sag;, score=0.784 total time=  16.8s\n",
      "[CV 2/5] END C=0.046415888336127774, penalty=l2, solver=sag;, score=0.776 total time=  17.5s\n",
      "[CV 1/5] END C=0.046415888336127774, penalty=l1, solver=saga;, score=0.736 total time=  41.8s\n",
      "[CV 2/5] END C=0.046415888336127774, penalty=l1, solver=saga;, score=0.752 total time=  44.1s\n",
      "[CV 3/5] END C=0.046415888336127774, penalty=l1, solver=saga;, score=0.768 total time=  43.7s\n",
      "[CV 4/5] END C=0.046415888336127774, penalty=l1, solver=saga;, score=0.776 total time=  40.5s\n",
      "[CV 4/5] END C=0.046415888336127774, penalty=l2, solver=sag;, score=0.760 total time=  16.5s\n",
      "[CV 1/5] END C=0.046415888336127774, penalty=elasticnet, solver=newton-cg;, score=nan total time=   0.0s\n",
      "[CV 2/5] END C=0.046415888336127774, penalty=elasticnet, solver=newton-cg;, score=nan total time=   0.0s\n",
      "[CV 3/5] END C=0.046415888336127774, penalty=elasticnet, solver=newton-cg;, score=nan total time=   0.0s\n",
      "[CV 4/5] END C=0.046415888336127774, penalty=elasticnet, solver=newton-cg;, score=nan total time=   0.0s\n",
      "[CV 5/5] END C=0.046415888336127774, penalty=elasticnet, solver=newton-cg;, score=nan total time=   0.0s\n",
      "[CV 1/5] END C=0.046415888336127774, penalty=elasticnet, solver=lbfgs;, score=nan total time=   0.0s\n",
      "[CV 2/5] END C=0.046415888336127774, penalty=elasticnet, solver=lbfgs;, score=nan total time=   0.0s\n",
      "[CV 3/5] END C=0.046415888336127774, penalty=elasticnet, solver=lbfgs;, score=nan total time=   0.0s\n",
      "[CV 4/5] END C=0.046415888336127774, penalty=elasticnet, solver=lbfgs;, score=nan total time=   0.0s\n",
      "[CV 5/5] END C=0.046415888336127774, penalty=elasticnet, solver=lbfgs;, score=nan total time=   0.0s\n",
      "[CV 1/5] END C=0.046415888336127774, penalty=elasticnet, solver=liblinear;, score=nan total time=   0.0s\n",
      "[CV 2/5] END C=0.046415888336127774, penalty=elasticnet, solver=liblinear;, score=nan total time=   0.0s\n",
      "[CV 3/5] END C=0.046415888336127774, penalty=elasticnet, solver=liblinear;, score=nan total time=   0.0s\n",
      "[CV 4/5] END C=0.046415888336127774, penalty=elasticnet, solver=liblinear;, score=nan total time=   0.0s\n",
      "[CV 5/5] END C=0.046415888336127774, penalty=elasticnet, solver=liblinear;, score=nan total time=   0.0s\n",
      "[CV 1/5] END C=0.046415888336127774, penalty=elasticnet, solver=sag;, score=nan total time=   0.0s\n",
      "[CV 2/5] END C=0.046415888336127774, penalty=elasticnet, solver=sag;, score=nan total time=   0.0s\n",
      "[CV 3/5] END C=0.046415888336127774, penalty=elasticnet, solver=sag;, score=nan total time=   0.0s\n",
      "[CV 4/5] END C=0.046415888336127774, penalty=elasticnet, solver=sag;, score=nan total time=   0.0s\n",
      "[CV 5/5] END C=0.046415888336127774, penalty=elasticnet, solver=sag;, score=nan total time=   0.0s\n",
      "[CV 1/5] END C=0.046415888336127774, penalty=elasticnet, solver=saga;, score=nan total time=   0.0s\n",
      "[CV 2/5] END C=0.046415888336127774, penalty=elasticnet, solver=saga;, score=nan total time=   0.0s\n",
      "[CV 3/5] END C=0.046415888336127774, penalty=elasticnet, solver=saga;, score=nan total time=   0.0s\n",
      "[CV 4/5] END C=0.046415888336127774, penalty=elasticnet, solver=saga;, score=nan total time=   0.0s\n",
      "[CV 5/5] END C=0.046415888336127774, penalty=elasticnet, solver=saga;, score=nan total time=   0.0s\n",
      "[CV 5/5] END C=0.046415888336127774, penalty=l1, solver=saga;, score=0.815 total time=  40.4s\n",
      "[CV 5/5] END C=0.046415888336127774, penalty=l2, solver=sag;, score=0.798 total time=  16.2s\n"
     ]
    },
    {
     "name": "stderr",
     "output_type": "stream",
     "text": [
      "/Users/pdcos/Library/Python/3.8/lib/python/site-packages/sklearn/linear_model/_logistic.py:1483: UserWarning: Setting penalty='none' will ignore the C and l1_ratio parameters\n",
      "  warnings.warn(\n",
      "/Users/pdcos/Library/Python/3.8/lib/python/site-packages/sklearn/linear_model/_logistic.py:1483: UserWarning: Setting penalty='none' will ignore the C and l1_ratio parameters\n",
      "  warnings.warn(\n",
      "/Users/pdcos/Library/Python/3.8/lib/python/site-packages/sklearn/linear_model/_logistic.py:1483: UserWarning: Setting penalty='none' will ignore the C and l1_ratio parameters\n",
      "  warnings.warn(\n"
     ]
    },
    {
     "name": "stdout",
     "output_type": "stream",
     "text": [
      "[CV 1/5] END C=0.3593813663804626, penalty=none, solver=newton-cg;, score=0.752 total time=   0.5s\n",
      "[CV 2/5] END C=0.3593813663804626, penalty=none, solver=newton-cg;, score=0.768 total time=   0.4s\n",
      "[CV 3/5] END C=0.3593813663804626, penalty=none, solver=newton-cg;, score=0.800 total time=   0.5s\n"
     ]
    },
    {
     "name": "stderr",
     "output_type": "stream",
     "text": [
      "/Users/pdcos/Library/Python/3.8/lib/python/site-packages/sklearn/linear_model/_logistic.py:1483: UserWarning: Setting penalty='none' will ignore the C and l1_ratio parameters\n",
      "  warnings.warn(\n",
      "/Users/pdcos/Library/Python/3.8/lib/python/site-packages/sklearn/linear_model/_logistic.py:1483: UserWarning: Setting penalty='none' will ignore the C and l1_ratio parameters\n",
      "  warnings.warn(\n",
      "/Users/pdcos/Library/Python/3.8/lib/python/site-packages/sklearn/linear_model/_logistic.py:1483: UserWarning: Setting penalty='none' will ignore the C and l1_ratio parameters\n",
      "  warnings.warn(\n"
     ]
    },
    {
     "name": "stdout",
     "output_type": "stream",
     "text": [
      "[CV 1/5] END C=0.3593813663804626, penalty=none, solver=lbfgs;, score=0.744 total time=   0.1s\n",
      "[CV 2/5] END C=0.3593813663804626, penalty=none, solver=lbfgs;, score=0.768 total time=   0.2s\n"
     ]
    },
    {
     "name": "stderr",
     "output_type": "stream",
     "text": [
      "/Users/pdcos/Library/Python/3.8/lib/python/site-packages/sklearn/linear_model/_logistic.py:1483: UserWarning: Setting penalty='none' will ignore the C and l1_ratio parameters\n",
      "  warnings.warn(\n",
      "/Users/pdcos/Library/Python/3.8/lib/python/site-packages/sklearn/linear_model/_logistic.py:1483: UserWarning: Setting penalty='none' will ignore the C and l1_ratio parameters\n",
      "  warnings.warn(\n"
     ]
    },
    {
     "name": "stdout",
     "output_type": "stream",
     "text": [
      "[CV 5/5] END C=0.3593813663804626, penalty=none, solver=newton-cg;, score=0.790 total time=   0.5s\n",
      "[CV 3/5] END C=0.3593813663804626, penalty=none, solver=lbfgs;, score=0.792 total time=   0.1s\n",
      "[CV 4/5] END C=0.3593813663804626, penalty=none, solver=newton-cg;, score=0.752 total time=   0.6s\n",
      "[CV 1/5] END C=0.3593813663804626, penalty=none, solver=liblinear;, score=nan total time=   0.0s\n",
      "[CV 2/5] END C=0.3593813663804626, penalty=none, solver=liblinear;, score=nan total time=   0.0s\n",
      "[CV 4/5] END C=0.3593813663804626, penalty=none, solver=lbfgs;, score=0.752 total time=   0.1s\n",
      "[CV 3/5] END C=0.3593813663804626, penalty=none, solver=liblinear;, score=nan total time=   0.0s\n",
      "[CV 4/5] END C=0.3593813663804626, penalty=none, solver=liblinear;, score=nan total time=   0.0s\n",
      "[CV 5/5] END C=0.3593813663804626, penalty=none, solver=liblinear;, score=nan total time=   0.0s\n",
      "[CV 5/5] END C=0.3593813663804626, penalty=none, solver=lbfgs;, score=0.774 total time=   0.1s\n"
     ]
    },
    {
     "name": "stderr",
     "output_type": "stream",
     "text": [
      "/Users/pdcos/Library/Python/3.8/lib/python/site-packages/sklearn/linear_model/_logistic.py:1483: UserWarning: Setting penalty='none' will ignore the C and l1_ratio parameters\n",
      "  warnings.warn(\n",
      "/Users/pdcos/Library/Python/3.8/lib/python/site-packages/sklearn/linear_model/_logistic.py:1483: UserWarning: Setting penalty='none' will ignore the C and l1_ratio parameters\n",
      "  warnings.warn(\n",
      "/Users/pdcos/Library/Python/3.8/lib/python/site-packages/sklearn/linear_model/_logistic.py:1483: UserWarning: Setting penalty='none' will ignore the C and l1_ratio parameters\n",
      "  warnings.warn(\n",
      "/Users/pdcos/Library/Python/3.8/lib/python/site-packages/sklearn/linear_model/_logistic.py:1483: UserWarning: Setting penalty='none' will ignore the C and l1_ratio parameters\n",
      "  warnings.warn(\n",
      "/Users/pdcos/Library/Python/3.8/lib/python/site-packages/sklearn/linear_model/_logistic.py:1483: UserWarning: Setting penalty='none' will ignore the C and l1_ratio parameters\n",
      "  warnings.warn(\n"
     ]
    },
    {
     "name": "stdout",
     "output_type": "stream",
     "text": [
      "[CV 1/5] END C=0.046415888336127774, penalty=l2, solver=saga;, score=0.760 total time=  20.7s\n"
     ]
    },
    {
     "name": "stderr",
     "output_type": "stream",
     "text": [
      "/Users/pdcos/Library/Python/3.8/lib/python/site-packages/sklearn/linear_model/_logistic.py:1483: UserWarning: Setting penalty='none' will ignore the C and l1_ratio parameters\n",
      "  warnings.warn(\n"
     ]
    },
    {
     "name": "stdout",
     "output_type": "stream",
     "text": [
      "[CV 2/5] END C=0.046415888336127774, penalty=l2, solver=saga;, score=0.776 total time=  23.5s\n"
     ]
    },
    {
     "name": "stderr",
     "output_type": "stream",
     "text": [
      "/Users/pdcos/Library/Python/3.8/lib/python/site-packages/sklearn/linear_model/_logistic.py:1483: UserWarning: Setting penalty='none' will ignore the C and l1_ratio parameters\n",
      "  warnings.warn(\n"
     ]
    },
    {
     "name": "stdout",
     "output_type": "stream",
     "text": [
      "[CV 5/5] END C=0.046415888336127774, penalty=l2, solver=saga;, score=0.798 total time=  20.3s\n",
      "[CV 4/5] END C=0.046415888336127774, penalty=l2, solver=saga;, score=0.768 total time=  22.0s\n"
     ]
    },
    {
     "name": "stderr",
     "output_type": "stream",
     "text": [
      "/Users/pdcos/Library/Python/3.8/lib/python/site-packages/sklearn/linear_model/_logistic.py:1483: UserWarning: Setting penalty='none' will ignore the C and l1_ratio parameters\n",
      "  warnings.warn(\n",
      "/Users/pdcos/Library/Python/3.8/lib/python/site-packages/sklearn/linear_model/_logistic.py:1483: UserWarning: Setting penalty='none' will ignore the C and l1_ratio parameters\n",
      "  warnings.warn(\n"
     ]
    },
    {
     "name": "stdout",
     "output_type": "stream",
     "text": [
      "[CV 1/5] END C=0.3593813663804626, penalty=none, solver=sag;, score=0.760 total time=  18.5s\n"
     ]
    },
    {
     "name": "stderr",
     "output_type": "stream",
     "text": [
      "/Users/pdcos/Library/Python/3.8/lib/python/site-packages/sklearn/linear_model/_logistic.py:1483: UserWarning: Setting penalty='none' will ignore the C and l1_ratio parameters\n",
      "  warnings.warn(\n"
     ]
    },
    {
     "name": "stdout",
     "output_type": "stream",
     "text": [
      "[CV 2/5] END C=0.3593813663804626, penalty=none, solver=sag;, score=0.776 total time=  18.8s\n"
     ]
    },
    {
     "name": "stderr",
     "output_type": "stream",
     "text": [
      "/Users/pdcos/Library/Python/3.8/lib/python/site-packages/sklearn/linear_model/_logistic.py:1483: UserWarning: Setting penalty='none' will ignore the C and l1_ratio parameters\n",
      "  warnings.warn(\n"
     ]
    },
    {
     "name": "stdout",
     "output_type": "stream",
     "text": [
      "[CV 3/5] END C=0.3593813663804626, penalty=none, solver=sag;, score=0.776 total time=  19.3s\n",
      "[CV 3/5] END C=0.046415888336127774, penalty=l2, solver=saga;, score=0.784 total time=  24.0s\n",
      "[CV 1/5] END C=0.3593813663804626, penalty=l1, solver=newton-cg;, score=nan total time=   0.0s\n",
      "[CV 2/5] END C=0.3593813663804626, penalty=l1, solver=newton-cg;, score=nan total time=   0.0s\n",
      "[CV 3/5] END C=0.3593813663804626, penalty=l1, solver=newton-cg;, score=nan total time=   0.0s\n",
      "[CV 4/5] END C=0.3593813663804626, penalty=l1, solver=newton-cg;, score=nan total time=   0.0s\n",
      "[CV 5/5] END C=0.3593813663804626, penalty=l1, solver=newton-cg;, score=nan total time=   0.0s\n",
      "[CV 1/5] END C=0.3593813663804626, penalty=l1, solver=lbfgs;, score=nan total time=   0.0s\n",
      "[CV 2/5] END C=0.3593813663804626, penalty=l1, solver=lbfgs;, score=nan total time=   0.0s\n",
      "[CV 3/5] END C=0.3593813663804626, penalty=l1, solver=lbfgs;, score=nan total time=   0.0s\n",
      "[CV 4/5] END C=0.3593813663804626, penalty=l1, solver=lbfgs;, score=nan total time=   0.0s\n",
      "[CV 5/5] END C=0.3593813663804626, penalty=l1, solver=lbfgs;, score=nan total time=   0.0s\n"
     ]
    },
    {
     "name": "stderr",
     "output_type": "stream",
     "text": [
      "/Users/pdcos/Library/Python/3.8/lib/python/site-packages/sklearn/linear_model/_logistic.py:1483: UserWarning: Setting penalty='none' will ignore the C and l1_ratio parameters\n",
      "  warnings.warn(\n"
     ]
    },
    {
     "name": "stdout",
     "output_type": "stream",
     "text": [
      "[CV 4/5] END C=0.3593813663804626, penalty=none, solver=sag;, score=0.760 total time=  17.9s\n",
      "[CV 1/5] END C=0.3593813663804626, penalty=l1, solver=liblinear;, score=0.776 total time=   4.2s\n",
      "[CV 2/5] END C=0.3593813663804626, penalty=l1, solver=liblinear;, score=0.736 total time=   4.7s\n",
      "[CV 3/5] END C=0.3593813663804626, penalty=l1, solver=liblinear;, score=0.816 total time=   3.7s\n",
      "[CV 4/5] END C=0.3593813663804626, penalty=l1, solver=liblinear;, score=0.768 total time=   3.5s\n",
      "[CV 1/5] END C=0.3593813663804626, penalty=l1, solver=sag;, score=nan total time=   0.0s\n",
      "[CV 2/5] END C=0.3593813663804626, penalty=l1, solver=sag;, score=nan total time=   0.0s\n",
      "[CV 3/5] END C=0.3593813663804626, penalty=l1, solver=sag;, score=nan total time=   0.0s\n",
      "[CV 4/5] END C=0.3593813663804626, penalty=l1, solver=sag;, score=nan total time=   0.0s\n",
      "[CV 5/5] END C=0.3593813663804626, penalty=l1, solver=sag;, score=nan total time=   0.0s\n",
      "[CV 5/5] END C=0.3593813663804626, penalty=l1, solver=liblinear;, score=0.806 total time=   3.8s\n",
      "[CV 5/5] END C=0.3593813663804626, penalty=none, solver=sag;, score=0.798 total time=  17.1s\n",
      "[CV 1/5] END C=0.3593813663804626, penalty=none, solver=saga;, score=0.760 total time=  21.5s\n",
      "[CV 4/5] END C=0.3593813663804626, penalty=none, solver=saga;, score=0.768 total time=  21.1s\n",
      "[CV 5/5] END C=0.3593813663804626, penalty=none, solver=saga;, score=0.798 total time=  20.8s\n",
      "[CV 1/5] END C=0.3593813663804626, penalty=l2, solver=newton-cg;, score=0.744 total time=   1.0s\n",
      "[CV 2/5] END C=0.3593813663804626, penalty=l2, solver=newton-cg;, score=0.760 total time=   0.8s\n",
      "[CV 2/5] END C=0.3593813663804626, penalty=none, solver=saga;, score=0.776 total time=  24.2s\n",
      "[CV 3/5] END C=0.3593813663804626, penalty=none, solver=saga;, score=0.784 total time=  24.1s\n",
      "[CV 3/5] END C=0.3593813663804626, penalty=l2, solver=newton-cg;, score=0.792 total time=   1.6s\n",
      "[CV 5/5] END C=0.3593813663804626, penalty=l2, solver=newton-cg;, score=0.798 total time=   1.4s\n",
      "[CV 4/5] END C=0.3593813663804626, penalty=l2, solver=newton-cg;, score=0.744 total time=   1.9s\n",
      "[CV 1/5] END C=0.3593813663804626, penalty=l2, solver=lbfgs;, score=0.744 total time=   1.4s\n",
      "[CV 2/5] END C=0.3593813663804626, penalty=l2, solver=lbfgs;, score=0.760 total time=   1.2s\n",
      "[CV 3/5] END C=0.3593813663804626, penalty=l2, solver=lbfgs;, score=0.800 total time=   1.3s\n",
      "[CV 1/5] END C=0.3593813663804626, penalty=l2, solver=liblinear;, score=0.744 total time=   0.6s\n",
      "[CV 4/5] END C=0.3593813663804626, penalty=l2, solver=lbfgs;, score=0.752 total time=   1.1s\n",
      "[CV 2/5] END C=0.3593813663804626, penalty=l2, solver=liblinear;, score=0.760 total time=   0.4s\n",
      "[CV 5/5] END C=0.3593813663804626, penalty=l2, solver=lbfgs;, score=0.798 total time=   1.4s\n",
      "[CV 3/5] END C=0.3593813663804626, penalty=l2, solver=liblinear;, score=0.792 total time=   0.5s\n",
      "[CV 5/5] END C=0.3593813663804626, penalty=l2, solver=liblinear;, score=0.798 total time=   0.4s\n",
      "[CV 4/5] END C=0.3593813663804626, penalty=l2, solver=liblinear;, score=0.744 total time=   0.6s\n",
      "[CV 1/5] END C=0.3593813663804626, penalty=l2, solver=sag;, score=0.760 total time=  17.4s\n",
      "[CV 2/5] END C=0.3593813663804626, penalty=l2, solver=sag;, score=0.776 total time=  17.4s\n",
      "[CV 3/5] END C=0.3593813663804626, penalty=l2, solver=sag;, score=0.776 total time=  17.7s\n",
      "[CV 1/5] END C=0.3593813663804626, penalty=l1, solver=saga;, score=0.760 total time=  38.8s\n",
      "[CV 2/5] END C=0.3593813663804626, penalty=l1, solver=saga;, score=0.752 total time=  41.0s\n",
      "[CV 3/5] END C=0.3593813663804626, penalty=l1, solver=saga;, score=0.784 total time=  43.0s\n",
      "[CV 5/5] END C=0.3593813663804626, penalty=l1, solver=saga;, score=0.798 total time=  36.8s\n",
      "[CV 4/5] END C=0.3593813663804626, penalty=l1, solver=saga;, score=0.768 total time=  37.7s\n",
      "[CV 1/5] END C=0.3593813663804626, penalty=elasticnet, solver=newton-cg;, score=nan total time=   0.0s\n",
      "[CV 2/5] END C=0.3593813663804626, penalty=elasticnet, solver=newton-cg;, score=nan total time=   0.0s\n",
      "[CV 3/5] END C=0.3593813663804626, penalty=elasticnet, solver=newton-cg;, score=nan total time=   0.0s\n",
      "[CV 4/5] END C=0.3593813663804626, penalty=elasticnet, solver=newton-cg;, score=nan total time=   0.0s\n",
      "[CV 5/5] END C=0.3593813663804626, penalty=elasticnet, solver=newton-cg;, score=nan total time=   0.0s\n",
      "[CV 1/5] END C=0.3593813663804626, penalty=elasticnet, solver=lbfgs;, score=nan total time=   0.0s\n",
      "[CV 2/5] END C=0.3593813663804626, penalty=elasticnet, solver=lbfgs;, score=nan total time=   0.0s\n",
      "[CV 3/5] END C=0.3593813663804626, penalty=elasticnet, solver=lbfgs;, score=nan total time=   0.0s\n",
      "[CV 4/5] END C=0.3593813663804626, penalty=elasticnet, solver=lbfgs;, score=nan total time=   0.0s\n",
      "[CV 5/5] END C=0.3593813663804626, penalty=elasticnet, solver=lbfgs;, score=nan total time=   0.0s\n",
      "[CV 1/5] END C=0.3593813663804626, penalty=elasticnet, solver=liblinear;, score=nan total time=   0.0s\n",
      "[CV 2/5] END C=0.3593813663804626, penalty=elasticnet, solver=liblinear;, score=nan total time=   0.0s\n",
      "[CV 3/5] END C=0.3593813663804626, penalty=elasticnet, solver=liblinear;, score=nan total time=   0.0s\n",
      "[CV 4/5] END C=0.3593813663804626, penalty=elasticnet, solver=liblinear;, score=nan total time=   0.0s\n",
      "[CV 5/5] END C=0.3593813663804626, penalty=elasticnet, solver=liblinear;, score=nan total time=   0.0s\n",
      "[CV 1/5] END C=0.3593813663804626, penalty=elasticnet, solver=sag;, score=nan total time=   0.0s\n",
      "[CV 2/5] END C=0.3593813663804626, penalty=elasticnet, solver=sag;, score=nan total time=   0.0s\n",
      "[CV 3/5] END C=0.3593813663804626, penalty=elasticnet, solver=sag;, score=nan total time=   0.0s\n",
      "[CV 4/5] END C=0.3593813663804626, penalty=elasticnet, solver=sag;, score=nan total time=   0.0s\n",
      "[CV 5/5] END C=0.3593813663804626, penalty=elasticnet, solver=sag;, score=nan total time=   0.0s\n",
      "[CV 1/5] END C=0.3593813663804626, penalty=elasticnet, solver=saga;, score=nan total time=   0.0s\n",
      "[CV 2/5] END C=0.3593813663804626, penalty=elasticnet, solver=saga;, score=nan total time=   0.0s\n",
      "[CV 3/5] END C=0.3593813663804626, penalty=elasticnet, solver=saga;, score=nan total time=   0.0s\n",
      "[CV 4/5] END C=0.3593813663804626, penalty=elasticnet, solver=saga;, score=nan total time=   0.0s\n",
      "[CV 5/5] END C=0.3593813663804626, penalty=elasticnet, solver=saga;, score=nan total time=   0.0s\n"
     ]
    },
    {
     "name": "stderr",
     "output_type": "stream",
     "text": [
      "/Users/pdcos/Library/Python/3.8/lib/python/site-packages/sklearn/linear_model/_logistic.py:1483: UserWarning: Setting penalty='none' will ignore the C and l1_ratio parameters\n",
      "  warnings.warn(\n"
     ]
    },
    {
     "name": "stdout",
     "output_type": "stream",
     "text": [
      "[CV 1/5] END C=2.782559402207126, penalty=none, solver=newton-cg;, score=0.752 total time=   0.4s\n"
     ]
    },
    {
     "name": "stderr",
     "output_type": "stream",
     "text": [
      "/Users/pdcos/Library/Python/3.8/lib/python/site-packages/sklearn/linear_model/_logistic.py:1483: UserWarning: Setting penalty='none' will ignore the C and l1_ratio parameters\n",
      "  warnings.warn(\n"
     ]
    },
    {
     "name": "stdout",
     "output_type": "stream",
     "text": [
      "[CV 2/5] END C=2.782559402207126, penalty=none, solver=newton-cg;, score=0.768 total time=   0.4s\n"
     ]
    },
    {
     "name": "stderr",
     "output_type": "stream",
     "text": [
      "/Users/pdcos/Library/Python/3.8/lib/python/site-packages/sklearn/linear_model/_logistic.py:1483: UserWarning: Setting penalty='none' will ignore the C and l1_ratio parameters\n",
      "  warnings.warn(\n"
     ]
    },
    {
     "name": "stdout",
     "output_type": "stream",
     "text": [
      "[CV 3/5] END C=2.782559402207126, penalty=none, solver=newton-cg;, score=0.800 total time=   0.4s\n"
     ]
    },
    {
     "name": "stderr",
     "output_type": "stream",
     "text": [
      "/Users/pdcos/Library/Python/3.8/lib/python/site-packages/sklearn/linear_model/_logistic.py:1483: UserWarning: Setting penalty='none' will ignore the C and l1_ratio parameters\n",
      "  warnings.warn(\n"
     ]
    },
    {
     "name": "stdout",
     "output_type": "stream",
     "text": [
      "[CV 4/5] END C=2.782559402207126, penalty=none, solver=newton-cg;, score=0.752 total time=   0.4s\n"
     ]
    },
    {
     "name": "stderr",
     "output_type": "stream",
     "text": [
      "/Users/pdcos/Library/Python/3.8/lib/python/site-packages/sklearn/linear_model/_logistic.py:1483: UserWarning: Setting penalty='none' will ignore the C and l1_ratio parameters\n",
      "  warnings.warn(\n"
     ]
    },
    {
     "name": "stdout",
     "output_type": "stream",
     "text": [
      "[CV 5/5] END C=2.782559402207126, penalty=none, solver=newton-cg;, score=0.790 total time=   0.4s\n",
      "[CV 1/5] END C=2.782559402207126, penalty=none, solver=lbfgs;, score=0.744 total time=   0.1s\n"
     ]
    },
    {
     "name": "stderr",
     "output_type": "stream",
     "text": [
      "/Users/pdcos/Library/Python/3.8/lib/python/site-packages/sklearn/linear_model/_logistic.py:1483: UserWarning: Setting penalty='none' will ignore the C and l1_ratio parameters\n",
      "  warnings.warn(\n",
      "/Users/pdcos/Library/Python/3.8/lib/python/site-packages/sklearn/linear_model/_logistic.py:1483: UserWarning: Setting penalty='none' will ignore the C and l1_ratio parameters\n",
      "  warnings.warn(\n"
     ]
    },
    {
     "name": "stdout",
     "output_type": "stream",
     "text": [
      "[CV 2/5] END C=2.782559402207126, penalty=none, solver=lbfgs;, score=0.768 total time=   0.1s\n",
      "[CV 3/5] END C=2.782559402207126, penalty=none, solver=lbfgs;, score=0.792 total time=   0.1s\n"
     ]
    },
    {
     "name": "stderr",
     "output_type": "stream",
     "text": [
      "/Users/pdcos/Library/Python/3.8/lib/python/site-packages/sklearn/linear_model/_logistic.py:1483: UserWarning: Setting penalty='none' will ignore the C and l1_ratio parameters\n",
      "  warnings.warn(\n",
      "/Users/pdcos/Library/Python/3.8/lib/python/site-packages/sklearn/linear_model/_logistic.py:1483: UserWarning: Setting penalty='none' will ignore the C and l1_ratio parameters\n",
      "  warnings.warn(\n"
     ]
    },
    {
     "name": "stdout",
     "output_type": "stream",
     "text": [
      "[CV 4/5] END C=2.782559402207126, penalty=none, solver=lbfgs;, score=0.752 total time=   0.1s\n",
      "[CV 5/5] END C=2.782559402207126, penalty=none, solver=lbfgs;, score=0.774 total time=   0.1s\n",
      "[CV 1/5] END C=2.782559402207126, penalty=none, solver=liblinear;, score=nan total time=   0.0s\n",
      "[CV 2/5] END C=2.782559402207126, penalty=none, solver=liblinear;, score=nan total time=   0.0s\n",
      "[CV 3/5] END C=2.782559402207126, penalty=none, solver=liblinear;, score=nan total time=   0.0s\n",
      "[CV 4/5] END C=2.782559402207126, penalty=none, solver=liblinear;, score=nan total time=   0.0s\n",
      "[CV 5/5] END C=2.782559402207126, penalty=none, solver=liblinear;, score=nan total time=   0.0s\n"
     ]
    },
    {
     "name": "stderr",
     "output_type": "stream",
     "text": [
      "/Users/pdcos/Library/Python/3.8/lib/python/site-packages/sklearn/linear_model/_logistic.py:1483: UserWarning: Setting penalty='none' will ignore the C and l1_ratio parameters\n",
      "  warnings.warn(\n",
      "/Users/pdcos/Library/Python/3.8/lib/python/site-packages/sklearn/linear_model/_logistic.py:1483: UserWarning: Setting penalty='none' will ignore the C and l1_ratio parameters\n",
      "  warnings.warn(\n"
     ]
    },
    {
     "name": "stdout",
     "output_type": "stream",
     "text": [
      "[CV 4/5] END C=0.3593813663804626, penalty=l2, solver=sag;, score=0.760 total time=  17.0s\n",
      "[CV 5/5] END C=0.3593813663804626, penalty=l2, solver=sag;, score=0.798 total time=  16.7s\n"
     ]
    },
    {
     "name": "stderr",
     "output_type": "stream",
     "text": [
      "/Users/pdcos/Library/Python/3.8/lib/python/site-packages/sklearn/linear_model/_logistic.py:1483: UserWarning: Setting penalty='none' will ignore the C and l1_ratio parameters\n",
      "  warnings.warn(\n",
      "/Users/pdcos/Library/Python/3.8/lib/python/site-packages/sklearn/linear_model/_logistic.py:1483: UserWarning: Setting penalty='none' will ignore the C and l1_ratio parameters\n",
      "  warnings.warn(\n"
     ]
    },
    {
     "name": "stdout",
     "output_type": "stream",
     "text": [
      "[CV 1/5] END C=0.3593813663804626, penalty=l2, solver=saga;, score=0.760 total time=  20.8s\n"
     ]
    },
    {
     "name": "stderr",
     "output_type": "stream",
     "text": [
      "/Users/pdcos/Library/Python/3.8/lib/python/site-packages/sklearn/linear_model/_logistic.py:1483: UserWarning: Setting penalty='none' will ignore the C and l1_ratio parameters\n",
      "  warnings.warn(\n"
     ]
    },
    {
     "name": "stdout",
     "output_type": "stream",
     "text": [
      "[CV 2/5] END C=0.3593813663804626, penalty=l2, solver=saga;, score=0.776 total time=  22.9s\n"
     ]
    },
    {
     "name": "stderr",
     "output_type": "stream",
     "text": [
      "/Users/pdcos/Library/Python/3.8/lib/python/site-packages/sklearn/linear_model/_logistic.py:1483: UserWarning: Setting penalty='none' will ignore the C and l1_ratio parameters\n",
      "  warnings.warn(\n"
     ]
    },
    {
     "name": "stdout",
     "output_type": "stream",
     "text": [
      "[CV 3/5] END C=0.3593813663804626, penalty=l2, solver=saga;, score=0.784 total time=  23.9s\n"
     ]
    },
    {
     "name": "stderr",
     "output_type": "stream",
     "text": [
      "/Users/pdcos/Library/Python/3.8/lib/python/site-packages/sklearn/linear_model/_logistic.py:1483: UserWarning: Setting penalty='none' will ignore the C and l1_ratio parameters\n",
      "  warnings.warn(\n"
     ]
    },
    {
     "name": "stdout",
     "output_type": "stream",
     "text": [
      "[CV 5/5] END C=0.3593813663804626, penalty=l2, solver=saga;, score=0.798 total time=  20.7s\n"
     ]
    },
    {
     "name": "stderr",
     "output_type": "stream",
     "text": [
      "/Users/pdcos/Library/Python/3.8/lib/python/site-packages/sklearn/linear_model/_logistic.py:1483: UserWarning: Setting penalty='none' will ignore the C and l1_ratio parameters\n",
      "  warnings.warn(\n"
     ]
    },
    {
     "name": "stdout",
     "output_type": "stream",
     "text": [
      "[CV 1/5] END C=2.782559402207126, penalty=none, solver=sag;, score=0.760 total time=  18.1s\n",
      "[CV 4/5] END C=0.3593813663804626, penalty=l2, solver=saga;, score=0.768 total time=  22.0s\n"
     ]
    },
    {
     "name": "stderr",
     "output_type": "stream",
     "text": [
      "/Users/pdcos/Library/Python/3.8/lib/python/site-packages/sklearn/linear_model/_logistic.py:1483: UserWarning: Setting penalty='none' will ignore the C and l1_ratio parameters\n",
      "  warnings.warn(\n",
      "/Users/pdcos/Library/Python/3.8/lib/python/site-packages/sklearn/linear_model/_logistic.py:1483: UserWarning: Setting penalty='none' will ignore the C and l1_ratio parameters\n",
      "  warnings.warn(\n"
     ]
    },
    {
     "name": "stdout",
     "output_type": "stream",
     "text": [
      "[CV 2/5] END C=2.782559402207126, penalty=none, solver=sag;, score=0.776 total time=  18.5s\n"
     ]
    },
    {
     "name": "stderr",
     "output_type": "stream",
     "text": [
      "/Users/pdcos/Library/Python/3.8/lib/python/site-packages/sklearn/linear_model/_logistic.py:1483: UserWarning: Setting penalty='none' will ignore the C and l1_ratio parameters\n",
      "  warnings.warn(\n"
     ]
    },
    {
     "name": "stdout",
     "output_type": "stream",
     "text": [
      "[CV 3/5] END C=2.782559402207126, penalty=none, solver=sag;, score=0.776 total time=  18.7s\n",
      "[CV 1/5] END C=2.782559402207126, penalty=l1, solver=newton-cg;, score=nan total time=   0.0s\n",
      "[CV 2/5] END C=2.782559402207126, penalty=l1, solver=newton-cg;, score=nan total time=   0.0s\n",
      "[CV 3/5] END C=2.782559402207126, penalty=l1, solver=newton-cg;, score=nan total time=   0.0s\n",
      "[CV 4/5] END C=2.782559402207126, penalty=l1, solver=newton-cg;, score=nan total time=   0.0s\n",
      "[CV 5/5] END C=2.782559402207126, penalty=l1, solver=newton-cg;, score=nan total time=   0.0s\n",
      "[CV 1/5] END C=2.782559402207126, penalty=l1, solver=lbfgs;, score=nan total time=   0.0s\n",
      "[CV 2/5] END C=2.782559402207126, penalty=l1, solver=lbfgs;, score=nan total time=   0.0s\n",
      "[CV 3/5] END C=2.782559402207126, penalty=l1, solver=lbfgs;, score=nan total time=   0.0s\n",
      "[CV 4/5] END C=2.782559402207126, penalty=l1, solver=lbfgs;, score=nan total time=   0.0s\n",
      "[CV 5/5] END C=2.782559402207126, penalty=l1, solver=lbfgs;, score=nan total time=   0.0s\n",
      "[CV 1/5] END C=2.782559402207126, penalty=l1, solver=liblinear;, score=0.736 total time=   2.9s\n",
      "[CV 4/5] END C=2.782559402207126, penalty=none, solver=sag;, score=0.760 total time=  17.8s\n",
      "[CV 2/5] END C=2.782559402207126, penalty=l1, solver=liblinear;, score=0.752 total time=   2.9s\n",
      "[CV 3/5] END C=2.782559402207126, penalty=l1, solver=liblinear;, score=0.808 total time=   3.1s\n",
      "[CV 4/5] END C=2.782559402207126, penalty=l1, solver=liblinear;, score=0.768 total time=   2.7s\n",
      "[CV 1/5] END C=2.782559402207126, penalty=l1, solver=sag;, score=nan total time=   0.0s\n",
      "[CV 2/5] END C=2.782559402207126, penalty=l1, solver=sag;, score=nan total time=   0.0s\n",
      "[CV 3/5] END C=2.782559402207126, penalty=l1, solver=sag;, score=nan total time=   0.0s\n",
      "[CV 4/5] END C=2.782559402207126, penalty=l1, solver=sag;, score=nan total time=   0.0s\n",
      "[CV 5/5] END C=2.782559402207126, penalty=l1, solver=sag;, score=nan total time=   0.0s\n",
      "[CV 5/5] END C=2.782559402207126, penalty=none, solver=sag;, score=0.798 total time=  16.9s\n",
      "[CV 5/5] END C=2.782559402207126, penalty=l1, solver=liblinear;, score=0.798 total time=   3.0s\n",
      "[CV 1/5] END C=2.782559402207126, penalty=none, solver=saga;, score=0.760 total time=  21.9s\n",
      "[CV 4/5] END C=2.782559402207126, penalty=none, solver=saga;, score=0.768 total time=  21.3s\n",
      "[CV 5/5] END C=2.782559402207126, penalty=none, solver=saga;, score=0.798 total time=  20.4s\n",
      "[CV 1/5] END C=2.782559402207126, penalty=l2, solver=newton-cg;, score=0.744 total time=   0.7s\n",
      "[CV 2/5] END C=2.782559402207126, penalty=none, solver=saga;, score=0.776 total time=  23.7s\n",
      "[CV 2/5] END C=2.782559402207126, penalty=l2, solver=newton-cg;, score=0.760 total time=   0.6s\n",
      "[CV 3/5] END C=2.782559402207126, penalty=none, solver=saga;, score=0.784 total time=  23.4s\n",
      "[CV 3/5] END C=2.782559402207126, penalty=l2, solver=newton-cg;, score=0.792 total time=   1.3s\n",
      "[CV 5/5] END C=2.782559402207126, penalty=l2, solver=newton-cg;, score=0.798 total time=   0.9s\n",
      "[CV 4/5] END C=2.782559402207126, penalty=l2, solver=newton-cg;, score=0.744 total time=   1.2s\n",
      "[CV 2/5] END C=2.782559402207126, penalty=l2, solver=lbfgs;, score=0.760 total time=   1.2s\n",
      "[CV 1/5] END C=2.782559402207126, penalty=l2, solver=lbfgs;, score=0.744 total time=   1.4s\n",
      "[CV 3/5] END C=2.782559402207126, penalty=l2, solver=lbfgs;, score=0.792 total time=   1.2s\n",
      "[CV 1/5] END C=2.782559402207126, penalty=l2, solver=liblinear;, score=0.744 total time=   0.4s\n",
      "[CV 2/5] END C=2.782559402207126, penalty=l2, solver=liblinear;, score=0.760 total time=   0.5s\n",
      "[CV 4/5] END C=2.782559402207126, penalty=l2, solver=lbfgs;, score=0.752 total time=   1.3s\n",
      "[CV 5/5] END C=2.782559402207126, penalty=l2, solver=lbfgs;, score=0.798 total time=   1.4s\n",
      "[CV 3/5] END C=2.782559402207126, penalty=l2, solver=liblinear;, score=0.784 total time=   0.4s\n",
      "[CV 4/5] END C=2.782559402207126, penalty=l2, solver=liblinear;, score=0.744 total time=   0.4s\n",
      "[CV 5/5] END C=2.782559402207126, penalty=l2, solver=liblinear;, score=0.790 total time=   0.6s\n",
      "[CV 1/5] END C=2.782559402207126, penalty=l2, solver=sag;, score=0.760 total time=  17.4s\n",
      "[CV 2/5] END C=2.782559402207126, penalty=l2, solver=sag;, score=0.776 total time=  18.1s\n",
      "[CV 1/5] END C=2.782559402207126, penalty=l1, solver=saga;, score=0.760 total time=  35.0s\n",
      "[CV 3/5] END C=2.782559402207126, penalty=l2, solver=sag;, score=0.776 total time=  18.8s\n",
      "[CV 2/5] END C=2.782559402207126, penalty=l1, solver=saga;, score=0.768 total time=  37.8s\n",
      "[CV 3/5] END C=2.782559402207126, penalty=l1, solver=saga;, score=0.784 total time=  37.7s\n",
      "[CV 5/5] END C=2.782559402207126, penalty=l1, solver=saga;, score=0.798 total time=  33.6s\n",
      "[CV 4/5] END C=2.782559402207126, penalty=l1, solver=saga;, score=0.768 total time=  35.2s\n",
      "[CV 1/5] END C=2.782559402207126, penalty=elasticnet, solver=newton-cg;, score=nan total time=   0.0s\n",
      "[CV 2/5] END C=2.782559402207126, penalty=elasticnet, solver=newton-cg;, score=nan total time=   0.0s\n",
      "[CV 3/5] END C=2.782559402207126, penalty=elasticnet, solver=newton-cg;, score=nan total time=   0.0s\n",
      "[CV 4/5] END C=2.782559402207126, penalty=elasticnet, solver=newton-cg;, score=nan total time=   0.0s\n",
      "[CV 5/5] END C=2.782559402207126, penalty=elasticnet, solver=newton-cg;, score=nan total time=   0.0s\n",
      "[CV 1/5] END C=2.782559402207126, penalty=elasticnet, solver=lbfgs;, score=nan total time=   0.0s\n",
      "[CV 2/5] END C=2.782559402207126, penalty=elasticnet, solver=lbfgs;, score=nan total time=   0.0s\n",
      "[CV 3/5] END C=2.782559402207126, penalty=elasticnet, solver=lbfgs;, score=nan total time=   0.0s\n",
      "[CV 4/5] END C=2.782559402207126, penalty=elasticnet, solver=lbfgs;, score=nan total time=   0.0s\n",
      "[CV 5/5] END C=2.782559402207126, penalty=elasticnet, solver=lbfgs;, score=nan total time=   0.0s\n",
      "[CV 1/5] END C=2.782559402207126, penalty=elasticnet, solver=liblinear;, score=nan total time=   0.0s\n",
      "[CV 2/5] END C=2.782559402207126, penalty=elasticnet, solver=liblinear;, score=nan total time=   0.0s\n",
      "[CV 3/5] END C=2.782559402207126, penalty=elasticnet, solver=liblinear;, score=nan total time=   0.0s\n",
      "[CV 4/5] END C=2.782559402207126, penalty=elasticnet, solver=liblinear;, score=nan total time=   0.0s\n",
      "[CV 5/5] END C=2.782559402207126, penalty=elasticnet, solver=liblinear;, score=nan total time=   0.0s\n",
      "[CV 1/5] END C=2.782559402207126, penalty=elasticnet, solver=sag;, score=nan total time=   0.0s\n",
      "[CV 2/5] END C=2.782559402207126, penalty=elasticnet, solver=sag;, score=nan total time=   0.0s\n",
      "[CV 3/5] END C=2.782559402207126, penalty=elasticnet, solver=sag;, score=nan total time=   0.0s\n",
      "[CV 4/5] END C=2.782559402207126, penalty=elasticnet, solver=sag;, score=nan total time=   0.0s\n",
      "[CV 5/5] END C=2.782559402207126, penalty=elasticnet, solver=sag;, score=nan total time=   0.0s\n",
      "[CV 1/5] END C=2.782559402207126, penalty=elasticnet, solver=saga;, score=nan total time=   0.0s\n",
      "[CV 2/5] END C=2.782559402207126, penalty=elasticnet, solver=saga;, score=nan total time=   0.0s\n",
      "[CV 3/5] END C=2.782559402207126, penalty=elasticnet, solver=saga;, score=nan total time=   0.0s\n",
      "[CV 4/5] END C=2.782559402207126, penalty=elasticnet, solver=saga;, score=nan total time=   0.0s\n",
      "[CV 5/5] END C=2.782559402207126, penalty=elasticnet, solver=saga;, score=nan total time=   0.0s\n"
     ]
    },
    {
     "name": "stderr",
     "output_type": "stream",
     "text": [
      "/Users/pdcos/Library/Python/3.8/lib/python/site-packages/sklearn/linear_model/_logistic.py:1483: UserWarning: Setting penalty='none' will ignore the C and l1_ratio parameters\n",
      "  warnings.warn(\n"
     ]
    },
    {
     "name": "stdout",
     "output_type": "stream",
     "text": [
      "[CV 1/5] END C=21.54434690031882, penalty=none, solver=newton-cg;, score=0.752 total time=   0.6s\n"
     ]
    },
    {
     "name": "stderr",
     "output_type": "stream",
     "text": [
      "/Users/pdcos/Library/Python/3.8/lib/python/site-packages/sklearn/linear_model/_logistic.py:1483: UserWarning: Setting penalty='none' will ignore the C and l1_ratio parameters\n",
      "  warnings.warn(\n"
     ]
    },
    {
     "name": "stdout",
     "output_type": "stream",
     "text": [
      "[CV 2/5] END C=21.54434690031882, penalty=none, solver=newton-cg;, score=0.768 total time=   0.6s\n"
     ]
    },
    {
     "name": "stderr",
     "output_type": "stream",
     "text": [
      "/Users/pdcos/Library/Python/3.8/lib/python/site-packages/sklearn/linear_model/_logistic.py:1483: UserWarning: Setting penalty='none' will ignore the C and l1_ratio parameters\n",
      "  warnings.warn(\n"
     ]
    },
    {
     "name": "stdout",
     "output_type": "stream",
     "text": [
      "[CV 3/5] END C=21.54434690031882, penalty=none, solver=newton-cg;, score=0.800 total time=   0.5s\n"
     ]
    },
    {
     "name": "stderr",
     "output_type": "stream",
     "text": [
      "/Users/pdcos/Library/Python/3.8/lib/python/site-packages/sklearn/linear_model/_logistic.py:1483: UserWarning: Setting penalty='none' will ignore the C and l1_ratio parameters\n",
      "  warnings.warn(\n"
     ]
    },
    {
     "name": "stdout",
     "output_type": "stream",
     "text": [
      "[CV 4/5] END C=21.54434690031882, penalty=none, solver=newton-cg;, score=0.752 total time=   0.5s\n"
     ]
    },
    {
     "name": "stderr",
     "output_type": "stream",
     "text": [
      "/Users/pdcos/Library/Python/3.8/lib/python/site-packages/sklearn/linear_model/_logistic.py:1483: UserWarning: Setting penalty='none' will ignore the C and l1_ratio parameters\n",
      "  warnings.warn(\n"
     ]
    },
    {
     "name": "stdout",
     "output_type": "stream",
     "text": [
      "[CV 5/5] END C=21.54434690031882, penalty=none, solver=newton-cg;, score=0.790 total time=   0.6s\n",
      "[CV 1/5] END C=21.54434690031882, penalty=none, solver=lbfgs;, score=0.744 total time=   0.2s\n"
     ]
    },
    {
     "name": "stderr",
     "output_type": "stream",
     "text": [
      "/Users/pdcos/Library/Python/3.8/lib/python/site-packages/sklearn/linear_model/_logistic.py:1483: UserWarning: Setting penalty='none' will ignore the C and l1_ratio parameters\n",
      "  warnings.warn(\n",
      "/Users/pdcos/Library/Python/3.8/lib/python/site-packages/sklearn/linear_model/_logistic.py:1483: UserWarning: Setting penalty='none' will ignore the C and l1_ratio parameters\n",
      "  warnings.warn(\n"
     ]
    },
    {
     "name": "stdout",
     "output_type": "stream",
     "text": [
      "[CV 2/5] END C=21.54434690031882, penalty=none, solver=lbfgs;, score=0.768 total time=   0.3s\n",
      "[CV 3/5] END C=21.54434690031882, penalty=none, solver=lbfgs;, score=0.792 total time=   0.1s\n"
     ]
    },
    {
     "name": "stderr",
     "output_type": "stream",
     "text": [
      "/Users/pdcos/Library/Python/3.8/lib/python/site-packages/sklearn/linear_model/_logistic.py:1483: UserWarning: Setting penalty='none' will ignore the C and l1_ratio parameters\n",
      "  warnings.warn(\n",
      "/Users/pdcos/Library/Python/3.8/lib/python/site-packages/sklearn/linear_model/_logistic.py:1483: UserWarning: Setting penalty='none' will ignore the C and l1_ratio parameters\n",
      "  warnings.warn(\n"
     ]
    },
    {
     "name": "stdout",
     "output_type": "stream",
     "text": [
      "[CV 4/5] END C=21.54434690031882, penalty=none, solver=lbfgs;, score=0.752 total time=   0.1s\n",
      "[CV 5/5] END C=21.54434690031882, penalty=none, solver=lbfgs;, score=0.774 total time=   0.2s\n"
     ]
    },
    {
     "name": "stderr",
     "output_type": "stream",
     "text": [
      "/Users/pdcos/Library/Python/3.8/lib/python/site-packages/sklearn/linear_model/_logistic.py:1483: UserWarning: Setting penalty='none' will ignore the C and l1_ratio parameters\n",
      "  warnings.warn(\n"
     ]
    },
    {
     "name": "stdout",
     "output_type": "stream",
     "text": [
      "[CV 1/5] END C=21.54434690031882, penalty=none, solver=liblinear;, score=nan total time=   0.0s\n",
      "[CV 2/5] END C=21.54434690031882, penalty=none, solver=liblinear;, score=nan total time=   0.0s\n",
      "[CV 3/5] END C=21.54434690031882, penalty=none, solver=liblinear;, score=nan total time=   0.0s\n",
      "[CV 4/5] END C=21.54434690031882, penalty=none, solver=liblinear;, score=nan total time=   0.0s\n",
      "[CV 5/5] END C=21.54434690031882, penalty=none, solver=liblinear;, score=nan total time=   0.0s\n"
     ]
    },
    {
     "name": "stderr",
     "output_type": "stream",
     "text": [
      "/Users/pdcos/Library/Python/3.8/lib/python/site-packages/sklearn/linear_model/_logistic.py:1483: UserWarning: Setting penalty='none' will ignore the C and l1_ratio parameters\n",
      "  warnings.warn(\n"
     ]
    },
    {
     "name": "stdout",
     "output_type": "stream",
     "text": [
      "[CV 4/5] END C=2.782559402207126, penalty=l2, solver=sag;, score=0.760 total time=  19.8s\n"
     ]
    },
    {
     "name": "stderr",
     "output_type": "stream",
     "text": [
      "/Users/pdcos/Library/Python/3.8/lib/python/site-packages/sklearn/linear_model/_logistic.py:1483: UserWarning: Setting penalty='none' will ignore the C and l1_ratio parameters\n",
      "  warnings.warn(\n"
     ]
    },
    {
     "name": "stdout",
     "output_type": "stream",
     "text": [
      "[CV 5/5] END C=2.782559402207126, penalty=l2, solver=sag;, score=0.798 total time=  19.3s\n"
     ]
    },
    {
     "name": "stderr",
     "output_type": "stream",
     "text": [
      "/Users/pdcos/Library/Python/3.8/lib/python/site-packages/sklearn/linear_model/_logistic.py:1483: UserWarning: Setting penalty='none' will ignore the C and l1_ratio parameters\n",
      "  warnings.warn(\n"
     ]
    },
    {
     "name": "stdout",
     "output_type": "stream",
     "text": [
      "[CV 1/5] END C=2.782559402207126, penalty=l2, solver=saga;, score=0.760 total time=  24.6s\n"
     ]
    },
    {
     "name": "stderr",
     "output_type": "stream",
     "text": [
      "/Users/pdcos/Library/Python/3.8/lib/python/site-packages/sklearn/linear_model/_logistic.py:1483: UserWarning: Setting penalty='none' will ignore the C and l1_ratio parameters\n",
      "  warnings.warn(\n"
     ]
    },
    {
     "name": "stdout",
     "output_type": "stream",
     "text": [
      "[CV 2/5] END C=2.782559402207126, penalty=l2, solver=saga;, score=0.776 total time=  27.2s\n"
     ]
    },
    {
     "name": "stderr",
     "output_type": "stream",
     "text": [
      "/Users/pdcos/Library/Python/3.8/lib/python/site-packages/sklearn/linear_model/_logistic.py:1483: UserWarning: Setting penalty='none' will ignore the C and l1_ratio parameters\n",
      "  warnings.warn(\n"
     ]
    },
    {
     "name": "stdout",
     "output_type": "stream",
     "text": [
      "[CV 4/5] END C=2.782559402207126, penalty=l2, solver=saga;, score=0.768 total time=  25.3s\n"
     ]
    },
    {
     "name": "stderr",
     "output_type": "stream",
     "text": [
      "/Users/pdcos/Library/Python/3.8/lib/python/site-packages/sklearn/linear_model/_logistic.py:1483: UserWarning: Setting penalty='none' will ignore the C and l1_ratio parameters\n",
      "  warnings.warn(\n"
     ]
    },
    {
     "name": "stdout",
     "output_type": "stream",
     "text": [
      "[CV 3/5] END C=2.782559402207126, penalty=l2, solver=saga;, score=0.784 total time=  27.6s\n"
     ]
    },
    {
     "name": "stderr",
     "output_type": "stream",
     "text": [
      "/Users/pdcos/Library/Python/3.8/lib/python/site-packages/sklearn/linear_model/_logistic.py:1483: UserWarning: Setting penalty='none' will ignore the C and l1_ratio parameters\n",
      "  warnings.warn(\n"
     ]
    },
    {
     "name": "stdout",
     "output_type": "stream",
     "text": [
      "[CV 5/5] END C=2.782559402207126, penalty=l2, solver=saga;, score=0.798 total time=  24.3s\n"
     ]
    },
    {
     "name": "stderr",
     "output_type": "stream",
     "text": [
      "/Users/pdcos/Library/Python/3.8/lib/python/site-packages/sklearn/linear_model/_logistic.py:1483: UserWarning: Setting penalty='none' will ignore the C and l1_ratio parameters\n",
      "  warnings.warn(\n"
     ]
    },
    {
     "name": "stdout",
     "output_type": "stream",
     "text": [
      "[CV 1/5] END C=21.54434690031882, penalty=none, solver=sag;, score=0.760 total time=  21.0s\n"
     ]
    },
    {
     "name": "stderr",
     "output_type": "stream",
     "text": [
      "/Users/pdcos/Library/Python/3.8/lib/python/site-packages/sklearn/linear_model/_logistic.py:1483: UserWarning: Setting penalty='none' will ignore the C and l1_ratio parameters\n",
      "  warnings.warn(\n"
     ]
    },
    {
     "name": "stdout",
     "output_type": "stream",
     "text": [
      "[CV 2/5] END C=21.54434690031882, penalty=none, solver=sag;, score=0.776 total time=  19.9s\n"
     ]
    },
    {
     "name": "stderr",
     "output_type": "stream",
     "text": [
      "/Users/pdcos/Library/Python/3.8/lib/python/site-packages/sklearn/linear_model/_logistic.py:1483: UserWarning: Setting penalty='none' will ignore the C and l1_ratio parameters\n",
      "  warnings.warn(\n"
     ]
    },
    {
     "name": "stdout",
     "output_type": "stream",
     "text": [
      "[CV 3/5] END C=21.54434690031882, penalty=none, solver=sag;, score=0.776 total time=  20.3s\n",
      "[CV 1/5] END C=21.54434690031882, penalty=l1, solver=newton-cg;, score=nan total time=   0.0s\n",
      "[CV 2/5] END C=21.54434690031882, penalty=l1, solver=newton-cg;, score=nan total time=   0.0s\n",
      "[CV 3/5] END C=21.54434690031882, penalty=l1, solver=newton-cg;, score=nan total time=   0.0s\n",
      "[CV 4/5] END C=21.54434690031882, penalty=l1, solver=newton-cg;, score=nan total time=   0.0s\n",
      "[CV 5/5] END C=21.54434690031882, penalty=l1, solver=newton-cg;, score=nan total time=   0.0s\n",
      "[CV 1/5] END C=21.54434690031882, penalty=l1, solver=lbfgs;, score=nan total time=   0.0s\n",
      "[CV 2/5] END C=21.54434690031882, penalty=l1, solver=lbfgs;, score=nan total time=   0.0s\n",
      "[CV 3/5] END C=21.54434690031882, penalty=l1, solver=lbfgs;, score=nan total time=   0.0s\n",
      "[CV 4/5] END C=21.54434690031882, penalty=l1, solver=lbfgs;, score=nan total time=   0.0s\n",
      "[CV 5/5] END C=21.54434690031882, penalty=l1, solver=lbfgs;, score=nan total time=   0.0s\n",
      "[CV 1/5] END C=21.54434690031882, penalty=l1, solver=liblinear;, score=0.776 total time=   1.8s\n",
      "[CV 4/5] END C=21.54434690031882, penalty=none, solver=sag;, score=0.760 total time=  18.4s\n",
      "[CV 2/5] END C=21.54434690031882, penalty=l1, solver=liblinear;, score=0.792 total time=   1.7s\n",
      "[CV 3/5] END C=21.54434690031882, penalty=l1, solver=liblinear;, score=0.792 total time=   1.7s\n",
      "[CV 4/5] END C=21.54434690031882, penalty=l1, solver=liblinear;, score=0.704 total time=   1.7s\n",
      "[CV 1/5] END C=21.54434690031882, penalty=l1, solver=sag;, score=nan total time=   0.0s\n",
      "[CV 2/5] END C=21.54434690031882, penalty=l1, solver=sag;, score=nan total time=   0.0s\n",
      "[CV 3/5] END C=21.54434690031882, penalty=l1, solver=sag;, score=nan total time=   0.0s\n",
      "[CV 4/5] END C=21.54434690031882, penalty=l1, solver=sag;, score=nan total time=   0.0s\n",
      "[CV 5/5] END C=21.54434690031882, penalty=l1, solver=sag;, score=nan total time=   0.0s\n",
      "[CV 5/5] END C=21.54434690031882, penalty=none, solver=sag;, score=0.798 total time=  17.3s\n",
      "[CV 5/5] END C=21.54434690031882, penalty=l1, solver=liblinear;, score=0.831 total time=   2.0s\n",
      "[CV 1/5] END C=21.54434690031882, penalty=none, solver=saga;, score=0.760 total time=  22.4s\n",
      "[CV 2/5] END C=21.54434690031882, penalty=none, solver=saga;, score=0.776 total time=  25.0s\n",
      "[CV 4/5] END C=21.54434690031882, penalty=none, solver=saga;, score=0.768 total time=  24.8s\n",
      "[CV 1/5] END C=21.54434690031882, penalty=l2, solver=newton-cg;, score=0.752 total time=   1.1s\n",
      "[CV 2/5] END C=21.54434690031882, penalty=l2, solver=newton-cg;, score=0.768 total time=   0.8s\n",
      "[CV 3/5] END C=21.54434690031882, penalty=none, solver=saga;, score=0.784 total time=  27.9s\n",
      "[CV 3/5] END C=21.54434690031882, penalty=l2, solver=newton-cg;, score=0.792 total time=   2.3s\n",
      "[CV 4/5] END C=21.54434690031882, penalty=l2, solver=newton-cg;, score=0.752 total time=   2.5s\n",
      "[CV 5/5] END C=21.54434690031882, penalty=l2, solver=newton-cg;, score=0.790 total time=   0.6s\n",
      "[CV 5/5] END C=21.54434690031882, penalty=none, solver=saga;, score=0.798 total time=  26.8s\n",
      "[CV 1/5] END C=21.54434690031882, penalty=l2, solver=lbfgs;, score=0.752 total time=   1.5s\n",
      "[CV 2/5] END C=21.54434690031882, penalty=l2, solver=lbfgs;, score=0.768 total time=   1.7s\n",
      "[CV 3/5] END C=21.54434690031882, penalty=l2, solver=lbfgs;, score=0.792 total time=   1.5s\n",
      "[CV 4/5] END C=21.54434690031882, penalty=l2, solver=lbfgs;, score=0.752 total time=   1.3s\n",
      "[CV 1/5] END C=21.54434690031882, penalty=l2, solver=liblinear;, score=0.744 total time=   0.5s\n",
      "[CV 2/5] END C=21.54434690031882, penalty=l2, solver=liblinear;, score=0.768 total time=   0.4s\n",
      "[CV 5/5] END C=21.54434690031882, penalty=l2, solver=lbfgs;, score=0.790 total time=   1.5s\n",
      "[CV 3/5] END C=21.54434690031882, penalty=l2, solver=liblinear;, score=0.784 total time=   0.4s\n",
      "[CV 4/5] END C=21.54434690031882, penalty=l2, solver=liblinear;, score=0.744 total time=   0.4s\n",
      "[CV 5/5] END C=21.54434690031882, penalty=l2, solver=liblinear;, score=0.790 total time=   0.4s\n",
      "[CV 1/5] END C=21.54434690031882, penalty=l1, solver=saga;, score=0.760 total time=  40.3s\n",
      "[CV 1/5] END C=21.54434690031882, penalty=l2, solver=sag;, score=0.760 total time=  17.6s\n",
      "[CV 3/5] END C=21.54434690031882, penalty=l2, solver=sag;, score=0.776 total time=  18.2s\n",
      "[CV 2/5] END C=21.54434690031882, penalty=l2, solver=sag;, score=0.776 total time=  18.4s\n",
      "[CV 2/5] END C=21.54434690031882, penalty=l1, solver=saga;, score=0.776 total time=  43.7s\n",
      "[CV 3/5] END C=21.54434690031882, penalty=l1, solver=saga;, score=0.784 total time=  43.8s\n",
      "[CV 4/5] END C=21.54434690031882, penalty=l1, solver=saga;, score=0.768 total time=  39.0s\n",
      "[CV 5/5] END C=21.54434690031882, penalty=l1, solver=saga;, score=0.798 total time=  37.1s\n",
      "[CV 1/5] END C=21.54434690031882, penalty=elasticnet, solver=newton-cg;, score=nan total time=   0.0s\n",
      "[CV 2/5] END C=21.54434690031882, penalty=elasticnet, solver=newton-cg;, score=nan total time=   0.0s\n",
      "[CV 3/5] END C=21.54434690031882, penalty=elasticnet, solver=newton-cg;, score=nan total time=   0.0s\n",
      "[CV 4/5] END C=21.54434690031882, penalty=elasticnet, solver=newton-cg;, score=nan total time=   0.0s\n",
      "[CV 5/5] END C=21.54434690031882, penalty=elasticnet, solver=newton-cg;, score=nan total time=   0.0s\n",
      "[CV 1/5] END C=21.54434690031882, penalty=elasticnet, solver=lbfgs;, score=nan total time=   0.0s\n",
      "[CV 2/5] END C=21.54434690031882, penalty=elasticnet, solver=lbfgs;, score=nan total time=   0.0s\n",
      "[CV 3/5] END C=21.54434690031882, penalty=elasticnet, solver=lbfgs;, score=nan total time=   0.0s\n",
      "[CV 4/5] END C=21.54434690031882, penalty=elasticnet, solver=lbfgs;, score=nan total time=   0.0s\n",
      "[CV 5/5] END C=21.54434690031882, penalty=elasticnet, solver=lbfgs;, score=nan total time=   0.0s\n",
      "[CV 1/5] END C=21.54434690031882, penalty=elasticnet, solver=liblinear;, score=nan total time=   0.0s\n",
      "[CV 2/5] END C=21.54434690031882, penalty=elasticnet, solver=liblinear;, score=nan total time=   0.0s\n",
      "[CV 3/5] END C=21.54434690031882, penalty=elasticnet, solver=liblinear;, score=nan total time=   0.0s\n",
      "[CV 4/5] END C=21.54434690031882, penalty=elasticnet, solver=liblinear;, score=nan total time=   0.0s\n",
      "[CV 5/5] END C=21.54434690031882, penalty=elasticnet, solver=liblinear;, score=nan total time=   0.0s\n",
      "[CV 1/5] END C=21.54434690031882, penalty=elasticnet, solver=sag;, score=nan total time=   0.0s\n",
      "[CV 2/5] END C=21.54434690031882, penalty=elasticnet, solver=sag;, score=nan total time=   0.0s\n",
      "[CV 3/5] END C=21.54434690031882, penalty=elasticnet, solver=sag;, score=nan total time=   0.0s\n",
      "[CV 4/5] END C=21.54434690031882, penalty=elasticnet, solver=sag;, score=nan total time=   0.0s\n",
      "[CV 5/5] END C=21.54434690031882, penalty=elasticnet, solver=sag;, score=nan total time=   0.0s\n",
      "[CV 1/5] END C=21.54434690031882, penalty=elasticnet, solver=saga;, score=nan total time=   0.0s\n",
      "[CV 2/5] END C=21.54434690031882, penalty=elasticnet, solver=saga;, score=nan total time=   0.0s\n",
      "[CV 3/5] END C=21.54434690031882, penalty=elasticnet, solver=saga;, score=nan total time=   0.0s\n",
      "[CV 4/5] END C=21.54434690031882, penalty=elasticnet, solver=saga;, score=nan total time=   0.0s\n",
      "[CV 5/5] END C=21.54434690031882, penalty=elasticnet, solver=saga;, score=nan total time=   0.0s\n"
     ]
    },
    {
     "name": "stderr",
     "output_type": "stream",
     "text": [
      "/Users/pdcos/Library/Python/3.8/lib/python/site-packages/sklearn/linear_model/_logistic.py:1483: UserWarning: Setting penalty='none' will ignore the C and l1_ratio parameters\n",
      "  warnings.warn(\n"
     ]
    },
    {
     "name": "stdout",
     "output_type": "stream",
     "text": [
      "[CV 1/5] END C=166.81005372000558, penalty=none, solver=newton-cg;, score=0.752 total time=   0.3s\n"
     ]
    },
    {
     "name": "stderr",
     "output_type": "stream",
     "text": [
      "/Users/pdcos/Library/Python/3.8/lib/python/site-packages/sklearn/linear_model/_logistic.py:1483: UserWarning: Setting penalty='none' will ignore the C and l1_ratio parameters\n",
      "  warnings.warn(\n"
     ]
    },
    {
     "name": "stdout",
     "output_type": "stream",
     "text": [
      "[CV 2/5] END C=166.81005372000558, penalty=none, solver=newton-cg;, score=0.768 total time=   0.4s\n"
     ]
    },
    {
     "name": "stderr",
     "output_type": "stream",
     "text": [
      "/Users/pdcos/Library/Python/3.8/lib/python/site-packages/sklearn/linear_model/_logistic.py:1483: UserWarning: Setting penalty='none' will ignore the C and l1_ratio parameters\n",
      "  warnings.warn(\n"
     ]
    },
    {
     "name": "stdout",
     "output_type": "stream",
     "text": [
      "[CV 3/5] END C=166.81005372000558, penalty=none, solver=newton-cg;, score=0.800 total time=   0.4s\n"
     ]
    },
    {
     "name": "stderr",
     "output_type": "stream",
     "text": [
      "/Users/pdcos/Library/Python/3.8/lib/python/site-packages/sklearn/linear_model/_logistic.py:1483: UserWarning: Setting penalty='none' will ignore the C and l1_ratio parameters\n",
      "  warnings.warn(\n"
     ]
    },
    {
     "name": "stdout",
     "output_type": "stream",
     "text": [
      "[CV 4/5] END C=166.81005372000558, penalty=none, solver=newton-cg;, score=0.752 total time=   0.3s\n"
     ]
    },
    {
     "name": "stderr",
     "output_type": "stream",
     "text": [
      "/Users/pdcos/Library/Python/3.8/lib/python/site-packages/sklearn/linear_model/_logistic.py:1483: UserWarning: Setting penalty='none' will ignore the C and l1_ratio parameters\n",
      "  warnings.warn(\n"
     ]
    },
    {
     "name": "stdout",
     "output_type": "stream",
     "text": [
      "[CV 5/5] END C=166.81005372000558, penalty=none, solver=newton-cg;, score=0.790 total time=   0.4s\n",
      "[CV 1/5] END C=166.81005372000558, penalty=none, solver=lbfgs;, score=0.744 total time=   0.1s\n"
     ]
    },
    {
     "name": "stderr",
     "output_type": "stream",
     "text": [
      "/Users/pdcos/Library/Python/3.8/lib/python/site-packages/sklearn/linear_model/_logistic.py:1483: UserWarning: Setting penalty='none' will ignore the C and l1_ratio parameters\n",
      "  warnings.warn(\n",
      "/Users/pdcos/Library/Python/3.8/lib/python/site-packages/sklearn/linear_model/_logistic.py:1483: UserWarning: Setting penalty='none' will ignore the C and l1_ratio parameters\n",
      "  warnings.warn(\n"
     ]
    },
    {
     "name": "stdout",
     "output_type": "stream",
     "text": [
      "[CV 2/5] END C=166.81005372000558, penalty=none, solver=lbfgs;, score=0.768 total time=   0.1s\n",
      "[CV 3/5] END C=166.81005372000558, penalty=none, solver=lbfgs;, score=0.792 total time=   0.1s\n"
     ]
    },
    {
     "name": "stderr",
     "output_type": "stream",
     "text": [
      "/Users/pdcos/Library/Python/3.8/lib/python/site-packages/sklearn/linear_model/_logistic.py:1483: UserWarning: Setting penalty='none' will ignore the C and l1_ratio parameters\n",
      "  warnings.warn(\n",
      "/Users/pdcos/Library/Python/3.8/lib/python/site-packages/sklearn/linear_model/_logistic.py:1483: UserWarning: Setting penalty='none' will ignore the C and l1_ratio parameters\n",
      "  warnings.warn(\n"
     ]
    },
    {
     "name": "stdout",
     "output_type": "stream",
     "text": [
      "[CV 4/5] END C=166.81005372000558, penalty=none, solver=lbfgs;, score=0.752 total time=   0.1s\n",
      "[CV 5/5] END C=166.81005372000558, penalty=none, solver=lbfgs;, score=0.774 total time=   0.1s\n",
      "[CV 1/5] END C=166.81005372000558, penalty=none, solver=liblinear;, score=nan total time=   0.0s\n",
      "[CV 2/5] END C=166.81005372000558, penalty=none, solver=liblinear;, score=nan total time=   0.0s\n",
      "[CV 3/5] END C=166.81005372000558, penalty=none, solver=liblinear;, score=nan total time=   0.0s\n",
      "[CV 4/5] END C=166.81005372000558, penalty=none, solver=liblinear;, score=nan total time=   0.0s\n",
      "[CV 5/5] END C=166.81005372000558, penalty=none, solver=liblinear;, score=nan total time=   0.0s\n"
     ]
    },
    {
     "name": "stderr",
     "output_type": "stream",
     "text": [
      "/Users/pdcos/Library/Python/3.8/lib/python/site-packages/sklearn/linear_model/_logistic.py:1483: UserWarning: Setting penalty='none' will ignore the C and l1_ratio parameters\n",
      "  warnings.warn(\n",
      "/Users/pdcos/Library/Python/3.8/lib/python/site-packages/sklearn/linear_model/_logistic.py:1483: UserWarning: Setting penalty='none' will ignore the C and l1_ratio parameters\n",
      "  warnings.warn(\n"
     ]
    },
    {
     "name": "stdout",
     "output_type": "stream",
     "text": [
      "[CV 5/5] END C=21.54434690031882, penalty=l2, solver=sag;, score=0.798 total time=  16.7s\n",
      "[CV 4/5] END C=21.54434690031882, penalty=l2, solver=sag;, score=0.760 total time=  17.1s\n"
     ]
    },
    {
     "name": "stderr",
     "output_type": "stream",
     "text": [
      "/Users/pdcos/Library/Python/3.8/lib/python/site-packages/sklearn/linear_model/_logistic.py:1483: UserWarning: Setting penalty='none' will ignore the C and l1_ratio parameters\n",
      "  warnings.warn(\n",
      "/Users/pdcos/Library/Python/3.8/lib/python/site-packages/sklearn/linear_model/_logistic.py:1483: UserWarning: Setting penalty='none' will ignore the C and l1_ratio parameters\n",
      "  warnings.warn(\n"
     ]
    },
    {
     "name": "stdout",
     "output_type": "stream",
     "text": [
      "[CV 1/5] END C=21.54434690031882, penalty=l2, solver=saga;, score=0.760 total time=  21.0s\n"
     ]
    },
    {
     "name": "stderr",
     "output_type": "stream",
     "text": [
      "/Users/pdcos/Library/Python/3.8/lib/python/site-packages/sklearn/linear_model/_logistic.py:1483: UserWarning: Setting penalty='none' will ignore the C and l1_ratio parameters\n",
      "  warnings.warn(\n"
     ]
    },
    {
     "name": "stdout",
     "output_type": "stream",
     "text": [
      "[CV 2/5] END C=21.54434690031882, penalty=l2, solver=saga;, score=0.776 total time=  22.1s\n"
     ]
    },
    {
     "name": "stderr",
     "output_type": "stream",
     "text": [
      "/Users/pdcos/Library/Python/3.8/lib/python/site-packages/sklearn/linear_model/_logistic.py:1483: UserWarning: Setting penalty='none' will ignore the C and l1_ratio parameters\n",
      "  warnings.warn(\n"
     ]
    },
    {
     "name": "stdout",
     "output_type": "stream",
     "text": [
      "[CV 5/5] END C=21.54434690031882, penalty=l2, solver=saga;, score=0.798 total time=  19.8s\n"
     ]
    },
    {
     "name": "stderr",
     "output_type": "stream",
     "text": [
      "/Users/pdcos/Library/Python/3.8/lib/python/site-packages/sklearn/linear_model/_logistic.py:1483: UserWarning: Setting penalty='none' will ignore the C and l1_ratio parameters\n",
      "  warnings.warn(\n"
     ]
    },
    {
     "name": "stdout",
     "output_type": "stream",
     "text": [
      "[CV 4/5] END C=21.54434690031882, penalty=l2, solver=saga;, score=0.768 total time=  20.7s\n"
     ]
    },
    {
     "name": "stderr",
     "output_type": "stream",
     "text": [
      "/Users/pdcos/Library/Python/3.8/lib/python/site-packages/sklearn/linear_model/_logistic.py:1483: UserWarning: Setting penalty='none' will ignore the C and l1_ratio parameters\n",
      "  warnings.warn(\n"
     ]
    },
    {
     "name": "stdout",
     "output_type": "stream",
     "text": [
      "[CV 3/5] END C=21.54434690031882, penalty=l2, solver=saga;, score=0.784 total time=  22.4s\n"
     ]
    },
    {
     "name": "stderr",
     "output_type": "stream",
     "text": [
      "/Users/pdcos/Library/Python/3.8/lib/python/site-packages/sklearn/linear_model/_logistic.py:1483: UserWarning: Setting penalty='none' will ignore the C and l1_ratio parameters\n",
      "  warnings.warn(\n"
     ]
    },
    {
     "name": "stdout",
     "output_type": "stream",
     "text": [
      "[CV 1/5] END C=166.81005372000558, penalty=none, solver=sag;, score=0.760 total time=  16.9s\n"
     ]
    },
    {
     "name": "stderr",
     "output_type": "stream",
     "text": [
      "/Users/pdcos/Library/Python/3.8/lib/python/site-packages/sklearn/linear_model/_logistic.py:1483: UserWarning: Setting penalty='none' will ignore the C and l1_ratio parameters\n",
      "  warnings.warn(\n"
     ]
    },
    {
     "name": "stdout",
     "output_type": "stream",
     "text": [
      "[CV 2/5] END C=166.81005372000558, penalty=none, solver=sag;, score=0.776 total time=  18.2s\n"
     ]
    },
    {
     "name": "stderr",
     "output_type": "stream",
     "text": [
      "/Users/pdcos/Library/Python/3.8/lib/python/site-packages/sklearn/linear_model/_logistic.py:1483: UserWarning: Setting penalty='none' will ignore the C and l1_ratio parameters\n",
      "  warnings.warn(\n"
     ]
    },
    {
     "name": "stdout",
     "output_type": "stream",
     "text": [
      "[CV 3/5] END C=166.81005372000558, penalty=none, solver=sag;, score=0.784 total time=  18.6s\n",
      "[CV 1/5] END C=166.81005372000558, penalty=l1, solver=newton-cg;, score=nan total time=   0.0s\n",
      "[CV 2/5] END C=166.81005372000558, penalty=l1, solver=newton-cg;, score=nan total time=   0.0s\n",
      "[CV 3/5] END C=166.81005372000558, penalty=l1, solver=newton-cg;, score=nan total time=   0.0s\n",
      "[CV 4/5] END C=166.81005372000558, penalty=l1, solver=newton-cg;, score=nan total time=   0.0s\n",
      "[CV 5/5] END C=166.81005372000558, penalty=l1, solver=newton-cg;, score=nan total time=   0.0s\n",
      "[CV 1/5] END C=166.81005372000558, penalty=l1, solver=lbfgs;, score=nan total time=   0.0s\n",
      "[CV 2/5] END C=166.81005372000558, penalty=l1, solver=lbfgs;, score=nan total time=   0.0s\n",
      "[CV 3/5] END C=166.81005372000558, penalty=l1, solver=lbfgs;, score=nan total time=   0.0s\n",
      "[CV 4/5] END C=166.81005372000558, penalty=l1, solver=lbfgs;, score=nan total time=   0.0s\n",
      "[CV 5/5] END C=166.81005372000558, penalty=l1, solver=lbfgs;, score=nan total time=   0.0s\n",
      "[CV 1/5] END C=166.81005372000558, penalty=l1, solver=liblinear;, score=0.792 total time=   1.2s\n",
      "[CV 2/5] END C=166.81005372000558, penalty=l1, solver=liblinear;, score=0.800 total time=   1.5s\n",
      "[CV 3/5] END C=166.81005372000558, penalty=l1, solver=liblinear;, score=0.800 total time=   1.3s\n",
      "[CV 4/5] END C=166.81005372000558, penalty=none, solver=sag;, score=0.760 total time=  17.9s\n",
      "[CV 5/5] END C=166.81005372000558, penalty=none, solver=sag;, score=0.798 total time=  17.0s\n",
      "[CV 1/5] END C=166.81005372000558, penalty=l1, solver=sag;, score=nan total time=   0.0s\n",
      "[CV 2/5] END C=166.81005372000558, penalty=l1, solver=sag;, score=nan total time=   0.0s\n",
      "[CV 3/5] END C=166.81005372000558, penalty=l1, solver=sag;, score=nan total time=   0.0s\n",
      "[CV 4/5] END C=166.81005372000558, penalty=l1, solver=sag;, score=nan total time=   0.0s\n",
      "[CV 5/5] END C=166.81005372000558, penalty=l1, solver=sag;, score=nan total time=   0.0s\n",
      "[CV 4/5] END C=166.81005372000558, penalty=l1, solver=liblinear;, score=0.728 total time=   1.3s\n",
      "[CV 5/5] END C=166.81005372000558, penalty=l1, solver=liblinear;, score=0.782 total time=   1.3s\n",
      "[CV 1/5] END C=166.81005372000558, penalty=none, solver=saga;, score=0.760 total time=  21.8s\n",
      "[CV 4/5] END C=166.81005372000558, penalty=none, solver=saga;, score=0.768 total time=  21.2s\n",
      "[CV 2/5] END C=166.81005372000558, penalty=none, solver=saga;, score=0.776 total time=  23.1s\n",
      "[CV 1/5] END C=166.81005372000558, penalty=l2, solver=newton-cg;, score=0.752 total time=   0.4s\n",
      "[CV 3/5] END C=166.81005372000558, penalty=none, solver=saga;, score=0.784 total time=  23.4s\n",
      "[CV 2/5] END C=166.81005372000558, penalty=l2, solver=newton-cg;, score=0.768 total time=   0.5s\n",
      "[CV 3/5] END C=166.81005372000558, penalty=l2, solver=newton-cg;, score=0.792 total time=   0.3s\n",
      "[CV 4/5] END C=166.81005372000558, penalty=l2, solver=newton-cg;, score=0.744 total time=   0.3s\n",
      "[CV 5/5] END C=166.81005372000558, penalty=l2, solver=newton-cg;, score=0.790 total time=   0.4s\n",
      "[CV 1/5] END C=166.81005372000558, penalty=l2, solver=lbfgs;, score=0.752 total time=   0.9s\n",
      "[CV 2/5] END C=166.81005372000558, penalty=l2, solver=lbfgs;, score=0.768 total time=   1.0s\n",
      "[CV 3/5] END C=166.81005372000558, penalty=l2, solver=lbfgs;, score=0.792 total time=   1.0s\n",
      "[CV 4/5] END C=166.81005372000558, penalty=l2, solver=lbfgs;, score=0.752 total time=   0.9s\n",
      "[CV 1/5] END C=166.81005372000558, penalty=l2, solver=liblinear;, score=0.736 total time=   0.4s\n",
      "[CV 2/5] END C=166.81005372000558, penalty=l2, solver=liblinear;, score=0.760 total time=   0.5s\n",
      "[CV 5/5] END C=166.81005372000558, penalty=l2, solver=lbfgs;, score=0.790 total time=   1.1s\n",
      "[CV 3/5] END C=166.81005372000558, penalty=l2, solver=liblinear;, score=0.784 total time=   0.5s\n",
      "[CV 4/5] END C=166.81005372000558, penalty=l2, solver=liblinear;, score=0.744 total time=   0.5s\n",
      "[CV 5/5] END C=166.81005372000558, penalty=l2, solver=liblinear;, score=0.790 total time=   0.5s\n",
      "[CV 5/5] END C=166.81005372000558, penalty=none, solver=saga;, score=0.798 total time=  20.5s\n",
      "[CV 1/5] END C=166.81005372000558, penalty=l2, solver=sag;, score=0.760 total time=  17.5s\n",
      "[CV 2/5] END C=166.81005372000558, penalty=l2, solver=sag;, score=0.776 total time=  17.8s\n",
      "[CV 1/5] END C=166.81005372000558, penalty=l1, solver=saga;, score=0.760 total time=  33.2s\n",
      "[CV 3/5] END C=166.81005372000558, penalty=l2, solver=sag;, score=0.776 total time=  17.9s\n",
      "[CV 2/5] END C=166.81005372000558, penalty=l1, solver=saga;, score=0.776 total time=  35.4s\n",
      "[CV 3/5] END C=166.81005372000558, penalty=l1, solver=saga;, score=0.784 total time=  35.6s\n",
      "[CV 4/5] END C=166.81005372000558, penalty=l1, solver=saga;, score=0.768 total time=  31.8s\n",
      "[CV 5/5] END C=166.81005372000558, penalty=l1, solver=saga;, score=0.798 total time=  31.5s\n",
      "[CV 1/5] END C=166.81005372000558, penalty=elasticnet, solver=newton-cg;, score=nan total time=   0.0s\n",
      "[CV 2/5] END C=166.81005372000558, penalty=elasticnet, solver=newton-cg;, score=nan total time=   0.0s\n",
      "[CV 3/5] END C=166.81005372000558, penalty=elasticnet, solver=newton-cg;, score=nan total time=   0.0s\n",
      "[CV 4/5] END C=166.81005372000558, penalty=elasticnet, solver=newton-cg;, score=nan total time=   0.0s\n",
      "[CV 5/5] END C=166.81005372000558, penalty=elasticnet, solver=newton-cg;, score=nan total time=   0.0s\n",
      "[CV 1/5] END C=166.81005372000558, penalty=elasticnet, solver=lbfgs;, score=nan total time=   0.0s\n",
      "[CV 2/5] END C=166.81005372000558, penalty=elasticnet, solver=lbfgs;, score=nan total time=   0.0s\n",
      "[CV 3/5] END C=166.81005372000558, penalty=elasticnet, solver=lbfgs;, score=nan total time=   0.0s\n",
      "[CV 4/5] END C=166.81005372000558, penalty=elasticnet, solver=lbfgs;, score=nan total time=   0.0s\n",
      "[CV 5/5] END C=166.81005372000558, penalty=elasticnet, solver=lbfgs;, score=nan total time=   0.0s\n",
      "[CV 1/5] END C=166.81005372000558, penalty=elasticnet, solver=liblinear;, score=nan total time=   0.0s\n",
      "[CV 2/5] END C=166.81005372000558, penalty=elasticnet, solver=liblinear;, score=nan total time=   0.0s\n",
      "[CV 3/5] END C=166.81005372000558, penalty=elasticnet, solver=liblinear;, score=nan total time=   0.0s\n",
      "[CV 4/5] END C=166.81005372000558, penalty=elasticnet, solver=liblinear;, score=nan total time=   0.0s\n",
      "[CV 5/5] END C=166.81005372000558, penalty=elasticnet, solver=liblinear;, score=nan total time=   0.0s\n",
      "[CV 1/5] END C=166.81005372000558, penalty=elasticnet, solver=sag;, score=nan total time=   0.0s\n",
      "[CV 2/5] END C=166.81005372000558, penalty=elasticnet, solver=sag;, score=nan total time=   0.0s\n",
      "[CV 3/5] END C=166.81005372000558, penalty=elasticnet, solver=sag;, score=nan total time=   0.0s\n",
      "[CV 4/5] END C=166.81005372000558, penalty=elasticnet, solver=sag;, score=nan total time=   0.0s\n",
      "[CV 5/5] END C=166.81005372000558, penalty=elasticnet, solver=sag;, score=nan total time=   0.0s\n",
      "[CV 1/5] END C=166.81005372000558, penalty=elasticnet, solver=saga;, score=nan total time=   0.0s\n",
      "[CV 2/5] END C=166.81005372000558, penalty=elasticnet, solver=saga;, score=nan total time=   0.0s\n",
      "[CV 3/5] END C=166.81005372000558, penalty=elasticnet, solver=saga;, score=nan total time=   0.0s\n",
      "[CV 4/5] END C=166.81005372000558, penalty=elasticnet, solver=saga;, score=nan total time=   0.0s\n",
      "[CV 5/5] END C=166.81005372000558, penalty=elasticnet, solver=saga;, score=nan total time=   0.0s\n"
     ]
    },
    {
     "name": "stderr",
     "output_type": "stream",
     "text": [
      "/Users/pdcos/Library/Python/3.8/lib/python/site-packages/sklearn/linear_model/_logistic.py:1483: UserWarning: Setting penalty='none' will ignore the C and l1_ratio parameters\n",
      "  warnings.warn(\n"
     ]
    },
    {
     "name": "stdout",
     "output_type": "stream",
     "text": [
      "[CV 1/5] END C=1291.5496650148827, penalty=none, solver=newton-cg;, score=0.752 total time=   0.4s\n"
     ]
    },
    {
     "name": "stderr",
     "output_type": "stream",
     "text": [
      "/Users/pdcos/Library/Python/3.8/lib/python/site-packages/sklearn/linear_model/_logistic.py:1483: UserWarning: Setting penalty='none' will ignore the C and l1_ratio parameters\n",
      "  warnings.warn(\n"
     ]
    },
    {
     "name": "stdout",
     "output_type": "stream",
     "text": [
      "[CV 2/5] END C=1291.5496650148827, penalty=none, solver=newton-cg;, score=0.768 total time=   0.3s\n"
     ]
    },
    {
     "name": "stderr",
     "output_type": "stream",
     "text": [
      "/Users/pdcos/Library/Python/3.8/lib/python/site-packages/sklearn/linear_model/_logistic.py:1483: UserWarning: Setting penalty='none' will ignore the C and l1_ratio parameters\n",
      "  warnings.warn(\n"
     ]
    },
    {
     "name": "stdout",
     "output_type": "stream",
     "text": [
      "[CV 3/5] END C=1291.5496650148827, penalty=none, solver=newton-cg;, score=0.800 total time=   0.5s\n"
     ]
    },
    {
     "name": "stderr",
     "output_type": "stream",
     "text": [
      "/Users/pdcos/Library/Python/3.8/lib/python/site-packages/sklearn/linear_model/_logistic.py:1483: UserWarning: Setting penalty='none' will ignore the C and l1_ratio parameters\n",
      "  warnings.warn(\n"
     ]
    },
    {
     "name": "stdout",
     "output_type": "stream",
     "text": [
      "[CV 4/5] END C=1291.5496650148827, penalty=none, solver=newton-cg;, score=0.752 total time=   0.4s\n"
     ]
    },
    {
     "name": "stderr",
     "output_type": "stream",
     "text": [
      "/Users/pdcos/Library/Python/3.8/lib/python/site-packages/sklearn/linear_model/_logistic.py:1483: UserWarning: Setting penalty='none' will ignore the C and l1_ratio parameters\n",
      "  warnings.warn(\n"
     ]
    },
    {
     "name": "stdout",
     "output_type": "stream",
     "text": [
      "[CV 5/5] END C=1291.5496650148827, penalty=none, solver=newton-cg;, score=0.790 total time=   0.5s\n"
     ]
    },
    {
     "name": "stderr",
     "output_type": "stream",
     "text": [
      "/Users/pdcos/Library/Python/3.8/lib/python/site-packages/sklearn/linear_model/_logistic.py:1483: UserWarning: Setting penalty='none' will ignore the C and l1_ratio parameters\n",
      "  warnings.warn(\n"
     ]
    },
    {
     "name": "stdout",
     "output_type": "stream",
     "text": [
      "[CV 1/5] END C=1291.5496650148827, penalty=none, solver=lbfgs;, score=0.744 total time=   0.3s\n",
      "[CV 2/5] END C=1291.5496650148827, penalty=none, solver=lbfgs;, score=0.768 total time=   0.1s\n"
     ]
    },
    {
     "name": "stderr",
     "output_type": "stream",
     "text": [
      "/Users/pdcos/Library/Python/3.8/lib/python/site-packages/sklearn/linear_model/_logistic.py:1483: UserWarning: Setting penalty='none' will ignore the C and l1_ratio parameters\n",
      "  warnings.warn(\n",
      "/Users/pdcos/Library/Python/3.8/lib/python/site-packages/sklearn/linear_model/_logistic.py:1483: UserWarning: Setting penalty='none' will ignore the C and l1_ratio parameters\n",
      "  warnings.warn(\n"
     ]
    },
    {
     "name": "stdout",
     "output_type": "stream",
     "text": [
      "[CV 3/5] END C=1291.5496650148827, penalty=none, solver=lbfgs;, score=0.792 total time=   0.1s\n"
     ]
    },
    {
     "name": "stderr",
     "output_type": "stream",
     "text": [
      "/Users/pdcos/Library/Python/3.8/lib/python/site-packages/sklearn/linear_model/_logistic.py:1483: UserWarning: Setting penalty='none' will ignore the C and l1_ratio parameters\n",
      "  warnings.warn(\n"
     ]
    },
    {
     "name": "stdout",
     "output_type": "stream",
     "text": [
      "[CV 4/5] END C=1291.5496650148827, penalty=none, solver=lbfgs;, score=0.752 total time=   0.3s\n",
      "[CV 5/5] END C=1291.5496650148827, penalty=none, solver=lbfgs;, score=0.774 total time=   0.1s\n",
      "[CV 1/5] END C=1291.5496650148827, penalty=none, solver=liblinear;, score=nan total time=   0.0s\n",
      "[CV 2/5] END C=1291.5496650148827, penalty=none, solver=liblinear;, score=nan total time=   0.0s\n",
      "[CV 3/5] END C=1291.5496650148827, penalty=none, solver=liblinear;, score=nan total time=   0.0s\n",
      "[CV 4/5] END C=1291.5496650148827, penalty=none, solver=liblinear;, score=nan total time=   0.0s\n",
      "[CV 5/5] END C=1291.5496650148827, penalty=none, solver=liblinear;, score=nan total time=   0.0s\n"
     ]
    },
    {
     "name": "stderr",
     "output_type": "stream",
     "text": [
      "/Users/pdcos/Library/Python/3.8/lib/python/site-packages/sklearn/linear_model/_logistic.py:1483: UserWarning: Setting penalty='none' will ignore the C and l1_ratio parameters\n",
      "  warnings.warn(\n",
      "/Users/pdcos/Library/Python/3.8/lib/python/site-packages/sklearn/linear_model/_logistic.py:1483: UserWarning: Setting penalty='none' will ignore the C and l1_ratio parameters\n",
      "  warnings.warn(\n"
     ]
    },
    {
     "name": "stdout",
     "output_type": "stream",
     "text": [
      "[CV 4/5] END C=166.81005372000558, penalty=l2, solver=sag;, score=0.760 total time=  18.4s\n"
     ]
    },
    {
     "name": "stderr",
     "output_type": "stream",
     "text": [
      "/Users/pdcos/Library/Python/3.8/lib/python/site-packages/sklearn/linear_model/_logistic.py:1483: UserWarning: Setting penalty='none' will ignore the C and l1_ratio parameters\n",
      "  warnings.warn(\n"
     ]
    },
    {
     "name": "stdout",
     "output_type": "stream",
     "text": [
      "[CV 5/5] END C=166.81005372000558, penalty=l2, solver=sag;, score=0.798 total time=  18.1s\n"
     ]
    },
    {
     "name": "stderr",
     "output_type": "stream",
     "text": [
      "/Users/pdcos/Library/Python/3.8/lib/python/site-packages/sklearn/linear_model/_logistic.py:1483: UserWarning: Setting penalty='none' will ignore the C and l1_ratio parameters\n",
      "  warnings.warn(\n"
     ]
    },
    {
     "name": "stdout",
     "output_type": "stream",
     "text": [
      "[CV 1/5] END C=166.81005372000558, penalty=l2, solver=saga;, score=0.760 total time=  23.6s\n"
     ]
    },
    {
     "name": "stderr",
     "output_type": "stream",
     "text": [
      "/Users/pdcos/Library/Python/3.8/lib/python/site-packages/sklearn/linear_model/_logistic.py:1483: UserWarning: Setting penalty='none' will ignore the C and l1_ratio parameters\n",
      "  warnings.warn(\n"
     ]
    },
    {
     "name": "stdout",
     "output_type": "stream",
     "text": [
      "[CV 2/5] END C=166.81005372000558, penalty=l2, solver=saga;, score=0.776 total time=  25.0s\n"
     ]
    },
    {
     "name": "stderr",
     "output_type": "stream",
     "text": [
      "/Users/pdcos/Library/Python/3.8/lib/python/site-packages/sklearn/linear_model/_logistic.py:1483: UserWarning: Setting penalty='none' will ignore the C and l1_ratio parameters\n",
      "  warnings.warn(\n"
     ]
    },
    {
     "name": "stdout",
     "output_type": "stream",
     "text": [
      "[CV 4/5] END C=166.81005372000558, penalty=l2, solver=saga;, score=0.768 total time=  23.7s\n"
     ]
    },
    {
     "name": "stderr",
     "output_type": "stream",
     "text": [
      "/Users/pdcos/Library/Python/3.8/lib/python/site-packages/sklearn/linear_model/_logistic.py:1483: UserWarning: Setting penalty='none' will ignore the C and l1_ratio parameters\n",
      "  warnings.warn(\n"
     ]
    },
    {
     "name": "stdout",
     "output_type": "stream",
     "text": [
      "[CV 5/5] END C=166.81005372000558, penalty=l2, solver=saga;, score=0.798 total time=  23.1s\n"
     ]
    },
    {
     "name": "stderr",
     "output_type": "stream",
     "text": [
      "/Users/pdcos/Library/Python/3.8/lib/python/site-packages/sklearn/linear_model/_logistic.py:1483: UserWarning: Setting penalty='none' will ignore the C and l1_ratio parameters\n",
      "  warnings.warn(\n"
     ]
    },
    {
     "name": "stdout",
     "output_type": "stream",
     "text": [
      "[CV 3/5] END C=166.81005372000558, penalty=l2, solver=saga;, score=0.784 total time=  26.5s\n",
      "[CV 1/5] END C=1291.5496650148827, penalty=none, solver=sag;, score=0.760 total time=  20.1s\n"
     ]
    },
    {
     "name": "stderr",
     "output_type": "stream",
     "text": [
      "/Users/pdcos/Library/Python/3.8/lib/python/site-packages/sklearn/linear_model/_logistic.py:1483: UserWarning: Setting penalty='none' will ignore the C and l1_ratio parameters\n",
      "  warnings.warn(\n",
      "/Users/pdcos/Library/Python/3.8/lib/python/site-packages/sklearn/linear_model/_logistic.py:1483: UserWarning: Setting penalty='none' will ignore the C and l1_ratio parameters\n",
      "  warnings.warn(\n"
     ]
    },
    {
     "name": "stdout",
     "output_type": "stream",
     "text": [
      "[CV 2/5] END C=1291.5496650148827, penalty=none, solver=sag;, score=0.776 total time=  21.0s\n"
     ]
    },
    {
     "name": "stderr",
     "output_type": "stream",
     "text": [
      "/Users/pdcos/Library/Python/3.8/lib/python/site-packages/sklearn/linear_model/_logistic.py:1483: UserWarning: Setting penalty='none' will ignore the C and l1_ratio parameters\n",
      "  warnings.warn(\n"
     ]
    },
    {
     "name": "stdout",
     "output_type": "stream",
     "text": [
      "[CV 3/5] END C=1291.5496650148827, penalty=none, solver=sag;, score=0.776 total time=  21.3s\n",
      "[CV 1/5] END C=1291.5496650148827, penalty=l1, solver=newton-cg;, score=nan total time=   0.0s\n",
      "[CV 2/5] END C=1291.5496650148827, penalty=l1, solver=newton-cg;, score=nan total time=   0.0s\n",
      "[CV 3/5] END C=1291.5496650148827, penalty=l1, solver=newton-cg;, score=nan total time=   0.0s\n",
      "[CV 4/5] END C=1291.5496650148827, penalty=l1, solver=newton-cg;, score=nan total time=   0.0s\n",
      "[CV 5/5] END C=1291.5496650148827, penalty=l1, solver=newton-cg;, score=nan total time=   0.0s\n",
      "[CV 1/5] END C=1291.5496650148827, penalty=l1, solver=lbfgs;, score=nan total time=   0.0s\n",
      "[CV 2/5] END C=1291.5496650148827, penalty=l1, solver=lbfgs;, score=nan total time=   0.0s\n",
      "[CV 3/5] END C=1291.5496650148827, penalty=l1, solver=lbfgs;, score=nan total time=   0.0s\n",
      "[CV 4/5] END C=1291.5496650148827, penalty=l1, solver=lbfgs;, score=nan total time=   0.0s\n",
      "[CV 5/5] END C=1291.5496650148827, penalty=l1, solver=lbfgs;, score=nan total time=   0.0s\n",
      "[CV 1/5] END C=1291.5496650148827, penalty=l1, solver=liblinear;, score=0.776 total time=   1.4s\n",
      "[CV 2/5] END C=1291.5496650148827, penalty=l1, solver=liblinear;, score=0.800 total time=   1.5s\n",
      "[CV 3/5] END C=1291.5496650148827, penalty=l1, solver=liblinear;, score=0.800 total time=   1.6s\n",
      "[CV 4/5] END C=1291.5496650148827, penalty=none, solver=sag;, score=0.760 total time=  19.5s\n",
      "[CV 5/5] END C=1291.5496650148827, penalty=none, solver=sag;, score=0.798 total time=  18.3s\n",
      "[CV 1/5] END C=1291.5496650148827, penalty=l1, solver=sag;, score=nan total time=   0.0s\n",
      "[CV 2/5] END C=1291.5496650148827, penalty=l1, solver=sag;, score=nan total time=   0.0s\n",
      "[CV 3/5] END C=1291.5496650148827, penalty=l1, solver=sag;, score=nan total time=   0.0s\n",
      "[CV 4/5] END C=1291.5496650148827, penalty=l1, solver=sag;, score=nan total time=   0.0s\n",
      "[CV 5/5] END C=1291.5496650148827, penalty=l1, solver=sag;, score=nan total time=   0.0s\n",
      "[CV 4/5] END C=1291.5496650148827, penalty=l1, solver=liblinear;, score=0.728 total time=   1.3s\n",
      "[CV 5/5] END C=1291.5496650148827, penalty=l1, solver=liblinear;, score=0.798 total time=   1.4s\n",
      "[CV 1/5] END C=1291.5496650148827, penalty=none, solver=saga;, score=0.760 total time=  23.0s\n",
      "[CV 4/5] END C=1291.5496650148827, penalty=none, solver=saga;, score=0.768 total time=  22.2s\n",
      "[CV 2/5] END C=1291.5496650148827, penalty=none, solver=saga;, score=0.776 total time=  23.6s\n",
      "[CV 1/5] END C=1291.5496650148827, penalty=l2, solver=newton-cg;, score=0.752 total time=   0.3s\n",
      "[CV 2/5] END C=1291.5496650148827, penalty=l2, solver=newton-cg;, score=0.768 total time=   0.4s\n",
      "[CV 3/5] END C=1291.5496650148827, penalty=l2, solver=newton-cg;, score=0.800 total time=   0.4s\n",
      "[CV 4/5] END C=1291.5496650148827, penalty=l2, solver=newton-cg;, score=0.744 total time=   0.3s\n",
      "[CV 5/5] END C=1291.5496650148827, penalty=l2, solver=newton-cg;, score=0.790 total time=   0.3s\n",
      "[CV 3/5] END C=1291.5496650148827, penalty=none, solver=saga;, score=0.784 total time=  25.0s\n",
      "[CV 1/5] END C=1291.5496650148827, penalty=l2, solver=lbfgs;, score=0.760 total time=   0.8s\n",
      "[CV 2/5] END C=1291.5496650148827, penalty=l2, solver=lbfgs;, score=0.768 total time=   0.9s\n",
      "[CV 3/5] END C=1291.5496650148827, penalty=l2, solver=lbfgs;, score=0.792 total time=   0.7s\n",
      "[CV 4/5] END C=1291.5496650148827, penalty=l2, solver=lbfgs;, score=0.736 total time=   0.7s\n",
      "[CV 5/5] END C=1291.5496650148827, penalty=l2, solver=lbfgs;, score=0.790 total time=   0.7s\n",
      "[CV 1/5] END C=1291.5496650148827, penalty=l2, solver=liblinear;, score=0.744 total time=   0.5s\n",
      "[CV 2/5] END C=1291.5496650148827, penalty=l2, solver=liblinear;, score=0.760 total time=   0.4s\n",
      "[CV 3/5] END C=1291.5496650148827, penalty=l2, solver=liblinear;, score=0.784 total time=   0.5s\n",
      "[CV 4/5] END C=1291.5496650148827, penalty=l2, solver=liblinear;, score=0.744 total time=   0.4s\n",
      "[CV 5/5] END C=1291.5496650148827, penalty=l2, solver=liblinear;, score=0.790 total time=   0.4s\n",
      "[CV 5/5] END C=1291.5496650148827, penalty=none, solver=saga;, score=0.798 total time=  20.7s\n",
      "[CV 1/5] END C=1291.5496650148827, penalty=l2, solver=sag;, score=0.760 total time=  17.9s\n",
      "[CV 2/5] END C=1291.5496650148827, penalty=l2, solver=sag;, score=0.776 total time=  17.9s\n",
      "[CV 3/5] END C=1291.5496650148827, penalty=l2, solver=sag;, score=0.776 total time=  18.3s\n",
      "[CV 1/5] END C=1291.5496650148827, penalty=l1, solver=saga;, score=0.760 total time=  33.5s\n",
      "[CV 2/5] END C=1291.5496650148827, penalty=l1, solver=saga;, score=0.776 total time=  36.1s\n",
      "[CV 3/5] END C=1291.5496650148827, penalty=l1, solver=saga;, score=0.784 total time=  36.4s\n",
      "[CV 4/5] END C=1291.5496650148827, penalty=l1, solver=saga;, score=0.768 total time=  32.4s\n",
      "[CV 5/5] END C=1291.5496650148827, penalty=l1, solver=saga;, score=0.798 total time=  32.4s\n",
      "[CV 1/5] END C=1291.5496650148827, penalty=elasticnet, solver=newton-cg;, score=nan total time=   0.0s\n",
      "[CV 2/5] END C=1291.5496650148827, penalty=elasticnet, solver=newton-cg;, score=nan total time=   0.0s\n",
      "[CV 3/5] END C=1291.5496650148827, penalty=elasticnet, solver=newton-cg;, score=nan total time=   0.0s\n",
      "[CV 4/5] END C=1291.5496650148827, penalty=elasticnet, solver=newton-cg;, score=nan total time=   0.0s\n",
      "[CV 5/5] END C=1291.5496650148827, penalty=elasticnet, solver=newton-cg;, score=nan total time=   0.0s\n",
      "[CV 1/5] END C=1291.5496650148827, penalty=elasticnet, solver=lbfgs;, score=nan total time=   0.0s\n",
      "[CV 2/5] END C=1291.5496650148827, penalty=elasticnet, solver=lbfgs;, score=nan total time=   0.0s\n",
      "[CV 3/5] END C=1291.5496650148827, penalty=elasticnet, solver=lbfgs;, score=nan total time=   0.0s\n",
      "[CV 4/5] END C=1291.5496650148827, penalty=elasticnet, solver=lbfgs;, score=nan total time=   0.0s\n",
      "[CV 5/5] END C=1291.5496650148827, penalty=elasticnet, solver=lbfgs;, score=nan total time=   0.0s\n",
      "[CV 1/5] END C=1291.5496650148827, penalty=elasticnet, solver=liblinear;, score=nan total time=   0.0s\n",
      "[CV 2/5] END C=1291.5496650148827, penalty=elasticnet, solver=liblinear;, score=nan total time=   0.0s\n",
      "[CV 3/5] END C=1291.5496650148827, penalty=elasticnet, solver=liblinear;, score=nan total time=   0.0s\n",
      "[CV 4/5] END C=1291.5496650148827, penalty=elasticnet, solver=liblinear;, score=nan total time=   0.0s\n",
      "[CV 5/5] END C=1291.5496650148827, penalty=elasticnet, solver=liblinear;, score=nan total time=   0.0s\n",
      "[CV 1/5] END C=1291.5496650148827, penalty=elasticnet, solver=sag;, score=nan total time=   0.0s\n",
      "[CV 2/5] END C=1291.5496650148827, penalty=elasticnet, solver=sag;, score=nan total time=   0.0s\n",
      "[CV 3/5] END C=1291.5496650148827, penalty=elasticnet, solver=sag;, score=nan total time=   0.0s\n",
      "[CV 4/5] END C=1291.5496650148827, penalty=elasticnet, solver=sag;, score=nan total time=   0.0s\n",
      "[CV 5/5] END C=1291.5496650148827, penalty=elasticnet, solver=sag;, score=nan total time=   0.0s\n",
      "[CV 1/5] END C=1291.5496650148827, penalty=elasticnet, solver=saga;, score=nan total time=   0.0s\n",
      "[CV 2/5] END C=1291.5496650148827, penalty=elasticnet, solver=saga;, score=nan total time=   0.0s\n",
      "[CV 3/5] END C=1291.5496650148827, penalty=elasticnet, solver=saga;, score=nan total time=   0.0s\n",
      "[CV 4/5] END C=1291.5496650148827, penalty=elasticnet, solver=saga;, score=nan total time=   0.0s\n",
      "[CV 5/5] END C=1291.5496650148827, penalty=elasticnet, solver=saga;, score=nan total time=   0.0s\n"
     ]
    },
    {
     "name": "stderr",
     "output_type": "stream",
     "text": [
      "/Users/pdcos/Library/Python/3.8/lib/python/site-packages/sklearn/linear_model/_logistic.py:1483: UserWarning: Setting penalty='none' will ignore the C and l1_ratio parameters\n",
      "  warnings.warn(\n"
     ]
    },
    {
     "name": "stdout",
     "output_type": "stream",
     "text": [
      "[CV 1/5] END C=10000.0, penalty=none, solver=newton-cg;, score=0.752 total time=   0.4s\n"
     ]
    },
    {
     "name": "stderr",
     "output_type": "stream",
     "text": [
      "/Users/pdcos/Library/Python/3.8/lib/python/site-packages/sklearn/linear_model/_logistic.py:1483: UserWarning: Setting penalty='none' will ignore the C and l1_ratio parameters\n",
      "  warnings.warn(\n"
     ]
    },
    {
     "name": "stdout",
     "output_type": "stream",
     "text": [
      "[CV 2/5] END C=10000.0, penalty=none, solver=newton-cg;, score=0.768 total time=   0.5s\n"
     ]
    },
    {
     "name": "stderr",
     "output_type": "stream",
     "text": [
      "/Users/pdcos/Library/Python/3.8/lib/python/site-packages/sklearn/linear_model/_logistic.py:1483: UserWarning: Setting penalty='none' will ignore the C and l1_ratio parameters\n",
      "  warnings.warn(\n"
     ]
    },
    {
     "name": "stdout",
     "output_type": "stream",
     "text": [
      "[CV 3/5] END C=10000.0, penalty=none, solver=newton-cg;, score=0.800 total time=   0.4s\n"
     ]
    },
    {
     "name": "stderr",
     "output_type": "stream",
     "text": [
      "/Users/pdcos/Library/Python/3.8/lib/python/site-packages/sklearn/linear_model/_logistic.py:1483: UserWarning: Setting penalty='none' will ignore the C and l1_ratio parameters\n",
      "  warnings.warn(\n"
     ]
    },
    {
     "name": "stdout",
     "output_type": "stream",
     "text": [
      "[CV 4/5] END C=10000.0, penalty=none, solver=newton-cg;, score=0.752 total time=   0.3s\n"
     ]
    },
    {
     "name": "stderr",
     "output_type": "stream",
     "text": [
      "/Users/pdcos/Library/Python/3.8/lib/python/site-packages/sklearn/linear_model/_logistic.py:1483: UserWarning: Setting penalty='none' will ignore the C and l1_ratio parameters\n",
      "  warnings.warn(\n"
     ]
    },
    {
     "name": "stdout",
     "output_type": "stream",
     "text": [
      "[CV 5/5] END C=10000.0, penalty=none, solver=newton-cg;, score=0.790 total time=   0.4s\n",
      "[CV 1/5] END C=10000.0, penalty=none, solver=lbfgs;, score=0.744 total time=   0.1s\n"
     ]
    },
    {
     "name": "stderr",
     "output_type": "stream",
     "text": [
      "/Users/pdcos/Library/Python/3.8/lib/python/site-packages/sklearn/linear_model/_logistic.py:1483: UserWarning: Setting penalty='none' will ignore the C and l1_ratio parameters\n",
      "  warnings.warn(\n",
      "/Users/pdcos/Library/Python/3.8/lib/python/site-packages/sklearn/linear_model/_logistic.py:1483: UserWarning: Setting penalty='none' will ignore the C and l1_ratio parameters\n",
      "  warnings.warn(\n"
     ]
    },
    {
     "name": "stdout",
     "output_type": "stream",
     "text": [
      "[CV 2/5] END C=10000.0, penalty=none, solver=lbfgs;, score=0.768 total time=   0.1s\n",
      "[CV 3/5] END C=10000.0, penalty=none, solver=lbfgs;, score=0.792 total time=   0.1s\n"
     ]
    },
    {
     "name": "stderr",
     "output_type": "stream",
     "text": [
      "/Users/pdcos/Library/Python/3.8/lib/python/site-packages/sklearn/linear_model/_logistic.py:1483: UserWarning: Setting penalty='none' will ignore the C and l1_ratio parameters\n",
      "  warnings.warn(\n",
      "/Users/pdcos/Library/Python/3.8/lib/python/site-packages/sklearn/linear_model/_logistic.py:1483: UserWarning: Setting penalty='none' will ignore the C and l1_ratio parameters\n",
      "  warnings.warn(\n"
     ]
    },
    {
     "name": "stdout",
     "output_type": "stream",
     "text": [
      "[CV 4/5] END C=10000.0, penalty=none, solver=lbfgs;, score=0.752 total time=   0.2s\n",
      "[CV 5/5] END C=10000.0, penalty=none, solver=lbfgs;, score=0.774 total time=   0.1s\n",
      "[CV 1/5] END C=10000.0, penalty=none, solver=liblinear;, score=nan total time=   0.0s\n",
      "[CV 2/5] END C=10000.0, penalty=none, solver=liblinear;, score=nan total time=   0.0s\n",
      "[CV 3/5] END C=10000.0, penalty=none, solver=liblinear;, score=nan total time=   0.0s\n",
      "[CV 4/5] END C=10000.0, penalty=none, solver=liblinear;, score=nan total time=   0.0s\n",
      "[CV 5/5] END C=10000.0, penalty=none, solver=liblinear;, score=nan total time=   0.0s\n"
     ]
    },
    {
     "name": "stderr",
     "output_type": "stream",
     "text": [
      "/Users/pdcos/Library/Python/3.8/lib/python/site-packages/sklearn/linear_model/_logistic.py:1483: UserWarning: Setting penalty='none' will ignore the C and l1_ratio parameters\n",
      "  warnings.warn(\n",
      "/Users/pdcos/Library/Python/3.8/lib/python/site-packages/sklearn/linear_model/_logistic.py:1483: UserWarning: Setting penalty='none' will ignore the C and l1_ratio parameters\n",
      "  warnings.warn(\n"
     ]
    },
    {
     "name": "stdout",
     "output_type": "stream",
     "text": [
      "[CV 5/5] END C=1291.5496650148827, penalty=l2, solver=sag;, score=0.798 total time=  16.6s\n"
     ]
    },
    {
     "name": "stderr",
     "output_type": "stream",
     "text": [
      "/Users/pdcos/Library/Python/3.8/lib/python/site-packages/sklearn/linear_model/_logistic.py:1483: UserWarning: Setting penalty='none' will ignore the C and l1_ratio parameters\n",
      "  warnings.warn(\n"
     ]
    },
    {
     "name": "stdout",
     "output_type": "stream",
     "text": [
      "[CV 4/5] END C=1291.5496650148827, penalty=l2, solver=sag;, score=0.760 total time=  17.5s\n"
     ]
    },
    {
     "name": "stderr",
     "output_type": "stream",
     "text": [
      "/Users/pdcos/Library/Python/3.8/lib/python/site-packages/sklearn/linear_model/_logistic.py:1483: UserWarning: Setting penalty='none' will ignore the C and l1_ratio parameters\n",
      "  warnings.warn(\n"
     ]
    },
    {
     "name": "stdout",
     "output_type": "stream",
     "text": [
      "[CV 1/5] END C=1291.5496650148827, penalty=l2, solver=saga;, score=0.760 total time=  21.3s\n"
     ]
    },
    {
     "name": "stderr",
     "output_type": "stream",
     "text": [
      "/Users/pdcos/Library/Python/3.8/lib/python/site-packages/sklearn/linear_model/_logistic.py:1483: UserWarning: Setting penalty='none' will ignore the C and l1_ratio parameters\n",
      "  warnings.warn(\n"
     ]
    },
    {
     "name": "stdout",
     "output_type": "stream",
     "text": [
      "[CV 2/5] END C=1291.5496650148827, penalty=l2, solver=saga;, score=0.776 total time=  23.0s\n"
     ]
    },
    {
     "name": "stderr",
     "output_type": "stream",
     "text": [
      "/Users/pdcos/Library/Python/3.8/lib/python/site-packages/sklearn/linear_model/_logistic.py:1483: UserWarning: Setting penalty='none' will ignore the C and l1_ratio parameters\n",
      "  warnings.warn(\n"
     ]
    },
    {
     "name": "stdout",
     "output_type": "stream",
     "text": [
      "[CV 4/5] END C=1291.5496650148827, penalty=l2, solver=saga;, score=0.768 total time=  20.7s\n"
     ]
    },
    {
     "name": "stderr",
     "output_type": "stream",
     "text": [
      "/Users/pdcos/Library/Python/3.8/lib/python/site-packages/sklearn/linear_model/_logistic.py:1483: UserWarning: Setting penalty='none' will ignore the C and l1_ratio parameters\n",
      "  warnings.warn(\n"
     ]
    },
    {
     "name": "stdout",
     "output_type": "stream",
     "text": [
      "[CV 5/5] END C=1291.5496650148827, penalty=l2, solver=saga;, score=0.798 total time=  20.0s\n"
     ]
    },
    {
     "name": "stderr",
     "output_type": "stream",
     "text": [
      "/Users/pdcos/Library/Python/3.8/lib/python/site-packages/sklearn/linear_model/_logistic.py:1483: UserWarning: Setting penalty='none' will ignore the C and l1_ratio parameters\n",
      "  warnings.warn(\n"
     ]
    },
    {
     "name": "stdout",
     "output_type": "stream",
     "text": [
      "[CV 3/5] END C=1291.5496650148827, penalty=l2, solver=saga;, score=0.784 total time=  23.2s\n"
     ]
    },
    {
     "name": "stderr",
     "output_type": "stream",
     "text": [
      "/Users/pdcos/Library/Python/3.8/lib/python/site-packages/sklearn/linear_model/_logistic.py:1483: UserWarning: Setting penalty='none' will ignore the C and l1_ratio parameters\n",
      "  warnings.warn(\n"
     ]
    },
    {
     "name": "stdout",
     "output_type": "stream",
     "text": [
      "[CV 1/5] END C=10000.0, penalty=none, solver=sag;, score=0.760 total time=  17.4s\n"
     ]
    },
    {
     "name": "stderr",
     "output_type": "stream",
     "text": [
      "/Users/pdcos/Library/Python/3.8/lib/python/site-packages/sklearn/linear_model/_logistic.py:1483: UserWarning: Setting penalty='none' will ignore the C and l1_ratio parameters\n",
      "  warnings.warn(\n"
     ]
    },
    {
     "name": "stdout",
     "output_type": "stream",
     "text": [
      "[CV 2/5] END C=10000.0, penalty=none, solver=sag;, score=0.776 total time=  18.3s\n"
     ]
    },
    {
     "name": "stderr",
     "output_type": "stream",
     "text": [
      "/Users/pdcos/Library/Python/3.8/lib/python/site-packages/sklearn/linear_model/_logistic.py:1483: UserWarning: Setting penalty='none' will ignore the C and l1_ratio parameters\n",
      "  warnings.warn(\n"
     ]
    },
    {
     "name": "stdout",
     "output_type": "stream",
     "text": [
      "[CV 3/5] END C=10000.0, penalty=none, solver=sag;, score=0.776 total time=  18.5s\n",
      "[CV 1/5] END C=10000.0, penalty=l1, solver=newton-cg;, score=nan total time=   0.0s\n",
      "[CV 2/5] END C=10000.0, penalty=l1, solver=newton-cg;, score=nan total time=   0.0s\n",
      "[CV 3/5] END C=10000.0, penalty=l1, solver=newton-cg;, score=nan total time=   0.0s\n",
      "[CV 4/5] END C=10000.0, penalty=l1, solver=newton-cg;, score=nan total time=   0.0s\n",
      "[CV 5/5] END C=10000.0, penalty=l1, solver=newton-cg;, score=nan total time=   0.0s\n",
      "[CV 1/5] END .C=10000.0, penalty=l1, solver=lbfgs;, score=nan total time=   0.0s\n",
      "[CV 2/5] END .C=10000.0, penalty=l1, solver=lbfgs;, score=nan total time=   0.0s\n",
      "[CV 3/5] END .C=10000.0, penalty=l1, solver=lbfgs;, score=nan total time=   0.0s\n",
      "[CV 4/5] END .C=10000.0, penalty=l1, solver=lbfgs;, score=nan total time=   0.0s\n",
      "[CV 5/5] END .C=10000.0, penalty=l1, solver=lbfgs;, score=nan total time=   0.0s\n",
      "[CV 1/5] END C=10000.0, penalty=l1, solver=liblinear;, score=0.776 total time=   1.3s\n",
      "[CV 2/5] END C=10000.0, penalty=l1, solver=liblinear;, score=0.800 total time=   1.3s\n",
      "[CV 4/5] END C=10000.0, penalty=none, solver=sag;, score=0.760 total time=  17.3s\n",
      "[CV 3/5] END C=10000.0, penalty=l1, solver=liblinear;, score=0.800 total time=   1.4s\n",
      "[CV 4/5] END C=10000.0, penalty=l1, solver=liblinear;, score=0.728 total time=   1.3s\n",
      "[CV 1/5] END ...C=10000.0, penalty=l1, solver=sag;, score=nan total time=   0.0s\n",
      "[CV 2/5] END ...C=10000.0, penalty=l1, solver=sag;, score=nan total time=   0.0s\n",
      "[CV 3/5] END ...C=10000.0, penalty=l1, solver=sag;, score=nan total time=   0.0s\n",
      "[CV 4/5] END ...C=10000.0, penalty=l1, solver=sag;, score=nan total time=   0.0s\n",
      "[CV 5/5] END ...C=10000.0, penalty=l1, solver=sag;, score=nan total time=   0.0s\n",
      "[CV 5/5] END C=10000.0, penalty=l1, solver=liblinear;, score=0.782 total time=   1.3s\n",
      "[CV 5/5] END C=10000.0, penalty=none, solver=sag;, score=0.798 total time=  16.7s\n",
      "[CV 1/5] END C=10000.0, penalty=none, solver=saga;, score=0.760 total time=  21.3s\n",
      "[CV 4/5] END C=10000.0, penalty=none, solver=saga;, score=0.768 total time=  21.4s\n",
      "[CV 2/5] END C=10000.0, penalty=none, solver=saga;, score=0.776 total time=  23.3s\n",
      "[CV 1/5] END C=10000.0, penalty=l2, solver=newton-cg;, score=0.752 total time=   0.4s\n",
      "[CV 3/5] END C=10000.0, penalty=none, solver=saga;, score=0.784 total time=  23.0s\n",
      "[CV 2/5] END C=10000.0, penalty=l2, solver=newton-cg;, score=0.768 total time=   0.4s\n",
      "[CV 3/5] END C=10000.0, penalty=l2, solver=newton-cg;, score=0.792 total time=   0.4s\n",
      "[CV 4/5] END C=10000.0, penalty=l2, solver=newton-cg;, score=0.744 total time=   0.3s\n",
      "[CV 5/5] END C=10000.0, penalty=l2, solver=newton-cg;, score=0.790 total time=   0.4s\n",
      "[CV 1/5] END C=10000.0, penalty=l2, solver=lbfgs;, score=0.744 total time=   0.4s\n",
      "[CV 2/5] END C=10000.0, penalty=l2, solver=lbfgs;, score=0.800 total time=   0.4s\n",
      "[CV 3/5] END C=10000.0, penalty=l2, solver=lbfgs;, score=0.808 total time=   0.3s\n",
      "[CV 5/5] END C=10000.0, penalty=l2, solver=lbfgs;, score=0.774 total time=   0.3s\n",
      "[CV 4/5] END C=10000.0, penalty=l2, solver=lbfgs;, score=0.744 total time=   0.5s\n",
      "[CV 1/5] END C=10000.0, penalty=l2, solver=liblinear;, score=0.744 total time=   0.4s\n",
      "[CV 2/5] END C=10000.0, penalty=l2, solver=liblinear;, score=0.760 total time=   0.5s\n",
      "[CV 3/5] END C=10000.0, penalty=l2, solver=liblinear;, score=0.784 total time=   0.4s\n",
      "[CV 4/5] END C=10000.0, penalty=l2, solver=liblinear;, score=0.744 total time=   0.4s\n",
      "[CV 5/5] END C=10000.0, penalty=l2, solver=liblinear;, score=0.790 total time=   0.4s\n",
      "[CV 5/5] END C=10000.0, penalty=none, solver=saga;, score=0.798 total time=  20.8s\n",
      "[CV 1/5] END .C=10000.0, penalty=l2, solver=sag;, score=0.760 total time=  18.1s\n",
      "[CV 2/5] END .C=10000.0, penalty=l2, solver=sag;, score=0.776 total time=  18.2s\n",
      "[CV 3/5] END .C=10000.0, penalty=l2, solver=sag;, score=0.776 total time=  18.4s\n",
      "[CV 1/5] END C=10000.0, penalty=l1, solver=saga;, score=0.760 total time=  33.6s\n",
      "[CV 2/5] END C=10000.0, penalty=l1, solver=saga;, score=0.776 total time=  36.1s\n",
      "[CV 3/5] END C=10000.0, penalty=l1, solver=saga;, score=0.784 total time=  36.0s\n",
      "[CV 4/5] END C=10000.0, penalty=l1, solver=saga;, score=0.768 total time=  32.7s\n",
      "[CV 5/5] END C=10000.0, penalty=l1, solver=saga;, score=0.798 total time=  31.8s\n",
      "[CV 1/5] END C=10000.0, penalty=elasticnet, solver=newton-cg;, score=nan total time=   0.0s\n",
      "[CV 2/5] END C=10000.0, penalty=elasticnet, solver=newton-cg;, score=nan total time=   0.0s\n",
      "[CV 3/5] END C=10000.0, penalty=elasticnet, solver=newton-cg;, score=nan total time=   0.0s\n",
      "[CV 4/5] END C=10000.0, penalty=elasticnet, solver=newton-cg;, score=nan total time=   0.0s\n",
      "[CV 5/5] END C=10000.0, penalty=elasticnet, solver=newton-cg;, score=nan total time=   0.0s\n",
      "[CV 1/5] END C=10000.0, penalty=elasticnet, solver=lbfgs;, score=nan total time=   0.0s\n",
      "[CV 2/5] END C=10000.0, penalty=elasticnet, solver=lbfgs;, score=nan total time=   0.0s\n",
      "[CV 3/5] END C=10000.0, penalty=elasticnet, solver=lbfgs;, score=nan total time=   0.0s\n",
      "[CV 4/5] END C=10000.0, penalty=elasticnet, solver=lbfgs;, score=nan total time=   0.0s\n",
      "[CV 5/5] END C=10000.0, penalty=elasticnet, solver=lbfgs;, score=nan total time=   0.0s\n",
      "[CV 1/5] END C=10000.0, penalty=elasticnet, solver=liblinear;, score=nan total time=   0.0s\n",
      "[CV 2/5] END C=10000.0, penalty=elasticnet, solver=liblinear;, score=nan total time=   0.0s\n",
      "[CV 3/5] END C=10000.0, penalty=elasticnet, solver=liblinear;, score=nan total time=   0.0s\n",
      "[CV 4/5] END C=10000.0, penalty=elasticnet, solver=liblinear;, score=nan total time=   0.0s\n",
      "[CV 5/5] END C=10000.0, penalty=elasticnet, solver=liblinear;, score=nan total time=   0.0s\n",
      "[CV 1/5] END C=10000.0, penalty=elasticnet, solver=sag;, score=nan total time=   0.0s\n",
      "[CV 2/5] END C=10000.0, penalty=elasticnet, solver=sag;, score=nan total time=   0.0s\n",
      "[CV 3/5] END C=10000.0, penalty=elasticnet, solver=sag;, score=nan total time=   0.0s\n",
      "[CV 4/5] END C=10000.0, penalty=elasticnet, solver=sag;, score=nan total time=   0.0s\n",
      "[CV 5/5] END C=10000.0, penalty=elasticnet, solver=sag;, score=nan total time=   0.0s\n",
      "[CV 1/5] END C=10000.0, penalty=elasticnet, solver=saga;, score=nan total time=   0.0s\n",
      "[CV 2/5] END C=10000.0, penalty=elasticnet, solver=saga;, score=nan total time=   0.0s\n",
      "[CV 3/5] END C=10000.0, penalty=elasticnet, solver=saga;, score=nan total time=   0.0s\n",
      "[CV 4/5] END C=10000.0, penalty=elasticnet, solver=saga;, score=nan total time=   0.0s\n",
      "[CV 5/5] END C=10000.0, penalty=elasticnet, solver=saga;, score=nan total time=   0.0s\n",
      "[CV 4/5] END .C=10000.0, penalty=l2, solver=sag;, score=0.760 total time=  16.4s\n",
      "[CV 5/5] END .C=10000.0, penalty=l2, solver=sag;, score=0.798 total time=  16.3s\n",
      "[CV 1/5] END C=10000.0, penalty=l2, solver=saga;, score=0.760 total time=  19.1s\n",
      "[CV 2/5] END C=10000.0, penalty=l2, solver=saga;, score=0.776 total time=  20.4s\n",
      "[CV 4/5] END C=10000.0, penalty=l2, solver=saga;, score=0.768 total time=  18.1s\n",
      "[CV 3/5] END C=10000.0, penalty=l2, solver=saga;, score=0.784 total time=  19.2s\n",
      "[CV 5/5] END C=10000.0, penalty=l2, solver=saga;, score=0.798 total time=  16.2s\n"
     ]
    },
    {
     "name": "stderr",
     "output_type": "stream",
     "text": [
      "/Users/pdcos/Library/Python/3.8/lib/python/site-packages/sklearn/model_selection/_validation.py:372: FitFailedWarning: \n",
      "450 fits failed out of a total of 1000.\n",
      "The score on these train-test partitions for these parameters will be set to nan.\n",
      "If these failures are not expected, you can try to debug them by setting error_score='raise'.\n",
      "\n",
      "Below are more details about the failures:\n",
      "--------------------------------------------------------------------------------\n",
      "50 fits failed with the following error:\n",
      "Traceback (most recent call last):\n",
      "  File \"/Users/pdcos/Library/Python/3.8/lib/python/site-packages/sklearn/model_selection/_validation.py\", line 680, in _fit_and_score\n",
      "    estimator.fit(X_train, y_train, **fit_params)\n",
      "  File \"/Users/pdcos/Library/Python/3.8/lib/python/site-packages/sklearn/linear_model/_logistic.py\", line 1461, in fit\n",
      "    solver = _check_solver(self.solver, self.penalty, self.dual)\n",
      "  File \"/Users/pdcos/Library/Python/3.8/lib/python/site-packages/sklearn/linear_model/_logistic.py\", line 464, in _check_solver\n",
      "    raise ValueError(\"penalty='none' is not supported for the liblinear solver\")\n",
      "ValueError: penalty='none' is not supported for the liblinear solver\n",
      "\n",
      "--------------------------------------------------------------------------------\n",
      "50 fits failed with the following error:\n",
      "Traceback (most recent call last):\n",
      "  File \"/Users/pdcos/Library/Python/3.8/lib/python/site-packages/sklearn/model_selection/_validation.py\", line 680, in _fit_and_score\n",
      "    estimator.fit(X_train, y_train, **fit_params)\n",
      "  File \"/Users/pdcos/Library/Python/3.8/lib/python/site-packages/sklearn/linear_model/_logistic.py\", line 1461, in fit\n",
      "    solver = _check_solver(self.solver, self.penalty, self.dual)\n",
      "  File \"/Users/pdcos/Library/Python/3.8/lib/python/site-packages/sklearn/linear_model/_logistic.py\", line 447, in _check_solver\n",
      "    raise ValueError(\n",
      "ValueError: Solver newton-cg supports only 'l2' or 'none' penalties, got l1 penalty.\n",
      "\n",
      "--------------------------------------------------------------------------------\n",
      "50 fits failed with the following error:\n",
      "Traceback (most recent call last):\n",
      "  File \"/Users/pdcos/Library/Python/3.8/lib/python/site-packages/sklearn/model_selection/_validation.py\", line 680, in _fit_and_score\n",
      "    estimator.fit(X_train, y_train, **fit_params)\n",
      "  File \"/Users/pdcos/Library/Python/3.8/lib/python/site-packages/sklearn/linear_model/_logistic.py\", line 1461, in fit\n",
      "    solver = _check_solver(self.solver, self.penalty, self.dual)\n",
      "  File \"/Users/pdcos/Library/Python/3.8/lib/python/site-packages/sklearn/linear_model/_logistic.py\", line 447, in _check_solver\n",
      "    raise ValueError(\n",
      "ValueError: Solver lbfgs supports only 'l2' or 'none' penalties, got l1 penalty.\n",
      "\n",
      "--------------------------------------------------------------------------------\n",
      "50 fits failed with the following error:\n",
      "Traceback (most recent call last):\n",
      "  File \"/Users/pdcos/Library/Python/3.8/lib/python/site-packages/sklearn/model_selection/_validation.py\", line 680, in _fit_and_score\n",
      "    estimator.fit(X_train, y_train, **fit_params)\n",
      "  File \"/Users/pdcos/Library/Python/3.8/lib/python/site-packages/sklearn/linear_model/_logistic.py\", line 1461, in fit\n",
      "    solver = _check_solver(self.solver, self.penalty, self.dual)\n",
      "  File \"/Users/pdcos/Library/Python/3.8/lib/python/site-packages/sklearn/linear_model/_logistic.py\", line 447, in _check_solver\n",
      "    raise ValueError(\n",
      "ValueError: Solver sag supports only 'l2' or 'none' penalties, got l1 penalty.\n",
      "\n",
      "--------------------------------------------------------------------------------\n",
      "50 fits failed with the following error:\n",
      "Traceback (most recent call last):\n",
      "  File \"/Users/pdcos/Library/Python/3.8/lib/python/site-packages/sklearn/model_selection/_validation.py\", line 680, in _fit_and_score\n",
      "    estimator.fit(X_train, y_train, **fit_params)\n",
      "  File \"/Users/pdcos/Library/Python/3.8/lib/python/site-packages/sklearn/linear_model/_logistic.py\", line 1461, in fit\n",
      "    solver = _check_solver(self.solver, self.penalty, self.dual)\n",
      "  File \"/Users/pdcos/Library/Python/3.8/lib/python/site-packages/sklearn/linear_model/_logistic.py\", line 447, in _check_solver\n",
      "    raise ValueError(\n",
      "ValueError: Solver newton-cg supports only 'l2' or 'none' penalties, got elasticnet penalty.\n",
      "\n",
      "--------------------------------------------------------------------------------\n",
      "50 fits failed with the following error:\n",
      "Traceback (most recent call last):\n",
      "  File \"/Users/pdcos/Library/Python/3.8/lib/python/site-packages/sklearn/model_selection/_validation.py\", line 680, in _fit_and_score\n",
      "    estimator.fit(X_train, y_train, **fit_params)\n",
      "  File \"/Users/pdcos/Library/Python/3.8/lib/python/site-packages/sklearn/linear_model/_logistic.py\", line 1461, in fit\n",
      "    solver = _check_solver(self.solver, self.penalty, self.dual)\n",
      "  File \"/Users/pdcos/Library/Python/3.8/lib/python/site-packages/sklearn/linear_model/_logistic.py\", line 447, in _check_solver\n",
      "    raise ValueError(\n",
      "ValueError: Solver lbfgs supports only 'l2' or 'none' penalties, got elasticnet penalty.\n",
      "\n",
      "--------------------------------------------------------------------------------\n",
      "50 fits failed with the following error:\n",
      "Traceback (most recent call last):\n",
      "  File \"/Users/pdcos/Library/Python/3.8/lib/python/site-packages/sklearn/model_selection/_validation.py\", line 680, in _fit_and_score\n",
      "    estimator.fit(X_train, y_train, **fit_params)\n",
      "  File \"/Users/pdcos/Library/Python/3.8/lib/python/site-packages/sklearn/linear_model/_logistic.py\", line 1461, in fit\n",
      "    solver = _check_solver(self.solver, self.penalty, self.dual)\n",
      "  File \"/Users/pdcos/Library/Python/3.8/lib/python/site-packages/sklearn/linear_model/_logistic.py\", line 457, in _check_solver\n",
      "    raise ValueError(\n",
      "ValueError: Only 'saga' solver supports elasticnet penalty, got solver=liblinear.\n",
      "\n",
      "--------------------------------------------------------------------------------\n",
      "50 fits failed with the following error:\n",
      "Traceback (most recent call last):\n",
      "  File \"/Users/pdcos/Library/Python/3.8/lib/python/site-packages/sklearn/model_selection/_validation.py\", line 680, in _fit_and_score\n",
      "    estimator.fit(X_train, y_train, **fit_params)\n",
      "  File \"/Users/pdcos/Library/Python/3.8/lib/python/site-packages/sklearn/linear_model/_logistic.py\", line 1461, in fit\n",
      "    solver = _check_solver(self.solver, self.penalty, self.dual)\n",
      "  File \"/Users/pdcos/Library/Python/3.8/lib/python/site-packages/sklearn/linear_model/_logistic.py\", line 447, in _check_solver\n",
      "    raise ValueError(\n",
      "ValueError: Solver sag supports only 'l2' or 'none' penalties, got elasticnet penalty.\n",
      "\n",
      "--------------------------------------------------------------------------------\n",
      "50 fits failed with the following error:\n",
      "Traceback (most recent call last):\n",
      "  File \"/Users/pdcos/Library/Python/3.8/lib/python/site-packages/sklearn/model_selection/_validation.py\", line 680, in _fit_and_score\n",
      "    estimator.fit(X_train, y_train, **fit_params)\n",
      "  File \"/Users/pdcos/Library/Python/3.8/lib/python/site-packages/sklearn/linear_model/_logistic.py\", line 1471, in fit\n",
      "    raise ValueError(\n",
      "ValueError: l1_ratio must be between 0 and 1; got (l1_ratio=None)\n",
      "\n",
      "  warnings.warn(some_fits_failed_message, FitFailedWarning)\n",
      "/Users/pdcos/Library/Python/3.8/lib/python/site-packages/sklearn/model_selection/_search.py:969: UserWarning: One or more of the test scores are non-finite: [0.77246452 0.76603871        nan 0.77407742 0.77727742        nan\n",
      "        nan 0.26922581        nan 0.73077419 0.76447742 0.76607742\n",
      " 0.76607742 0.76446452 0.76606452        nan        nan        nan\n",
      "        nan        nan 0.77246452 0.76603871        nan 0.77407742\n",
      " 0.77727742        nan        nan 0.70517419        nan 0.70036129\n",
      " 0.77407742 0.77409032 0.77409032 0.77889032 0.78047742        nan\n",
      "        nan        nan        nan        nan 0.77246452 0.76603871\n",
      "        nan 0.77407742 0.77727742        nan        nan 0.7484\n",
      "        nan 0.7548129  0.76607742 0.76607742 0.76607742 0.77407742\n",
      " 0.77889032        nan        nan        nan        nan        nan\n",
      " 0.77246452 0.76603871        nan 0.77567742 0.77727742        nan\n",
      "        nan 0.77247742        nan 0.76930323 0.76607742 0.76767742\n",
      " 0.76767742 0.77567742 0.77727742        nan        nan        nan\n",
      "        nan        nan 0.77246452 0.76603871        nan 0.77407742\n",
      " 0.77727742        nan        nan 0.78049032        nan 0.77247742\n",
      " 0.76767742 0.77087742 0.76767742 0.77407742 0.77727742        nan\n",
      "        nan        nan        nan        nan 0.77246452 0.76603871\n",
      "        nan 0.77407742 0.77727742        nan        nan 0.77247742\n",
      "        nan 0.77567742 0.76767742 0.76927742 0.76446452 0.77407742\n",
      " 0.77727742        nan        nan        nan        nan        nan\n",
      " 0.77246452 0.76603871        nan 0.77407742 0.77727742        nan\n",
      "        nan 0.77892903        nan 0.77727742 0.77086452 0.77086452\n",
      " 0.76606452 0.77407742 0.77727742        nan        nan        nan\n",
      "        nan        nan 0.77246452 0.76603871        nan 0.77567742\n",
      " 0.77727742        nan        nan 0.78045161        nan 0.77727742\n",
      " 0.76926452 0.77086452 0.76286452 0.77407742 0.77727742        nan\n",
      "        nan        nan        nan        nan 0.77246452 0.76603871\n",
      "        nan 0.77407742 0.77727742        nan        nan 0.78047742\n",
      "        nan 0.77727742 0.77086452 0.76926452 0.76446452 0.77407742\n",
      " 0.77727742        nan        nan        nan        nan        nan\n",
      " 0.77246452 0.76603871        nan 0.77407742 0.77727742        nan\n",
      "        nan 0.77725161        nan 0.77727742 0.76926452 0.77403871\n",
      " 0.76446452 0.77407742 0.77727742        nan        nan        nan\n",
      "        nan        nan]\n",
      "  warnings.warn(\n"
     ]
    }
   ],
   "source": [
    "from sklearn.model_selection import GridSearchCV\n",
    "\n",
    "solvers = [\"newton-cg\", \"lbfgs\", \"liblinear\", \"sag\", \"saga\"]\n",
    "penalties = [\"none\", \"l1\", \"l2\", \"elasticnet\"]\n",
    "c_values = np.logspace(-4, 4, 10)\n",
    "lr_grid = dict(solver=solvers, penalty=penalties, C=c_values)\n",
    "lr_model = LogisticRegression(max_iter=5000, class_weight=\"balanced\")\n",
    "\n",
    "lr_grid_search = GridSearchCV(estimator=lr_model, param_grid=lr_grid, n_jobs=os.cpu_count(), cv=5, verbose=3)\n",
    "lr_grid_result = lr_grid_search.fit(x_train_val, y_train_val)"
   ]
  },
  {
   "cell_type": "code",
   "execution_count": 50,
   "metadata": {},
   "outputs": [
    {
     "data": {
      "text/plain": [
       "array([[ 44,  44,  40, ..., 204, 168, 160],\n",
       "       [ 72,  84,  76, ..., 104,  88,  76],\n",
       "       [116, 108,  92, ...,  52,  60,  32],\n",
       "       ...,\n",
       "       [124, 128, 156, ..., 200, 220, 224],\n",
       "       [220, 228, 244, ...,  56,  60,  60],\n",
       "       [120, 124, 176, ...,  80,  84,  80]], dtype=uint8)"
      ]
     },
     "execution_count": 50,
     "metadata": {},
     "output_type": "execute_result"
    }
   ],
   "source": [
    "x_train * 4"
   ]
  },
  {
   "cell_type": "code",
   "execution_count": 49,
   "metadata": {},
   "outputs": [
    {
     "data": {
      "text/plain": [
       "array([[139, 139, 138, ...,  51,  42,  40],\n",
       "       [ 82,  85,  83, ...,  26,  22,  19],\n",
       "       [157, 155, 151, ...,  77,  79,  72],\n",
       "       ...,\n",
       "       [159, 160, 167, ...,  50,  55,  56],\n",
       "       [ 55,  57,  61, ...,  14,  15,  15],\n",
       "       [158, 159, 172, ...,  20,  21,  20]], dtype=uint8)"
      ]
     },
     "execution_count": 49,
     "metadata": {},
     "output_type": "execute_result"
    }
   ],
   "source": [
    "x_train"
   ]
  },
  {
   "cell_type": "code",
   "execution_count": 79,
   "metadata": {},
   "outputs": [
    {
     "data": {
      "text/plain": [
       "{'C': 0.3593813663804626, 'penalty': 'l1', 'solver': 'liblinear'}"
      ]
     },
     "execution_count": 79,
     "metadata": {},
     "output_type": "execute_result"
    }
   ],
   "source": [
    "lr_grid_result.best_params_\n"
   ]
  },
  {
   "cell_type": "code",
   "execution_count": 80,
   "metadata": {},
   "outputs": [
    {
     "data": {
      "text/plain": [
       "0.7884615384615384"
      ]
     },
     "execution_count": 80,
     "metadata": {},
     "output_type": "execute_result"
    }
   ],
   "source": [
    "lr_best_model = LogisticRegression(penalty=\"l1\", C=0.3593813663804626, solver='liblinear')\n",
    "lr_best_model.fit(x_train_val, y_train_val)\n",
    "lr_best_model.score(x_test,y_test)"
   ]
  },
  {
   "cell_type": "code",
   "execution_count": 84,
   "metadata": {},
   "outputs": [
    {
     "data": {
      "text/plain": [
       "array([[24, 15],\n",
       "       [18, 99]])"
      ]
     },
     "metadata": {},
     "output_type": "display_data"
    },
    {
     "name": "stdout",
     "output_type": "stream",
     "text": [
      "              precision    recall  f1-score   support\n",
      "\n",
      "           0       0.62      0.57      0.59        42\n",
      "           1       0.85      0.87      0.86       114\n",
      "\n",
      "    accuracy                           0.79       156\n",
      "   macro avg       0.73      0.72      0.72       156\n",
      "weighted avg       0.78      0.79      0.79       156\n",
      "\n"
     ]
    }
   ],
   "source": [
    "from sklearn.metrics import confusion_matrix, classification_report\n",
    "prediction = lr_best_model.predict(x_test)\n",
    "cm = confusion_matrix(prediction, y_test)\n",
    "display(cm)\n",
    "report = classification_report(y_test, prediction)\n",
    "print(report)"
   ]
  },
  {
   "cell_type": "markdown",
   "metadata": {},
   "source": [
    "# KNN"
   ]
  },
  {
   "cell_type": "code",
   "execution_count": null,
   "metadata": {},
   "outputs": [],
   "source": [
    "from sklearn.neighbors import KNeighborsClassifier\n",
    "\n",
    "knn = KNeighborsClassifier()"
   ]
  }
 ],
 "metadata": {
  "kernelspec": {
   "display_name": "Python 3.8.9 64-bit",
   "language": "python",
   "name": "python3"
  },
  "language_info": {
   "codemirror_mode": {
    "name": "ipython",
    "version": 3
   },
   "file_extension": ".py",
   "mimetype": "text/x-python",
   "name": "python",
   "nbconvert_exporter": "python",
   "pygments_lexer": "ipython3",
   "version": "3.8.9"
  },
  "orig_nbformat": 4,
  "vscode": {
   "interpreter": {
    "hash": "31f2aee4e71d21fbe5cf8b01ff0e069b9275f58929596ceb00d14d90e3e16cd6"
   }
  }
 },
 "nbformat": 4,
 "nbformat_minor": 2
}
